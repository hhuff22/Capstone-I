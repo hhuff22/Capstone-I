{
 "cells": [
  {
   "cell_type": "markdown",
   "metadata": {},
   "source": [
    "Herman Huff\n",
    "\n",
    "Springboard Data Science Capstone Project I\n",
    "\n",
    "# <center> Capstone Project I </center>\n",
    "\n",
    "## Introduction\n",
    "Problem Statement: Exploring the impact of socioeconomic features on heart disease prediction in US zip codes.\n",
    "\n",
    "#### Background\n",
    "\n",
    "Heart disease is the leading cause of death in the United States, causing more than 600,000 deaths annually. This project will examine various risk factors for heart disease and seek to determine which combination of factors optimally predict heart disease prevalence per zip code. The project will focus on zip codes within the largest 500 cities in the US, as health data is available for these zip codes through the CDC’s 500 Cities project. Additionally, socioeconomic and fast food restaurant datasets will be incorporated.\n",
    "\n",
    "#### Impact\n",
    "\n",
    "This model can help to increase preventative and interventional efforts by identifying new socioeconomic features of heart disease and quantifying the impact of previously known socioeconomic features. This is beneficial to legislature and organizations seeking to decrease the prevalence of heart disease by giving them new targets to work on and helping to quantify their efforts.\n",
    "\n",
    "#### Datasets\n",
    "\n",
    "##### 500 Cities: Local Data for Better Health\n",
    "\n",
    "This dataset comes from the CDC’s collaborative project that provides small area estimates for disease risk factors, outcomes and preventative service use. The project delivers data for the 497 largest cities in America and represents approximately one-hundred million people, approximately 33% of the US population. There are 810103 entries, each representing a measure of health data for a census tract. There are 24 columns specifying features of these measures. Some useful features include geographic area information and population counts.\n",
    "\n",
    "##### HUD-USPS ZIP Crosswalk Files\n",
    "\n",
    "This is a dataset maintained by the US Department of Housing and Development. It contains census tracts and their corresponding zip codes. It is created using the 2010 census data along with USPS Vacancy Data, which is updated quarterly. It should be noted that some census tracts are within multiple zip codes and this will be addressed during data wrangling.\n",
    "\n",
    "\n",
    "##### fastfoodmaps.com\n",
    "\n",
    "This is a dataset that provides locations of fast food restaurants all over the US. It was built in 2007 and authored by Phil Dhingra, using website scrapers to extract information. It provides geographic information for 50,000 fast food restaurants. We make the assumption that the number and location of these restaurants has not changed enough over the years to significantly impact the results. \n",
    "\n",
    "##### Uszipcode\n",
    "\n",
    "This is a zip code database authored by Sanhe Hu. It provides a rich set of data for US zip codes including geographic, demographic, real estate, socioeconomic and education information. Scrapers are used to retrieve from multiple active data sources to maintain this database.\n"
   ]
  },
  {
   "cell_type": "code",
   "execution_count": 1,
   "metadata": {},
   "outputs": [],
   "source": [
    "import pandas as pd\n",
    "import numpy as np\n",
    "import matplotlib.pyplot as plt\n",
    "import seaborn as sns\n",
    "from scipy import stats\n",
    "sns.set()\n",
    "\n",
    "from IPython.display import display, HTML\n",
    "import warnings\n",
    "warnings.filterwarnings('ignore')"
   ]
  },
  {
   "cell_type": "markdown",
   "metadata": {},
   "source": [
    "# Data Wrangling"
   ]
  },
  {
   "cell_type": "markdown",
   "metadata": {},
   "source": [
    "### 500 Cities Dataset\n",
    " \n",
    "The 500 cities dataset is loaded into a Panda’s dataframe to reveal 810103 entries and 24 columns."
   ]
  },
  {
   "cell_type": "code",
   "execution_count": 2,
   "metadata": {},
   "outputs": [],
   "source": [
    "dfh18 = pd.read_csv(\"500_Cities__Local_Data_for_Better_Health__2018_release.csv\")"
   ]
  },
  {
   "cell_type": "code",
   "execution_count": 3,
   "metadata": {},
   "outputs": [
    {
     "data": {
      "text/html": [
       "<div>\n",
       "<style scoped>\n",
       "    .dataframe tbody tr th:only-of-type {\n",
       "        vertical-align: middle;\n",
       "    }\n",
       "\n",
       "    .dataframe tbody tr th {\n",
       "        vertical-align: top;\n",
       "    }\n",
       "\n",
       "    .dataframe thead th {\n",
       "        text-align: right;\n",
       "    }\n",
       "</style>\n",
       "<table border=\"1\" class=\"dataframe\">\n",
       "  <thead>\n",
       "    <tr style=\"text-align: right;\">\n",
       "      <th></th>\n",
       "      <th>Year</th>\n",
       "      <th>StateAbbr</th>\n",
       "      <th>StateDesc</th>\n",
       "      <th>CityName</th>\n",
       "      <th>GeographicLevel</th>\n",
       "      <th>DataSource</th>\n",
       "      <th>Category</th>\n",
       "      <th>UniqueID</th>\n",
       "      <th>Measure</th>\n",
       "      <th>Data_Value_Unit</th>\n",
       "      <th>...</th>\n",
       "      <th>High_Confidence_Limit</th>\n",
       "      <th>Data_Value_Footnote_Symbol</th>\n",
       "      <th>Data_Value_Footnote</th>\n",
       "      <th>PopulationCount</th>\n",
       "      <th>GeoLocation</th>\n",
       "      <th>CategoryID</th>\n",
       "      <th>MeasureId</th>\n",
       "      <th>CityFIPS</th>\n",
       "      <th>TractFIPS</th>\n",
       "      <th>Short_Question_Text</th>\n",
       "    </tr>\n",
       "  </thead>\n",
       "  <tbody>\n",
       "    <tr>\n",
       "      <th>0</th>\n",
       "      <td>2016</td>\n",
       "      <td>US</td>\n",
       "      <td>United States</td>\n",
       "      <td>NaN</td>\n",
       "      <td>US</td>\n",
       "      <td>BRFSS</td>\n",
       "      <td>Prevention</td>\n",
       "      <td>59</td>\n",
       "      <td>Current lack of health insurance among adults ...</td>\n",
       "      <td>%</td>\n",
       "      <td>...</td>\n",
       "      <td>14.9</td>\n",
       "      <td>NaN</td>\n",
       "      <td>NaN</td>\n",
       "      <td>308745538</td>\n",
       "      <td>NaN</td>\n",
       "      <td>PREVENT</td>\n",
       "      <td>ACCESS2</td>\n",
       "      <td>NaN</td>\n",
       "      <td>NaN</td>\n",
       "      <td>Health Insurance</td>\n",
       "    </tr>\n",
       "    <tr>\n",
       "      <th>1</th>\n",
       "      <td>2016</td>\n",
       "      <td>US</td>\n",
       "      <td>United States</td>\n",
       "      <td>NaN</td>\n",
       "      <td>US</td>\n",
       "      <td>BRFSS</td>\n",
       "      <td>Prevention</td>\n",
       "      <td>59</td>\n",
       "      <td>Current lack of health insurance among adults ...</td>\n",
       "      <td>%</td>\n",
       "      <td>...</td>\n",
       "      <td>11.8</td>\n",
       "      <td>NaN</td>\n",
       "      <td>NaN</td>\n",
       "      <td>308745538</td>\n",
       "      <td>NaN</td>\n",
       "      <td>PREVENT</td>\n",
       "      <td>ACCESS2</td>\n",
       "      <td>NaN</td>\n",
       "      <td>NaN</td>\n",
       "      <td>Health Insurance</td>\n",
       "    </tr>\n",
       "    <tr>\n",
       "      <th>2</th>\n",
       "      <td>2016</td>\n",
       "      <td>US</td>\n",
       "      <td>United States</td>\n",
       "      <td>NaN</td>\n",
       "      <td>US</td>\n",
       "      <td>BRFSS</td>\n",
       "      <td>Health Outcomes</td>\n",
       "      <td>59</td>\n",
       "      <td>Arthritis among adults aged &gt;=18 Years</td>\n",
       "      <td>%</td>\n",
       "      <td>...</td>\n",
       "      <td>23.2</td>\n",
       "      <td>NaN</td>\n",
       "      <td>NaN</td>\n",
       "      <td>308745538</td>\n",
       "      <td>NaN</td>\n",
       "      <td>HLTHOUT</td>\n",
       "      <td>ARTHRITIS</td>\n",
       "      <td>NaN</td>\n",
       "      <td>NaN</td>\n",
       "      <td>Arthritis</td>\n",
       "    </tr>\n",
       "    <tr>\n",
       "      <th>3</th>\n",
       "      <td>2016</td>\n",
       "      <td>US</td>\n",
       "      <td>United States</td>\n",
       "      <td>NaN</td>\n",
       "      <td>US</td>\n",
       "      <td>BRFSS</td>\n",
       "      <td>Health Outcomes</td>\n",
       "      <td>59</td>\n",
       "      <td>Arthritis among adults aged &gt;=18 Years</td>\n",
       "      <td>%</td>\n",
       "      <td>...</td>\n",
       "      <td>25.6</td>\n",
       "      <td>NaN</td>\n",
       "      <td>NaN</td>\n",
       "      <td>308745538</td>\n",
       "      <td>NaN</td>\n",
       "      <td>HLTHOUT</td>\n",
       "      <td>ARTHRITIS</td>\n",
       "      <td>NaN</td>\n",
       "      <td>NaN</td>\n",
       "      <td>Arthritis</td>\n",
       "    </tr>\n",
       "    <tr>\n",
       "      <th>4</th>\n",
       "      <td>2016</td>\n",
       "      <td>US</td>\n",
       "      <td>United States</td>\n",
       "      <td>NaN</td>\n",
       "      <td>US</td>\n",
       "      <td>BRFSS</td>\n",
       "      <td>Unhealthy Behaviors</td>\n",
       "      <td>59</td>\n",
       "      <td>Binge drinking among adults aged &gt;=18 Years</td>\n",
       "      <td>%</td>\n",
       "      <td>...</td>\n",
       "      <td>18.2</td>\n",
       "      <td>NaN</td>\n",
       "      <td>NaN</td>\n",
       "      <td>308745538</td>\n",
       "      <td>NaN</td>\n",
       "      <td>UNHBEH</td>\n",
       "      <td>BINGE</td>\n",
       "      <td>NaN</td>\n",
       "      <td>NaN</td>\n",
       "      <td>Binge Drinking</td>\n",
       "    </tr>\n",
       "  </tbody>\n",
       "</table>\n",
       "<p>5 rows × 24 columns</p>\n",
       "</div>"
      ],
      "text/plain": [
       "   Year StateAbbr      StateDesc CityName GeographicLevel DataSource  \\\n",
       "0  2016        US  United States      NaN              US      BRFSS   \n",
       "1  2016        US  United States      NaN              US      BRFSS   \n",
       "2  2016        US  United States      NaN              US      BRFSS   \n",
       "3  2016        US  United States      NaN              US      BRFSS   \n",
       "4  2016        US  United States      NaN              US      BRFSS   \n",
       "\n",
       "              Category UniqueID  \\\n",
       "0           Prevention       59   \n",
       "1           Prevention       59   \n",
       "2      Health Outcomes       59   \n",
       "3      Health Outcomes       59   \n",
       "4  Unhealthy Behaviors       59   \n",
       "\n",
       "                                             Measure Data_Value_Unit  \\\n",
       "0  Current lack of health insurance among adults ...               %   \n",
       "1  Current lack of health insurance among adults ...               %   \n",
       "2             Arthritis among adults aged >=18 Years               %   \n",
       "3             Arthritis among adults aged >=18 Years               %   \n",
       "4        Binge drinking among adults aged >=18 Years               %   \n",
       "\n",
       "          ...         High_Confidence_Limit Data_Value_Footnote_Symbol  \\\n",
       "0         ...                          14.9                        NaN   \n",
       "1         ...                          11.8                        NaN   \n",
       "2         ...                          23.2                        NaN   \n",
       "3         ...                          25.6                        NaN   \n",
       "4         ...                          18.2                        NaN   \n",
       "\n",
       "   Data_Value_Footnote  PopulationCount  GeoLocation CategoryID  MeasureId  \\\n",
       "0                  NaN        308745538          NaN    PREVENT    ACCESS2   \n",
       "1                  NaN        308745538          NaN    PREVENT    ACCESS2   \n",
       "2                  NaN        308745538          NaN    HLTHOUT  ARTHRITIS   \n",
       "3                  NaN        308745538          NaN    HLTHOUT  ARTHRITIS   \n",
       "4                  NaN        308745538          NaN     UNHBEH      BINGE   \n",
       "\n",
       "   CityFIPS TractFIPS Short_Question_Text  \n",
       "0       NaN       NaN    Health Insurance  \n",
       "1       NaN       NaN    Health Insurance  \n",
       "2       NaN       NaN           Arthritis  \n",
       "3       NaN       NaN           Arthritis  \n",
       "4       NaN       NaN      Binge Drinking  \n",
       "\n",
       "[5 rows x 24 columns]"
      ]
     },
     "metadata": {},
     "output_type": "display_data"
    },
    {
     "name": "stdout",
     "output_type": "stream",
     "text": [
      "<class 'pandas.core.frame.DataFrame'>\n",
      "RangeIndex: 810103 entries, 0 to 810102\n",
      "Data columns (total 24 columns):\n",
      "Year                          810103 non-null int64\n",
      "StateAbbr                     810103 non-null object\n",
      "StateDesc                     810103 non-null object\n",
      "CityName                      810047 non-null object\n",
      "GeographicLevel               810103 non-null object\n",
      "DataSource                    810103 non-null object\n",
      "Category                      810103 non-null object\n",
      "UniqueID                      810103 non-null object\n",
      "Measure                       810103 non-null object\n",
      "Data_Value_Unit               810103 non-null object\n",
      "DataValueTypeID               810103 non-null object\n",
      "Data_Value_Type               810103 non-null object\n",
      "Data_Value                    787311 non-null float64\n",
      "Low_Confidence_Limit          787311 non-null float64\n",
      "High_Confidence_Limit         787311 non-null float64\n",
      "Data_Value_Footnote_Symbol    22794 non-null object\n",
      "Data_Value_Footnote           22794 non-null object\n",
      "PopulationCount               810103 non-null int64\n",
      "GeoLocation                   810047 non-null object\n",
      "CategoryID                    810103 non-null object\n",
      "MeasureId                     810103 non-null object\n",
      "CityFIPS                      810047 non-null float64\n",
      "TractFIPS                     782047 non-null float64\n",
      "Short_Question_Text           810103 non-null object\n",
      "dtypes: float64(5), int64(2), object(17)\n",
      "memory usage: 148.3+ MB\n"
     ]
    },
    {
     "data": {
      "text/plain": [
       "None"
      ]
     },
     "metadata": {},
     "output_type": "display_data"
    }
   ],
   "source": [
    "#Display dataframe\n",
    "display(dfh18.head())\n",
    "display(dfh18.info())"
   ]
  },
  {
   "cell_type": "markdown",
   "metadata": {},
   "source": [
    "Many of the columns contain redundant information: ‘StateAbbr (two letter state abbreviation) and ‘StateDesc’ (full state name), ‘Category’ (health category abbreviation) and ‘Short_Question_Text’ (health category unabbreviated). Additionally, the columns ‘DataSource’, ‘UniqueID’, ‘DataValueTypeID’, and ‘Data_Value_Footnote_Symbol’ contain information that won’t be useful for our analysis. These columns are dropped."
   ]
  },
  {
   "cell_type": "code",
   "execution_count": 4,
   "metadata": {},
   "outputs": [],
   "source": [
    "#Filter for desired columns, remove redundant columns and rename columns\n",
    "dfh18 = dfh18[['Year', 'GeographicLevel', 'StateDesc', 'CityName','Short_Question_Text','Measure','Data_Value_Type', \n",
    "               'Data_Value','Low_Confidence_Limit', 'High_Confidence_Limit','PopulationCount','GeoLocation',\n",
    "               'CityFIPS','TractFIPS']]\n",
    "dfh18.columns = [\"Year\",\"GeographicLevel\",\"State\",\"City\",\"Category\",\"Measure\",\"Data_Type\",\n",
    "                  \"Data_Value\",\"Low_Confidence_Limit\",\"High_Confidence_Limit\",\"Population\",\"Tract GeoLocation\",\n",
    "                  \"CityFIPS\",\"TractFIPS\"]"
   ]
  },
  {
   "cell_type": "markdown",
   "metadata": {},
   "source": [
    "Each row contains an estimate for some health metric at the city or census tract level. For our analysis, we are interested in census tract rows, so the ‘GeographicLevel’ column is filtered to show only rows at the census tract level."
   ]
  },
  {
   "cell_type": "code",
   "execution_count": 5,
   "metadata": {},
   "outputs": [],
   "source": [
    "# Filter out rows at the US or City level\n",
    "dfh18 = dfh18.loc[dfh18[\"GeographicLevel\"] == \"Census Tract\"]"
   ]
  },
  {
   "cell_type": "markdown",
   "metadata": {},
   "source": [
    "Finally, some rows do not contain our metric of interest (heart disease prevalence) due to population size being too small, so these rows are dropped along with the ‘Data_Value_Footnote’ column which contains a note mentioning this."
   ]
  },
  {
   "cell_type": "code",
   "execution_count": 6,
   "metadata": {},
   "outputs": [],
   "source": [
    "# Remove rows with no data value\n",
    "dfh18 = dfh18.loc[dfh18.Data_Value.notnull()]"
   ]
  },
  {
   "cell_type": "markdown",
   "metadata": {},
   "source": [
    "We filter to show only rows related to our metric of interest. To do this, the ‘Measure’ column is filtered to contain only heart disease prevalence and the prevalences of risk factors for heart disease. These include hypertension, high cholesterol, smoking, diabetes, sedentarism and obesity."
   ]
  },
  {
   "cell_type": "code",
   "execution_count": 7,
   "metadata": {},
   "outputs": [],
   "source": [
    "#Filter values related to heart disease\n",
    "dfh18 = dfh18.loc[dfh18[\"Measure\"].isin(['High blood pressure among adults aged >=18 Years',\n",
    "                                         'Coronary heart disease among adults aged >=18 Years',\n",
    "                                         'High cholesterol among adults aged >=18 Years who have been screened in the past 5 Years',\n",
    "                                         'Current smoking among adults aged >=18 Years',\n",
    "                                         'Diagnosed diabetes among adults aged >=18 Years',\n",
    "                                         'No leisure-time physical activity among adults aged >=18 Years',\n",
    "                                         'Obesity among adults aged >=18 Years'])]"
   ]
  },
  {
   "cell_type": "code",
   "execution_count": 8,
   "metadata": {},
   "outputs": [],
   "source": [
    "# Store values in separate variables\n",
    "smoking = dfh18.loc[dfh18[\"Category\"] == \"Current Smoking\"]\n",
    "hypertension = dfh18.loc[dfh18[\"Category\"] == \"High Blood Pressure\"]\n",
    "obesity = dfh18.loc[dfh18[\"Category\"] == \"Obesity\"]\n",
    "sedentery = dfh18.loc[dfh18[\"Category\"] == \"Physical Inactivity\"]\n",
    "cholesterol = dfh18.loc[dfh18[\"Category\"] == \"High Cholesterol\"]\n",
    "diabetes = dfh18.loc[dfh18[\"Category\"] == \"Diabetes\"]\n",
    "heartd = dfh18.loc[dfh18[\"Category\"] == \"Coronary Heart Disease\"]"
   ]
  },
  {
   "cell_type": "markdown",
   "metadata": {},
   "source": [
    "### HUD-USPS ZIP Crosswalk Files\n",
    " \n",
    "The columns ‘zip’ (containing the zip code), ‘tract’ (containing the census tract) and ‘res_ratio’ (containing the percentage of census tract residents who reside in this zip code) are selected and stored. "
   ]
  },
  {
   "cell_type": "code",
   "execution_count": 9,
   "metadata": {},
   "outputs": [
    {
     "data": {
      "text/html": [
       "<div>\n",
       "<style scoped>\n",
       "    .dataframe tbody tr th:only-of-type {\n",
       "        vertical-align: middle;\n",
       "    }\n",
       "\n",
       "    .dataframe tbody tr th {\n",
       "        vertical-align: top;\n",
       "    }\n",
       "\n",
       "    .dataframe thead th {\n",
       "        text-align: right;\n",
       "    }\n",
       "</style>\n",
       "<table border=\"1\" class=\"dataframe\">\n",
       "  <thead>\n",
       "    <tr style=\"text-align: right;\">\n",
       "      <th></th>\n",
       "      <th>zip</th>\n",
       "      <th>tract</th>\n",
       "      <th>res_ratio</th>\n",
       "    </tr>\n",
       "  </thead>\n",
       "  <tbody>\n",
       "    <tr>\n",
       "      <th>0</th>\n",
       "      <td>36067</td>\n",
       "      <td>1001020100</td>\n",
       "      <td>1.000000</td>\n",
       "    </tr>\n",
       "    <tr>\n",
       "      <th>1</th>\n",
       "      <td>36067</td>\n",
       "      <td>1001020200</td>\n",
       "      <td>1.000000</td>\n",
       "    </tr>\n",
       "    <tr>\n",
       "      <th>2</th>\n",
       "      <td>36067</td>\n",
       "      <td>1001020300</td>\n",
       "      <td>1.000000</td>\n",
       "    </tr>\n",
       "    <tr>\n",
       "      <th>3</th>\n",
       "      <td>36067</td>\n",
       "      <td>1001020400</td>\n",
       "      <td>0.025014</td>\n",
       "    </tr>\n",
       "    <tr>\n",
       "      <th>4</th>\n",
       "      <td>36066</td>\n",
       "      <td>1001020400</td>\n",
       "      <td>0.974986</td>\n",
       "    </tr>\n",
       "  </tbody>\n",
       "</table>\n",
       "</div>"
      ],
      "text/plain": [
       "     zip       tract  res_ratio\n",
       "0  36067  1001020100   1.000000\n",
       "1  36067  1001020200   1.000000\n",
       "2  36067  1001020300   1.000000\n",
       "3  36067  1001020400   0.025014\n",
       "4  36066  1001020400   0.974986"
      ]
     },
     "metadata": {},
     "output_type": "display_data"
    }
   ],
   "source": [
    "# Read zip-to-tract conversion file\n",
    "tractzip = pd.read_excel(\"Tract-zip.xlsx\")\n",
    "\n",
    "# Extract desired columns\n",
    "tractzip = tractzip[[\"zip\",\"tract\",\"res_ratio\"]]\n",
    "display(tractzip.head())"
   ]
  },
  {
   "cell_type": "markdown",
   "metadata": {},
   "source": [
    "The resulting dataframe is grouped by tract and the row with the maximum value of ‘res_ratio’ is selected for each tract. This is then merged back in with the original crosswalk df so that only one zip code, where most of the tract’s population resides, is represented for each tract."
   ]
  },
  {
   "cell_type": "code",
   "execution_count": 10,
   "metadata": {},
   "outputs": [
    {
     "data": {
      "text/html": [
       "<div>\n",
       "<style scoped>\n",
       "    .dataframe tbody tr th:only-of-type {\n",
       "        vertical-align: middle;\n",
       "    }\n",
       "\n",
       "    .dataframe tbody tr th {\n",
       "        vertical-align: top;\n",
       "    }\n",
       "\n",
       "    .dataframe thead th {\n",
       "        text-align: right;\n",
       "    }\n",
       "</style>\n",
       "<table border=\"1\" class=\"dataframe\">\n",
       "  <thead>\n",
       "    <tr style=\"text-align: right;\">\n",
       "      <th></th>\n",
       "      <th>Zip Code</th>\n",
       "      <th>tract</th>\n",
       "    </tr>\n",
       "  </thead>\n",
       "  <tbody>\n",
       "    <tr>\n",
       "      <th>0</th>\n",
       "      <td>36067</td>\n",
       "      <td>1001020100</td>\n",
       "    </tr>\n",
       "    <tr>\n",
       "      <th>1</th>\n",
       "      <td>36067</td>\n",
       "      <td>1001020200</td>\n",
       "    </tr>\n",
       "    <tr>\n",
       "      <th>2</th>\n",
       "      <td>36067</td>\n",
       "      <td>1001020300</td>\n",
       "    </tr>\n",
       "    <tr>\n",
       "      <th>3</th>\n",
       "      <td>36066</td>\n",
       "      <td>1001020400</td>\n",
       "    </tr>\n",
       "    <tr>\n",
       "      <th>4</th>\n",
       "      <td>36066</td>\n",
       "      <td>1001020500</td>\n",
       "    </tr>\n",
       "  </tbody>\n",
       "</table>\n",
       "</div>"
      ],
      "text/plain": [
       "   Zip Code       tract\n",
       "0     36067  1001020100\n",
       "1     36067  1001020200\n",
       "2     36067  1001020300\n",
       "3     36066  1001020400\n",
       "4     36066  1001020500"
      ]
     },
     "metadata": {},
     "output_type": "display_data"
    },
    {
     "name": "stdout",
     "output_type": "stream",
     "text": [
      "<class 'pandas.core.frame.DataFrame'>\n",
      "Int64Index: 73659 entries, 0 to 73658\n",
      "Data columns (total 2 columns):\n",
      "Zip Code    73659 non-null int64\n",
      "tract       73659 non-null int64\n",
      "dtypes: int64(2)\n",
      "memory usage: 1.7 MB\n"
     ]
    },
    {
     "data": {
      "text/plain": [
       "None"
      ]
     },
     "metadata": {},
     "output_type": "display_data"
    }
   ],
   "source": [
    "# Group by tracts and select rows with the greatest resident percentage\n",
    "tractgroups = tractzip.groupby(\"tract\")[\"res_ratio\"].max().reset_index()\n",
    "\n",
    "# Merge tract groups with the original df containing zip codes\n",
    "# resulting in one zip code per tract\n",
    "tractzipm = pd.merge(tractzip,tractgroups, how=\"inner\")\n",
    "tractzipm.columns = [\"Zip Code\",\"tract\",\"res_ratio\"]\n",
    "tractzipm = tractzipm[[\"Zip Code\",\"tract\"]]\n",
    "\n",
    "display(tractzipm.head())\n",
    "display(tractzipm.info())"
   ]
  },
  {
   "cell_type": "markdown",
   "metadata": {},
   "source": [
    "### Merging 500 Cities and Zip Crosswalk\n",
    " \n",
    "The crosswalk dataframe is merged with each of the health prevalences individually. "
   ]
  },
  {
   "cell_type": "code",
   "execution_count": 11,
   "metadata": {},
   "outputs": [],
   "source": [
    "# Merge health values with conversion dataframe\n",
    "smokingm = pd.merge(smoking,tractzipm,how=\"inner\",left_on=\"TractFIPS\",right_on=\"tract\")\n",
    "hypertensionm = pd.merge(hypertension,tractzipm,how=\"inner\",left_on=\"TractFIPS\",right_on=\"tract\")\n",
    "obesitym = pd.merge(obesity,tractzipm,how=\"inner\",left_on=\"TractFIPS\",right_on=\"tract\")\n",
    "sedenterym = pd.merge(sedentery,tractzipm,how=\"inner\",left_on=\"TractFIPS\",right_on=\"tract\")\n",
    "cholesterolm = pd.merge(cholesterol,tractzipm,how=\"inner\",left_on=\"TractFIPS\",right_on=\"tract\")\n",
    "diabetesm = pd.merge(diabetes,tractzipm,how=\"inner\",left_on=\"TractFIPS\",right_on=\"tract\")\n",
    "heartdm = pd.merge(heartd,tractzipm,how=\"inner\",left_on=\"TractFIPS\",right_on=\"tract\")"
   ]
  },
  {
   "cell_type": "markdown",
   "metadata": {},
   "source": [
    "A weighted mean prevalence is obtained by grouping by zip code and weighting each tract’s prevalence by its population. This is applied to heart disease and all its risk factors individually. Finally, all risk factor prevalences are merged into a single dataframe along with heart disease prevalence."
   ]
  },
  {
   "cell_type": "code",
   "execution_count": 12,
   "metadata": {},
   "outputs": [
    {
     "data": {
      "text/html": [
       "<div>\n",
       "<style scoped>\n",
       "    .dataframe tbody tr th:only-of-type {\n",
       "        vertical-align: middle;\n",
       "    }\n",
       "\n",
       "    .dataframe tbody tr th {\n",
       "        vertical-align: top;\n",
       "    }\n",
       "\n",
       "    .dataframe thead th {\n",
       "        text-align: right;\n",
       "    }\n",
       "</style>\n",
       "<table border=\"1\" class=\"dataframe\">\n",
       "  <thead>\n",
       "    <tr style=\"text-align: right;\">\n",
       "      <th></th>\n",
       "      <th>Zip Code</th>\n",
       "      <th>Smoking Prevalence</th>\n",
       "      <th>Hypertension Prevalence</th>\n",
       "      <th>Obesity Prevalence</th>\n",
       "      <th>Sedentarism Prevalence</th>\n",
       "      <th>Cholesterol Prevalence</th>\n",
       "      <th>Diabetes Prevalence</th>\n",
       "      <th>Heart Disease Prevalence</th>\n",
       "    </tr>\n",
       "  </thead>\n",
       "  <tbody>\n",
       "    <tr>\n",
       "      <th>0</th>\n",
       "      <td>1101</td>\n",
       "      <td>28.300000</td>\n",
       "      <td>36.400000</td>\n",
       "      <td>44.000000</td>\n",
       "      <td>46.600000</td>\n",
       "      <td>41.300000</td>\n",
       "      <td>19.300000</td>\n",
       "      <td>9.300000</td>\n",
       "    </tr>\n",
       "    <tr>\n",
       "      <th>1</th>\n",
       "      <td>1104</td>\n",
       "      <td>24.269272</td>\n",
       "      <td>33.257045</td>\n",
       "      <td>37.437441</td>\n",
       "      <td>37.721353</td>\n",
       "      <td>38.392990</td>\n",
       "      <td>14.837576</td>\n",
       "      <td>8.816472</td>\n",
       "    </tr>\n",
       "    <tr>\n",
       "      <th>2</th>\n",
       "      <td>1105</td>\n",
       "      <td>28.596151</td>\n",
       "      <td>32.879892</td>\n",
       "      <td>42.176132</td>\n",
       "      <td>43.694299</td>\n",
       "      <td>37.409454</td>\n",
       "      <td>15.840128</td>\n",
       "      <td>7.849705</td>\n",
       "    </tr>\n",
       "    <tr>\n",
       "      <th>3</th>\n",
       "      <td>1107</td>\n",
       "      <td>25.495498</td>\n",
       "      <td>31.912761</td>\n",
       "      <td>41.052003</td>\n",
       "      <td>44.608772</td>\n",
       "      <td>38.631033</td>\n",
       "      <td>16.712049</td>\n",
       "      <td>8.234889</td>\n",
       "    </tr>\n",
       "    <tr>\n",
       "      <th>4</th>\n",
       "      <td>1108</td>\n",
       "      <td>23.844497</td>\n",
       "      <td>30.236068</td>\n",
       "      <td>35.381122</td>\n",
       "      <td>34.251449</td>\n",
       "      <td>35.500119</td>\n",
       "      <td>12.581968</td>\n",
       "      <td>6.943035</td>\n",
       "    </tr>\n",
       "  </tbody>\n",
       "</table>\n",
       "</div>"
      ],
      "text/plain": [
       "   Zip Code  Smoking Prevalence  Hypertension Prevalence  Obesity Prevalence  \\\n",
       "0      1101           28.300000                36.400000           44.000000   \n",
       "1      1104           24.269272                33.257045           37.437441   \n",
       "2      1105           28.596151                32.879892           42.176132   \n",
       "3      1107           25.495498                31.912761           41.052003   \n",
       "4      1108           23.844497                30.236068           35.381122   \n",
       "\n",
       "   Sedentarism Prevalence  Cholesterol Prevalence  Diabetes Prevalence  \\\n",
       "0               46.600000               41.300000            19.300000   \n",
       "1               37.721353               38.392990            14.837576   \n",
       "2               43.694299               37.409454            15.840128   \n",
       "3               44.608772               38.631033            16.712049   \n",
       "4               34.251449               35.500119            12.581968   \n",
       "\n",
       "   Heart Disease Prevalence  \n",
       "0                  9.300000  \n",
       "1                  8.816472  \n",
       "2                  7.849705  \n",
       "3                  8.234889  \n",
       "4                  6.943035  "
      ]
     },
     "metadata": {},
     "output_type": "display_data"
    },
    {
     "name": "stdout",
     "output_type": "stream",
     "text": [
      "<class 'pandas.core.frame.DataFrame'>\n",
      "Int64Index: 4793 entries, 0 to 4792\n",
      "Data columns (total 8 columns):\n",
      "Zip Code                    4793 non-null int64\n",
      "Smoking Prevalence          4793 non-null float64\n",
      "Hypertension Prevalence     4793 non-null float64\n",
      "Obesity Prevalence          4793 non-null float64\n",
      "Sedentarism Prevalence      4793 non-null float64\n",
      "Cholesterol Prevalence      4793 non-null float64\n",
      "Diabetes Prevalence         4793 non-null float64\n",
      "Heart Disease Prevalence    4793 non-null float64\n",
      "dtypes: float64(7), int64(1)\n",
      "memory usage: 337.0 KB\n"
     ]
    },
    {
     "data": {
      "text/plain": [
       "None"
      ]
     },
     "metadata": {},
     "output_type": "display_data"
    }
   ],
   "source": [
    "# Group by zip code for each value and calculate weighted mean prevalence\n",
    "smokingmp = smokingm.groupby(\"Zip Code\").apply(lambda x: np.average(x['Data_Value'].astype(\"float\"),weights=x['Population'])).reset_index()\n",
    "smokingmp.columns = [\"Zip Code\",\"Smoking Prevalence\"]\n",
    "\n",
    "hypertensionmp = hypertensionm.groupby(\"Zip Code\").apply(lambda x: np.average(x['Data_Value'].astype(\"float\"),weights=x['Population'])).reset_index()\n",
    "hypertensionmp.columns = [\"Zip Code\",\"Hypertension Prevalence\"]\n",
    "\n",
    "obesitymp = obesitym.groupby(\"Zip Code\").apply(lambda x: np.average(x['Data_Value'].astype(\"float\"),weights=x['Population'])).reset_index()\n",
    "obesitymp.columns = [\"Zip Code\",\"Obesity Prevalence\"]\n",
    "\n",
    "sedenterymp = sedenterym.groupby(\"Zip Code\").apply(lambda x: np.average(x['Data_Value'].astype(\"float\"),weights=x['Population'])).reset_index()\n",
    "sedenterymp.columns = [\"Zip Code\",\"Sedentarism Prevalence\"]\n",
    "\n",
    "cholesterolmp = cholesterolm.groupby(\"Zip Code\").apply(lambda x: np.average(x['Data_Value'].astype(\"float\"),weights=x['Population'])).reset_index()\n",
    "cholesterolmp.columns = [\"Zip Code\",\"Cholesterol Prevalence\"]\n",
    "\n",
    "diabetesmp = diabetesm.groupby(\"Zip Code\").apply(lambda x: np.average(x['Data_Value'].astype(\"float\"),weights=x['Population'])).reset_index()\n",
    "diabetesmp.columns = [\"Zip Code\",\"Diabetes Prevalence\"]\n",
    "\n",
    "heartdmp = heartdm.groupby(\"Zip Code\").apply(lambda x: np.average(x['Data_Value'].astype(\"float\"),weights=x['Population'])).reset_index()\n",
    "heartdmp.columns = [\"Zip Code\",\"Heart Disease Prevalence\"]\n",
    "\n",
    "#Merge the values\n",
    "_ = pd.merge(smokingmp,hypertensionmp, on=\"Zip Code\")\n",
    "_ = pd.merge(_,obesitymp, on=\"Zip Code\")\n",
    "_ = pd.merge(_,sedenterymp, on=\"Zip Code\")\n",
    "_ = pd.merge(_,cholesterolmp, on=\"Zip Code\")\n",
    "_ = pd.merge(_,diabetesmp, on=\"Zip Code\")\n",
    "datameans = pd.merge(_,heartdmp, on=\"Zip Code\")\n",
    "\n",
    "display(datameans.head())\n",
    "display(datameans.info())"
   ]
  },
  {
   "cell_type": "markdown",
   "metadata": {},
   "source": [
    "### Fastfoodmaps.com\n",
    " \n",
    "This dataset contains a row for each fast food restaurant and 8 unnamed columns containing restaurant name, address, city, state, zip code, phone number, longitude, latitude."
   ]
  },
  {
   "cell_type": "code",
   "execution_count": 13,
   "metadata": {},
   "outputs": [
    {
     "data": {
      "text/html": [
       "<div>\n",
       "<style scoped>\n",
       "    .dataframe tbody tr th:only-of-type {\n",
       "        vertical-align: middle;\n",
       "    }\n",
       "\n",
       "    .dataframe tbody tr th {\n",
       "        vertical-align: top;\n",
       "    }\n",
       "\n",
       "    .dataframe thead th {\n",
       "        text-align: right;\n",
       "    }\n",
       "</style>\n",
       "<table border=\"1\" class=\"dataframe\">\n",
       "  <thead>\n",
       "    <tr style=\"text-align: right;\">\n",
       "      <th></th>\n",
       "      <th>0</th>\n",
       "      <th>1</th>\n",
       "      <th>2</th>\n",
       "      <th>3</th>\n",
       "      <th>4</th>\n",
       "      <th>5</th>\n",
       "      <th>6</th>\n",
       "      <th>7</th>\n",
       "      <th>8</th>\n",
       "      <th>9</th>\n",
       "    </tr>\n",
       "  </thead>\n",
       "  <tbody>\n",
       "    <tr>\n",
       "      <th>0</th>\n",
       "      <td>1</td>\n",
       "      <td>b</td>\n",
       "      <td>3601 N.W. 27th Avenue</td>\n",
       "      <td>Miami</td>\n",
       "      <td>FL</td>\n",
       "      <td>33142</td>\n",
       "      <td>(305) 638-3838</td>\n",
       "      <td>25.8092</td>\n",
       "      <td>-80.2400</td>\n",
       "      <td>0</td>\n",
       "    </tr>\n",
       "    <tr>\n",
       "      <th>1</th>\n",
       "      <td>2</td>\n",
       "      <td>b</td>\n",
       "      <td>8995 N. W. 7th Avenue</td>\n",
       "      <td>Miami</td>\n",
       "      <td>FL</td>\n",
       "      <td>33150</td>\n",
       "      <td>(305) 754-8453</td>\n",
       "      <td>25.8587</td>\n",
       "      <td>-80.2094</td>\n",
       "      <td>0</td>\n",
       "    </tr>\n",
       "    <tr>\n",
       "      <th>2</th>\n",
       "      <td>3</td>\n",
       "      <td>b</td>\n",
       "      <td>30390 South Dixie Highway</td>\n",
       "      <td>Homestead</td>\n",
       "      <td>FL</td>\n",
       "      <td>33030</td>\n",
       "      <td>(305) 247-7181</td>\n",
       "      <td>25.4849</td>\n",
       "      <td>-80.4610</td>\n",
       "      <td>0</td>\n",
       "    </tr>\n",
       "    <tr>\n",
       "      <th>3</th>\n",
       "      <td>4</td>\n",
       "      <td>b</td>\n",
       "      <td>7975 N. W. 27th Avenue</td>\n",
       "      <td>Miami</td>\n",
       "      <td>FL</td>\n",
       "      <td>33147</td>\n",
       "      <td>(305) 836-8152</td>\n",
       "      <td>25.8471</td>\n",
       "      <td>-80.2415</td>\n",
       "      <td>0</td>\n",
       "    </tr>\n",
       "    <tr>\n",
       "      <th>4</th>\n",
       "      <td>5</td>\n",
       "      <td>b</td>\n",
       "      <td>9201 South Dixie Highway</td>\n",
       "      <td>Miami</td>\n",
       "      <td>FL</td>\n",
       "      <td>33156</td>\n",
       "      <td>(305) 666-1130</td>\n",
       "      <td>25.6849</td>\n",
       "      <td>-80.3125</td>\n",
       "      <td>0</td>\n",
       "    </tr>\n",
       "  </tbody>\n",
       "</table>\n",
       "</div>"
      ],
      "text/plain": [
       "   0  1                          2          3   4      5               6  \\\n",
       "0  1  b      3601 N.W. 27th Avenue      Miami  FL  33142  (305) 638-3838   \n",
       "1  2  b      8995 N. W. 7th Avenue      Miami  FL  33150  (305) 754-8453   \n",
       "2  3  b  30390 South Dixie Highway  Homestead  FL  33030  (305) 247-7181   \n",
       "3  4  b     7975 N. W. 27th Avenue      Miami  FL  33147  (305) 836-8152   \n",
       "4  5  b   9201 South Dixie Highway      Miami  FL  33156  (305) 666-1130   \n",
       "\n",
       "         7        8  9  \n",
       "0  25.8092 -80.2400  0  \n",
       "1  25.8587 -80.2094  0  \n",
       "2  25.4849 -80.4610  0  \n",
       "3  25.8471 -80.2415  0  \n",
       "4  25.6849 -80.3125  0  "
      ]
     },
     "execution_count": 13,
     "metadata": {},
     "output_type": "execute_result"
    }
   ],
   "source": [
    "#Open and import the fast food csv into a dataframe\n",
    "dfff = pd.read_csv(\"fastfoodmaps_locations_2007.csv\", header=None)\n",
    "dfff.head()"
   ]
  },
  {
   "cell_type": "markdown",
   "metadata": {},
   "source": [
    "The columns are renamed. A new column is created which fills in the number one for each row. This will be used to sum a count of restaurants for each zip code."
   ]
  },
  {
   "cell_type": "code",
   "execution_count": 14,
   "metadata": {},
   "outputs": [
    {
     "data": {
      "text/html": [
       "<div>\n",
       "<style scoped>\n",
       "    .dataframe tbody tr th:only-of-type {\n",
       "        vertical-align: middle;\n",
       "    }\n",
       "\n",
       "    .dataframe tbody tr th {\n",
       "        vertical-align: top;\n",
       "    }\n",
       "\n",
       "    .dataframe thead th {\n",
       "        text-align: right;\n",
       "    }\n",
       "</style>\n",
       "<table border=\"1\" class=\"dataframe\">\n",
       "  <thead>\n",
       "    <tr style=\"text-align: right;\">\n",
       "      <th></th>\n",
       "      <th>Restaurant Count</th>\n",
       "      <th>City</th>\n",
       "      <th>State</th>\n",
       "      <th>Zip Code</th>\n",
       "      <th>Latitude</th>\n",
       "      <th>Longitude</th>\n",
       "    </tr>\n",
       "  </thead>\n",
       "  <tbody>\n",
       "    <tr>\n",
       "      <th>0</th>\n",
       "      <td>1</td>\n",
       "      <td>Miami</td>\n",
       "      <td>FL</td>\n",
       "      <td>33142</td>\n",
       "      <td>25.8092</td>\n",
       "      <td>-80.2400</td>\n",
       "    </tr>\n",
       "    <tr>\n",
       "      <th>1</th>\n",
       "      <td>1</td>\n",
       "      <td>Miami</td>\n",
       "      <td>FL</td>\n",
       "      <td>33150</td>\n",
       "      <td>25.8587</td>\n",
       "      <td>-80.2094</td>\n",
       "    </tr>\n",
       "    <tr>\n",
       "      <th>2</th>\n",
       "      <td>1</td>\n",
       "      <td>Homestead</td>\n",
       "      <td>FL</td>\n",
       "      <td>33030</td>\n",
       "      <td>25.4849</td>\n",
       "      <td>-80.4610</td>\n",
       "    </tr>\n",
       "    <tr>\n",
       "      <th>3</th>\n",
       "      <td>1</td>\n",
       "      <td>Miami</td>\n",
       "      <td>FL</td>\n",
       "      <td>33147</td>\n",
       "      <td>25.8471</td>\n",
       "      <td>-80.2415</td>\n",
       "    </tr>\n",
       "    <tr>\n",
       "      <th>4</th>\n",
       "      <td>1</td>\n",
       "      <td>Miami</td>\n",
       "      <td>FL</td>\n",
       "      <td>33156</td>\n",
       "      <td>25.6849</td>\n",
       "      <td>-80.3125</td>\n",
       "    </tr>\n",
       "  </tbody>\n",
       "</table>\n",
       "</div>"
      ],
      "text/plain": [
       "   Restaurant Count       City State Zip Code  Latitude  Longitude\n",
       "0                 1      Miami    FL    33142   25.8092   -80.2400\n",
       "1                 1      Miami    FL    33150   25.8587   -80.2094\n",
       "2                 1  Homestead    FL    33030   25.4849   -80.4610\n",
       "3                 1      Miami    FL    33147   25.8471   -80.2415\n",
       "4                 1      Miami    FL    33156   25.6849   -80.3125"
      ]
     },
     "metadata": {},
     "output_type": "display_data"
    },
    {
     "name": "stdout",
     "output_type": "stream",
     "text": [
      "<class 'pandas.core.frame.DataFrame'>\n",
      "RangeIndex: 50002 entries, 0 to 50001\n",
      "Data columns (total 6 columns):\n",
      "Restaurant Count    50002 non-null int64\n",
      "City                50002 non-null object\n",
      "State               50002 non-null object\n",
      "Zip Code            50002 non-null object\n",
      "Latitude            50002 non-null float64\n",
      "Longitude           50002 non-null float64\n",
      "dtypes: float64(2), int64(1), object(3)\n",
      "memory usage: 2.3+ MB\n"
     ]
    },
    {
     "data": {
      "text/plain": [
       "None"
      ]
     },
     "metadata": {},
     "output_type": "display_data"
    }
   ],
   "source": [
    "#Select and rename useful columns\n",
    "dfff = dfff[[1,3,4,5,7,8]]\n",
    "dfff.columns = [\"Restaurant Count\",\"City\",\"State\",\"Zip Code\",\"Latitude\",\"Longitude\"]\n",
    "\n",
    "# Map restaurant names to the Name column\n",
    "dfff[\"Restaurant Count\"] = 1\n",
    "display(dfff.head())\n",
    "\n",
    "display(dfff.info())"
   ]
  },
  {
   "cell_type": "code",
   "execution_count": 15,
   "metadata": {},
   "outputs": [
    {
     "data": {
      "text/plain": [
       "36256         01001\n",
       "26731         01007\n",
       "37335         01008\n",
       "37016         01008\n",
       "37332         01008\n",
       "37015         01008\n",
       "37017         01011\n",
       "35629         01013\n",
       "19504         01020\n",
       "31419         01020\n",
       "49204         01020\n",
       "39085         01020\n",
       "26697    01020-3964\n",
       "1987          01027\n",
       "25669         01027\n",
       "20898         01028\n",
       "31740         01035\n",
       "442           01035\n",
       "24022         01035\n",
       "47428         01035\n",
       "14134         01035\n",
       "28927         01040\n",
       "20802         01040\n",
       "49873         01040\n",
       "30265         01040\n",
       "33139         01040\n",
       "1912          01040\n",
       "37328         01056\n",
       "2454          01056\n",
       "32356         01056\n",
       "            ...    \n",
       "39760         99654\n",
       "3023          99654\n",
       "7439          99654\n",
       "20167         99654\n",
       "26279         99654\n",
       "15848         99654\n",
       "35796    99654-8105\n",
       "32669         99669\n",
       "41956         99669\n",
       "48916         99687\n",
       "15917         99701\n",
       "43272         99701\n",
       "12207         99701\n",
       "23010         99701\n",
       "31759    99701-1706\n",
       "28184    99701-4092\n",
       "3692          99702\n",
       "3939          99703\n",
       "40387         99705\n",
       "12942         99705\n",
       "31479    99705-6053\n",
       "13942         99709\n",
       "3566          99709\n",
       "21674         99709\n",
       "39068         99709\n",
       "31890    99709-3551\n",
       "26032    99801-1226\n",
       "29192    99801-8036\n",
       "36585    99835-7105\n",
       "29475         99901\n",
       "Name: Zip Code, Length: 50002, dtype: object"
      ]
     },
     "execution_count": 15,
     "metadata": {},
     "output_type": "execute_result"
    }
   ],
   "source": [
    "#Display zip code values\n",
    "dfff[\"Zip Code\"].sort_values()"
   ]
  },
  {
   "cell_type": "markdown",
   "metadata": {},
   "source": [
    "The zip code column contains entries with trailing digits beyond the 5th digit. These trailing digits are removed."
   ]
  },
  {
   "cell_type": "code",
   "execution_count": 16,
   "metadata": {},
   "outputs": [],
   "source": [
    "# Remove trailing digits for zip codes\n",
    "nohyphens = []\n",
    "for x in dfff[\"Zip Code\"]:\n",
    "    nohyphens.append(x.replace('-',''))\n",
    "dfff[\"Zip Code\"] = nohyphens\n",
    "\n",
    "zclist = []\n",
    "for zc in dfff[\"Zip Code\"]:\n",
    "    if len(zc)>5:\n",
    "        zclist.append(zc[:6])\n",
    "    else:\n",
    "        zclist.append(zc)\n",
    "dfff[\"Zip Code\"] = zclist\n",
    "dfff[\"Zip Code\"] = dfff[\"Zip Code\"].astype('int')"
   ]
  },
  {
   "cell_type": "markdown",
   "metadata": {},
   "source": [
    "The dataframe is grouped by zip code and a sum of restaurants is calculated."
   ]
  },
  {
   "cell_type": "code",
   "execution_count": 17,
   "metadata": {},
   "outputs": [
    {
     "data": {
      "text/html": [
       "<div>\n",
       "<style scoped>\n",
       "    .dataframe tbody tr th:only-of-type {\n",
       "        vertical-align: middle;\n",
       "    }\n",
       "\n",
       "    .dataframe tbody tr th {\n",
       "        vertical-align: top;\n",
       "    }\n",
       "\n",
       "    .dataframe thead th {\n",
       "        text-align: right;\n",
       "    }\n",
       "</style>\n",
       "<table border=\"1\" class=\"dataframe\">\n",
       "  <thead>\n",
       "    <tr style=\"text-align: right;\">\n",
       "      <th></th>\n",
       "      <th>Zip Code</th>\n",
       "      <th>Restaurant Count</th>\n",
       "    </tr>\n",
       "  </thead>\n",
       "  <tbody>\n",
       "    <tr>\n",
       "      <th>0</th>\n",
       "      <td>1001</td>\n",
       "      <td>1</td>\n",
       "    </tr>\n",
       "    <tr>\n",
       "      <th>1</th>\n",
       "      <td>1007</td>\n",
       "      <td>1</td>\n",
       "    </tr>\n",
       "    <tr>\n",
       "      <th>2</th>\n",
       "      <td>1008</td>\n",
       "      <td>4</td>\n",
       "    </tr>\n",
       "    <tr>\n",
       "      <th>3</th>\n",
       "      <td>1011</td>\n",
       "      <td>1</td>\n",
       "    </tr>\n",
       "    <tr>\n",
       "      <th>4</th>\n",
       "      <td>1013</td>\n",
       "      <td>1</td>\n",
       "    </tr>\n",
       "  </tbody>\n",
       "</table>\n",
       "</div>"
      ],
      "text/plain": [
       "   Zip Code  Restaurant Count\n",
       "0      1001                 1\n",
       "1      1007                 1\n",
       "2      1008                 4\n",
       "3      1011                 1\n",
       "4      1013                 1"
      ]
     },
     "execution_count": 17,
     "metadata": {},
     "output_type": "execute_result"
    }
   ],
   "source": [
    "# Group by zip code and get a count of restaurants\n",
    "resgroups = dfff.groupby(\"Zip Code\")[\"Restaurant Count\"].sum().reset_index()\n",
    "resgroups.head()"
   ]
  },
  {
   "cell_type": "markdown",
   "metadata": {},
   "source": [
    "Finally, this dataframe is merged with the working health dataframe, and zeroes are filled in for zip codes that are missing restaurant counts. Here we assumed that these zip codes have no fast food restaurants."
   ]
  },
  {
   "cell_type": "code",
   "execution_count": 18,
   "metadata": {},
   "outputs": [
    {
     "data": {
      "text/html": [
       "<div>\n",
       "<style scoped>\n",
       "    .dataframe tbody tr th:only-of-type {\n",
       "        vertical-align: middle;\n",
       "    }\n",
       "\n",
       "    .dataframe tbody tr th {\n",
       "        vertical-align: top;\n",
       "    }\n",
       "\n",
       "    .dataframe thead th {\n",
       "        text-align: right;\n",
       "    }\n",
       "</style>\n",
       "<table border=\"1\" class=\"dataframe\">\n",
       "  <thead>\n",
       "    <tr style=\"text-align: right;\">\n",
       "      <th></th>\n",
       "      <th>Zip Code</th>\n",
       "      <th>Smoking Prevalence</th>\n",
       "      <th>Hypertension Prevalence</th>\n",
       "      <th>Obesity Prevalence</th>\n",
       "      <th>Sedentarism Prevalence</th>\n",
       "      <th>Cholesterol Prevalence</th>\n",
       "      <th>Diabetes Prevalence</th>\n",
       "      <th>Heart Disease Prevalence</th>\n",
       "      <th>Restaurant Count</th>\n",
       "    </tr>\n",
       "  </thead>\n",
       "  <tbody>\n",
       "    <tr>\n",
       "      <th>0</th>\n",
       "      <td>1101</td>\n",
       "      <td>28.300000</td>\n",
       "      <td>36.400000</td>\n",
       "      <td>44.000000</td>\n",
       "      <td>46.600000</td>\n",
       "      <td>41.300000</td>\n",
       "      <td>19.300000</td>\n",
       "      <td>9.300000</td>\n",
       "      <td>2.0</td>\n",
       "    </tr>\n",
       "    <tr>\n",
       "      <th>1</th>\n",
       "      <td>1104</td>\n",
       "      <td>24.269272</td>\n",
       "      <td>33.257045</td>\n",
       "      <td>37.437441</td>\n",
       "      <td>37.721353</td>\n",
       "      <td>38.392990</td>\n",
       "      <td>14.837576</td>\n",
       "      <td>8.816472</td>\n",
       "      <td>5.0</td>\n",
       "    </tr>\n",
       "    <tr>\n",
       "      <th>2</th>\n",
       "      <td>1105</td>\n",
       "      <td>28.596151</td>\n",
       "      <td>32.879892</td>\n",
       "      <td>42.176132</td>\n",
       "      <td>43.694299</td>\n",
       "      <td>37.409454</td>\n",
       "      <td>15.840128</td>\n",
       "      <td>7.849705</td>\n",
       "      <td>4.0</td>\n",
       "    </tr>\n",
       "    <tr>\n",
       "      <th>3</th>\n",
       "      <td>1107</td>\n",
       "      <td>25.495498</td>\n",
       "      <td>31.912761</td>\n",
       "      <td>41.052003</td>\n",
       "      <td>44.608772</td>\n",
       "      <td>38.631033</td>\n",
       "      <td>16.712049</td>\n",
       "      <td>8.234889</td>\n",
       "      <td>0.0</td>\n",
       "    </tr>\n",
       "    <tr>\n",
       "      <th>4</th>\n",
       "      <td>1108</td>\n",
       "      <td>23.844497</td>\n",
       "      <td>30.236068</td>\n",
       "      <td>35.381122</td>\n",
       "      <td>34.251449</td>\n",
       "      <td>35.500119</td>\n",
       "      <td>12.581968</td>\n",
       "      <td>6.943035</td>\n",
       "      <td>2.0</td>\n",
       "    </tr>\n",
       "  </tbody>\n",
       "</table>\n",
       "</div>"
      ],
      "text/plain": [
       "   Zip Code  Smoking Prevalence  Hypertension Prevalence  Obesity Prevalence  \\\n",
       "0      1101           28.300000                36.400000           44.000000   \n",
       "1      1104           24.269272                33.257045           37.437441   \n",
       "2      1105           28.596151                32.879892           42.176132   \n",
       "3      1107           25.495498                31.912761           41.052003   \n",
       "4      1108           23.844497                30.236068           35.381122   \n",
       "\n",
       "   Sedentarism Prevalence  Cholesterol Prevalence  Diabetes Prevalence  \\\n",
       "0               46.600000               41.300000            19.300000   \n",
       "1               37.721353               38.392990            14.837576   \n",
       "2               43.694299               37.409454            15.840128   \n",
       "3               44.608772               38.631033            16.712049   \n",
       "4               34.251449               35.500119            12.581968   \n",
       "\n",
       "   Heart Disease Prevalence  Restaurant Count  \n",
       "0                  9.300000               2.0  \n",
       "1                  8.816472               5.0  \n",
       "2                  7.849705               4.0  \n",
       "3                  8.234889               0.0  \n",
       "4                  6.943035               2.0  "
      ]
     },
     "metadata": {},
     "output_type": "display_data"
    },
    {
     "name": "stdout",
     "output_type": "stream",
     "text": [
      "<class 'pandas.core.frame.DataFrame'>\n",
      "Int64Index: 4793 entries, 0 to 4792\n",
      "Data columns (total 9 columns):\n",
      "Zip Code                    4793 non-null int64\n",
      "Smoking Prevalence          4793 non-null float64\n",
      "Hypertension Prevalence     4793 non-null float64\n",
      "Obesity Prevalence          4793 non-null float64\n",
      "Sedentarism Prevalence      4793 non-null float64\n",
      "Cholesterol Prevalence      4793 non-null float64\n",
      "Diabetes Prevalence         4793 non-null float64\n",
      "Heart Disease Prevalence    4793 non-null float64\n",
      "Restaurant Count            4793 non-null float64\n",
      "dtypes: float64(8), int64(1)\n",
      "memory usage: 374.5 KB\n"
     ]
    },
    {
     "data": {
      "text/plain": [
       "None"
      ]
     },
     "metadata": {},
     "output_type": "display_data"
    },
    {
     "data": {
      "text/html": [
       "<div>\n",
       "<style scoped>\n",
       "    .dataframe tbody tr th:only-of-type {\n",
       "        vertical-align: middle;\n",
       "    }\n",
       "\n",
       "    .dataframe tbody tr th {\n",
       "        vertical-align: top;\n",
       "    }\n",
       "\n",
       "    .dataframe thead th {\n",
       "        text-align: right;\n",
       "    }\n",
       "</style>\n",
       "<table border=\"1\" class=\"dataframe\">\n",
       "  <thead>\n",
       "    <tr style=\"text-align: right;\">\n",
       "      <th></th>\n",
       "      <th>Zip Code</th>\n",
       "      <th>Smoking Prevalence</th>\n",
       "      <th>Hypertension Prevalence</th>\n",
       "      <th>Obesity Prevalence</th>\n",
       "      <th>Sedentarism Prevalence</th>\n",
       "      <th>Cholesterol Prevalence</th>\n",
       "      <th>Diabetes Prevalence</th>\n",
       "      <th>Heart Disease Prevalence</th>\n",
       "      <th>Restaurant Count</th>\n",
       "    </tr>\n",
       "  </thead>\n",
       "  <tbody>\n",
       "    <tr>\n",
       "      <th>count</th>\n",
       "      <td>4793.000000</td>\n",
       "      <td>4793.000000</td>\n",
       "      <td>4793.000000</td>\n",
       "      <td>4793.000000</td>\n",
       "      <td>4793.000000</td>\n",
       "      <td>4793.000000</td>\n",
       "      <td>4793.000000</td>\n",
       "      <td>4793.000000</td>\n",
       "      <td>4793.000000</td>\n",
       "    </tr>\n",
       "    <tr>\n",
       "      <th>mean</th>\n",
       "      <td>59454.246192</td>\n",
       "      <td>18.070710</td>\n",
       "      <td>30.123836</td>\n",
       "      <td>30.065707</td>\n",
       "      <td>24.866540</td>\n",
       "      <td>34.337529</td>\n",
       "      <td>10.456542</td>\n",
       "      <td>5.748557</td>\n",
       "      <td>3.782808</td>\n",
       "    </tr>\n",
       "    <tr>\n",
       "      <th>std</th>\n",
       "      <td>29133.980164</td>\n",
       "      <td>5.564226</td>\n",
       "      <td>7.727673</td>\n",
       "      <td>7.646405</td>\n",
       "      <td>8.595184</td>\n",
       "      <td>5.086517</td>\n",
       "      <td>3.930864</td>\n",
       "      <td>1.926900</td>\n",
       "      <td>3.715321</td>\n",
       "    </tr>\n",
       "    <tr>\n",
       "      <th>min</th>\n",
       "      <td>1101.000000</td>\n",
       "      <td>2.470610</td>\n",
       "      <td>5.700000</td>\n",
       "      <td>10.519778</td>\n",
       "      <td>8.300000</td>\n",
       "      <td>8.500000</td>\n",
       "      <td>0.800000</td>\n",
       "      <td>0.500000</td>\n",
       "      <td>0.000000</td>\n",
       "    </tr>\n",
       "    <tr>\n",
       "      <th>25%</th>\n",
       "      <td>33417.000000</td>\n",
       "      <td>14.007323</td>\n",
       "      <td>25.325989</td>\n",
       "      <td>24.532893</td>\n",
       "      <td>18.115248</td>\n",
       "      <td>31.836474</td>\n",
       "      <td>7.763077</td>\n",
       "      <td>4.515044</td>\n",
       "      <td>1.000000</td>\n",
       "    </tr>\n",
       "    <tr>\n",
       "      <th>50%</th>\n",
       "      <td>66103.000000</td>\n",
       "      <td>17.443807</td>\n",
       "      <td>29.165720</td>\n",
       "      <td>29.300000</td>\n",
       "      <td>23.558648</td>\n",
       "      <td>34.772317</td>\n",
       "      <td>9.771208</td>\n",
       "      <td>5.628687</td>\n",
       "      <td>3.000000</td>\n",
       "    </tr>\n",
       "    <tr>\n",
       "      <th>75%</th>\n",
       "      <td>85301.000000</td>\n",
       "      <td>21.600000</td>\n",
       "      <td>34.028414</td>\n",
       "      <td>34.822722</td>\n",
       "      <td>30.632701</td>\n",
       "      <td>37.499166</td>\n",
       "      <td>12.500000</td>\n",
       "      <td>6.886213</td>\n",
       "      <td>6.000000</td>\n",
       "    </tr>\n",
       "    <tr>\n",
       "      <th>max</th>\n",
       "      <td>99577.000000</td>\n",
       "      <td>40.900000</td>\n",
       "      <td>69.300000</td>\n",
       "      <td>56.000000</td>\n",
       "      <td>52.308167</td>\n",
       "      <td>52.100000</td>\n",
       "      <td>28.158736</td>\n",
       "      <td>21.000000</td>\n",
       "      <td>21.000000</td>\n",
       "    </tr>\n",
       "  </tbody>\n",
       "</table>\n",
       "</div>"
      ],
      "text/plain": [
       "           Zip Code  Smoking Prevalence  Hypertension Prevalence  \\\n",
       "count   4793.000000         4793.000000              4793.000000   \n",
       "mean   59454.246192           18.070710                30.123836   \n",
       "std    29133.980164            5.564226                 7.727673   \n",
       "min     1101.000000            2.470610                 5.700000   \n",
       "25%    33417.000000           14.007323                25.325989   \n",
       "50%    66103.000000           17.443807                29.165720   \n",
       "75%    85301.000000           21.600000                34.028414   \n",
       "max    99577.000000           40.900000                69.300000   \n",
       "\n",
       "       Obesity Prevalence  Sedentarism Prevalence  Cholesterol Prevalence  \\\n",
       "count         4793.000000             4793.000000             4793.000000   \n",
       "mean            30.065707               24.866540               34.337529   \n",
       "std              7.646405                8.595184                5.086517   \n",
       "min             10.519778                8.300000                8.500000   \n",
       "25%             24.532893               18.115248               31.836474   \n",
       "50%             29.300000               23.558648               34.772317   \n",
       "75%             34.822722               30.632701               37.499166   \n",
       "max             56.000000               52.308167               52.100000   \n",
       "\n",
       "       Diabetes Prevalence  Heart Disease Prevalence  Restaurant Count  \n",
       "count          4793.000000               4793.000000       4793.000000  \n",
       "mean             10.456542                  5.748557          3.782808  \n",
       "std               3.930864                  1.926900          3.715321  \n",
       "min               0.800000                  0.500000          0.000000  \n",
       "25%               7.763077                  4.515044          1.000000  \n",
       "50%               9.771208                  5.628687          3.000000  \n",
       "75%              12.500000                  6.886213          6.000000  \n",
       "max              28.158736                 21.000000         21.000000  "
      ]
     },
     "metadata": {},
     "output_type": "display_data"
    }
   ],
   "source": [
    "# Merge health dataframe with fast food location dataframe\n",
    "datameansm = pd.merge(datameans,resgroups,how=\"left\",on=\"Zip Code\")\n",
    "\n",
    "# Fill NaN values with 0\n",
    "datameansm = datameansm.fillna(0)\n",
    "\n",
    "display(datameansm.head())\n",
    "display(datameansm.info())\n",
    "display(datameansm.describe())"
   ]
  },
  {
   "cell_type": "markdown",
   "metadata": {},
   "source": [
    "### Uszipcode\n",
    " \n",
    "This library is imported and a search engine to retrieve all of its rows (one for each zip code) is created and run."
   ]
  },
  {
   "cell_type": "code",
   "execution_count": 19,
   "metadata": {},
   "outputs": [],
   "source": [
    "# Import uszipcode to retrieve income for zip codes\n",
    "from uszipcode import SearchEngine\n",
    "search = SearchEngine(simple_zipcode=True)\n",
    "zipstats = search.by_median_household_income(lower=-1, upper=2147483648, zipcode_type='Standard', \n",
    "                                            sort_by='median_household_income', ascending=False, returns=999999)"
   ]
  },
  {
   "cell_type": "markdown",
   "metadata": {},
   "source": [
    "The resulting list is transformed to a dictionary and used to create a dataframe."
   ]
  },
  {
   "cell_type": "code",
   "execution_count": 20,
   "metadata": {},
   "outputs": [
    {
     "data": {
      "text/html": [
       "<div>\n",
       "<style scoped>\n",
       "    .dataframe tbody tr th:only-of-type {\n",
       "        vertical-align: middle;\n",
       "    }\n",
       "\n",
       "    .dataframe tbody tr th {\n",
       "        vertical-align: top;\n",
       "    }\n",
       "\n",
       "    .dataframe thead th {\n",
       "        text-align: right;\n",
       "    }\n",
       "</style>\n",
       "<table border=\"1\" class=\"dataframe\">\n",
       "  <thead>\n",
       "    <tr style=\"text-align: right;\">\n",
       "      <th></th>\n",
       "      <th>area_code_list</th>\n",
       "      <th>bounds_east</th>\n",
       "      <th>bounds_north</th>\n",
       "      <th>bounds_south</th>\n",
       "      <th>bounds_west</th>\n",
       "      <th>common_city_list</th>\n",
       "      <th>county</th>\n",
       "      <th>housing_units</th>\n",
       "      <th>land_area_in_sqmi</th>\n",
       "      <th>lat</th>\n",
       "      <th>...</th>\n",
       "      <th>occupied_housing_units</th>\n",
       "      <th>population</th>\n",
       "      <th>population_density</th>\n",
       "      <th>post_office_city</th>\n",
       "      <th>radius_in_miles</th>\n",
       "      <th>state</th>\n",
       "      <th>timezone</th>\n",
       "      <th>water_area_in_sqmi</th>\n",
       "      <th>zipcode</th>\n",
       "      <th>zipcode_type</th>\n",
       "    </tr>\n",
       "  </thead>\n",
       "  <tbody>\n",
       "    <tr>\n",
       "      <th>0</th>\n",
       "      <td>[970]</td>\n",
       "      <td>-108.683032</td>\n",
       "      <td>37.573355</td>\n",
       "      <td>37.435026</td>\n",
       "      <td>-108.849361</td>\n",
       "      <td>[Yellow Jacket]</td>\n",
       "      <td>Montezuma County</td>\n",
       "      <td>64</td>\n",
       "      <td>27.12</td>\n",
       "      <td>37.540</td>\n",
       "      <td>...</td>\n",
       "      <td>54</td>\n",
       "      <td>131</td>\n",
       "      <td>5.0</td>\n",
       "      <td>Yellow Jacket, CO</td>\n",
       "      <td>2.000000</td>\n",
       "      <td>CO</td>\n",
       "      <td>Mountain</td>\n",
       "      <td>0.00</td>\n",
       "      <td>81335</td>\n",
       "      <td>Standard</td>\n",
       "    </tr>\n",
       "    <tr>\n",
       "      <th>1</th>\n",
       "      <td>[301, 410, 443]</td>\n",
       "      <td>-76.529878</td>\n",
       "      <td>39.040506</td>\n",
       "      <td>39.017669</td>\n",
       "      <td>-76.570564</td>\n",
       "      <td>[Annapolis, Sherwood Forest, Sherwood Frst]</td>\n",
       "      <td>Anne Arundel County</td>\n",
       "      <td>340</td>\n",
       "      <td>0.99</td>\n",
       "      <td>39.030</td>\n",
       "      <td>...</td>\n",
       "      <td>203</td>\n",
       "      <td>544</td>\n",
       "      <td>549.0</td>\n",
       "      <td>Annapolis, MD</td>\n",
       "      <td>0.965909</td>\n",
       "      <td>MD</td>\n",
       "      <td>Eastern</td>\n",
       "      <td>0.75</td>\n",
       "      <td>21405</td>\n",
       "      <td>Standard</td>\n",
       "    </tr>\n",
       "    <tr>\n",
       "      <th>2</th>\n",
       "      <td>[503]</td>\n",
       "      <td>-121.679473</td>\n",
       "      <td>45.366297</td>\n",
       "      <td>45.215218</td>\n",
       "      <td>-121.872530</td>\n",
       "      <td>[Government Camp, Government Cp, Timberline Lo...</td>\n",
       "      <td>Clackamas County</td>\n",
       "      <td>713</td>\n",
       "      <td>38.01</td>\n",
       "      <td>45.300</td>\n",
       "      <td>...</td>\n",
       "      <td>114</td>\n",
       "      <td>217</td>\n",
       "      <td>6.0</td>\n",
       "      <td>Government Camp, OR</td>\n",
       "      <td>2.000000</td>\n",
       "      <td>OR</td>\n",
       "      <td>Pacific</td>\n",
       "      <td>0.10</td>\n",
       "      <td>97028</td>\n",
       "      <td>Standard</td>\n",
       "    </tr>\n",
       "    <tr>\n",
       "      <th>3</th>\n",
       "      <td>[281, 346, 713, 832]</td>\n",
       "      <td>-95.355302</td>\n",
       "      <td>29.757155</td>\n",
       "      <td>29.749765</td>\n",
       "      <td>-95.364051</td>\n",
       "      <td>[Houston]</td>\n",
       "      <td>Harris County</td>\n",
       "      <td>471</td>\n",
       "      <td>0.12</td>\n",
       "      <td>29.754</td>\n",
       "      <td>...</td>\n",
       "      <td>249</td>\n",
       "      <td>366</td>\n",
       "      <td>2965.0</td>\n",
       "      <td>Houston, TX</td>\n",
       "      <td>0.284091</td>\n",
       "      <td>TX</td>\n",
       "      <td>Central</td>\n",
       "      <td>0.00</td>\n",
       "      <td>77010</td>\n",
       "      <td>Standard</td>\n",
       "    </tr>\n",
       "    <tr>\n",
       "      <th>4</th>\n",
       "      <td>[307]</td>\n",
       "      <td>-105.793154</td>\n",
       "      <td>41.128117</td>\n",
       "      <td>40.514119</td>\n",
       "      <td>-106.195438</td>\n",
       "      <td>[Jelm, Laramie]</td>\n",
       "      <td>Albany County</td>\n",
       "      <td>170</td>\n",
       "      <td>384.84</td>\n",
       "      <td>41.060</td>\n",
       "      <td>...</td>\n",
       "      <td>54</td>\n",
       "      <td>100</td>\n",
       "      <td>0.0</td>\n",
       "      <td>Jelm, WY</td>\n",
       "      <td>6.000000</td>\n",
       "      <td>WY</td>\n",
       "      <td>Mountain</td>\n",
       "      <td>0.85</td>\n",
       "      <td>82063</td>\n",
       "      <td>Standard</td>\n",
       "    </tr>\n",
       "  </tbody>\n",
       "</table>\n",
       "<p>5 rows × 24 columns</p>\n",
       "</div>"
      ],
      "text/plain": [
       "         area_code_list  bounds_east  bounds_north  bounds_south  bounds_west  \\\n",
       "0                 [970]  -108.683032     37.573355     37.435026  -108.849361   \n",
       "1       [301, 410, 443]   -76.529878     39.040506     39.017669   -76.570564   \n",
       "2                 [503]  -121.679473     45.366297     45.215218  -121.872530   \n",
       "3  [281, 346, 713, 832]   -95.355302     29.757155     29.749765   -95.364051   \n",
       "4                 [307]  -105.793154     41.128117     40.514119  -106.195438   \n",
       "\n",
       "                                    common_city_list               county  \\\n",
       "0                                    [Yellow Jacket]     Montezuma County   \n",
       "1        [Annapolis, Sherwood Forest, Sherwood Frst]  Anne Arundel County   \n",
       "2  [Government Camp, Government Cp, Timberline Lo...     Clackamas County   \n",
       "3                                          [Houston]        Harris County   \n",
       "4                                    [Jelm, Laramie]        Albany County   \n",
       "\n",
       "   housing_units  land_area_in_sqmi     lat     ...       \\\n",
       "0             64              27.12  37.540     ...        \n",
       "1            340               0.99  39.030     ...        \n",
       "2            713              38.01  45.300     ...        \n",
       "3            471               0.12  29.754     ...        \n",
       "4            170             384.84  41.060     ...        \n",
       "\n",
       "   occupied_housing_units population  population_density     post_office_city  \\\n",
       "0                      54        131                 5.0    Yellow Jacket, CO   \n",
       "1                     203        544               549.0        Annapolis, MD   \n",
       "2                     114        217                 6.0  Government Camp, OR   \n",
       "3                     249        366              2965.0          Houston, TX   \n",
       "4                      54        100                 0.0             Jelm, WY   \n",
       "\n",
       "   radius_in_miles  state  timezone water_area_in_sqmi  zipcode zipcode_type  \n",
       "0         2.000000     CO  Mountain               0.00    81335     Standard  \n",
       "1         0.965909     MD   Eastern               0.75    21405     Standard  \n",
       "2         2.000000     OR   Pacific               0.10    97028     Standard  \n",
       "3         0.284091     TX   Central               0.00    77010     Standard  \n",
       "4         6.000000     WY  Mountain               0.85    82063     Standard  \n",
       "\n",
       "[5 rows x 24 columns]"
      ]
     },
     "metadata": {},
     "output_type": "display_data"
    }
   ],
   "source": [
    "# Transform list of dictionaries to dataframe\n",
    "dictlist = []\n",
    "for entry in zipstats:\n",
    "    dictlist.append(entry.to_dict())\n",
    "\n",
    "zipstats_df = pd.DataFrame(dictlist)\n",
    "display(zipstats_df.head())"
   ]
  },
  {
   "cell_type": "markdown",
   "metadata": {},
   "source": [
    "The ‘zip code’, ‘median_household_income’, and ‘population’ columns are selected and stored. The zip code column is changed from object to integer so it may be merged."
   ]
  },
  {
   "cell_type": "code",
   "execution_count": 21,
   "metadata": {},
   "outputs": [
    {
     "data": {
      "text/html": [
       "<div>\n",
       "<style scoped>\n",
       "    .dataframe tbody tr th:only-of-type {\n",
       "        vertical-align: middle;\n",
       "    }\n",
       "\n",
       "    .dataframe tbody tr th {\n",
       "        vertical-align: top;\n",
       "    }\n",
       "\n",
       "    .dataframe thead th {\n",
       "        text-align: right;\n",
       "    }\n",
       "</style>\n",
       "<table border=\"1\" class=\"dataframe\">\n",
       "  <thead>\n",
       "    <tr style=\"text-align: right;\">\n",
       "      <th></th>\n",
       "      <th>Zip Code</th>\n",
       "      <th>median_household_income</th>\n",
       "      <th>Population</th>\n",
       "    </tr>\n",
       "  </thead>\n",
       "  <tbody>\n",
       "    <tr>\n",
       "      <th>0</th>\n",
       "      <td>81335</td>\n",
       "      <td>250001</td>\n",
       "      <td>131</td>\n",
       "    </tr>\n",
       "    <tr>\n",
       "      <th>1</th>\n",
       "      <td>21405</td>\n",
       "      <td>250001</td>\n",
       "      <td>544</td>\n",
       "    </tr>\n",
       "    <tr>\n",
       "      <th>2</th>\n",
       "      <td>97028</td>\n",
       "      <td>250001</td>\n",
       "      <td>217</td>\n",
       "    </tr>\n",
       "    <tr>\n",
       "      <th>3</th>\n",
       "      <td>77010</td>\n",
       "      <td>250001</td>\n",
       "      <td>366</td>\n",
       "    </tr>\n",
       "    <tr>\n",
       "      <th>4</th>\n",
       "      <td>82063</td>\n",
       "      <td>250001</td>\n",
       "      <td>100</td>\n",
       "    </tr>\n",
       "  </tbody>\n",
       "</table>\n",
       "</div>"
      ],
      "text/plain": [
       "   Zip Code  median_household_income  Population\n",
       "0     81335                   250001         131\n",
       "1     21405                   250001         544\n",
       "2     97028                   250001         217\n",
       "3     77010                   250001         366\n",
       "4     82063                   250001         100"
      ]
     },
     "metadata": {},
     "output_type": "display_data"
    },
    {
     "name": "stdout",
     "output_type": "stream",
     "text": [
      "<class 'pandas.core.frame.DataFrame'>\n",
      "RangeIndex: 28847 entries, 0 to 28846\n",
      "Data columns (total 3 columns):\n",
      "Zip Code                   28847 non-null int32\n",
      "median_household_income    28847 non-null int64\n",
      "Population                 28847 non-null int64\n",
      "dtypes: int32(1), int64(2)\n",
      "memory usage: 563.5 KB\n"
     ]
    },
    {
     "data": {
      "text/plain": [
       "None"
      ]
     },
     "metadata": {},
     "output_type": "display_data"
    }
   ],
   "source": [
    "# Select zipcode and income columns and rename columns\n",
    "zipincome = zipstats_df[[\"zipcode\",\"median_household_income\",\"population\"]]\n",
    "zipincome.columns = [\"Zip Code\",\"median_household_income\",\"Population\"]\n",
    "\n",
    "# Convert zip codes to integers\n",
    "zipincome[\"Zip Code\"] = zipincome[\"Zip Code\"].astype(\"int\")\n",
    "\n",
    "display(zipincome.head())\n",
    "display(zipincome.info())"
   ]
  },
  {
   "cell_type": "markdown",
   "metadata": {},
   "source": [
    "This dataframe is merged with the working health dataframe. Missing population data is dropped."
   ]
  },
  {
   "cell_type": "code",
   "execution_count": 22,
   "metadata": {},
   "outputs": [
    {
     "data": {
      "text/html": [
       "<div>\n",
       "<style scoped>\n",
       "    .dataframe tbody tr th:only-of-type {\n",
       "        vertical-align: middle;\n",
       "    }\n",
       "\n",
       "    .dataframe tbody tr th {\n",
       "        vertical-align: top;\n",
       "    }\n",
       "\n",
       "    .dataframe thead th {\n",
       "        text-align: right;\n",
       "    }\n",
       "</style>\n",
       "<table border=\"1\" class=\"dataframe\">\n",
       "  <thead>\n",
       "    <tr style=\"text-align: right;\">\n",
       "      <th></th>\n",
       "      <th>Zip Code</th>\n",
       "      <th>Smoking Prevalence</th>\n",
       "      <th>Hypertension Prevalence</th>\n",
       "      <th>Obesity Prevalence</th>\n",
       "      <th>Sedentarism Prevalence</th>\n",
       "      <th>Cholesterol Prevalence</th>\n",
       "      <th>Diabetes Prevalence</th>\n",
       "      <th>Heart Disease Prevalence</th>\n",
       "      <th>Restaurant Count</th>\n",
       "      <th>median_household_income</th>\n",
       "      <th>Population</th>\n",
       "    </tr>\n",
       "  </thead>\n",
       "  <tbody>\n",
       "    <tr>\n",
       "      <th>0</th>\n",
       "      <td>1101</td>\n",
       "      <td>28.300000</td>\n",
       "      <td>36.400000</td>\n",
       "      <td>44.000000</td>\n",
       "      <td>46.600000</td>\n",
       "      <td>41.300000</td>\n",
       "      <td>19.300000</td>\n",
       "      <td>9.300000</td>\n",
       "      <td>2.0</td>\n",
       "      <td>NaN</td>\n",
       "      <td>NaN</td>\n",
       "    </tr>\n",
       "    <tr>\n",
       "      <th>1</th>\n",
       "      <td>1104</td>\n",
       "      <td>24.269272</td>\n",
       "      <td>33.257045</td>\n",
       "      <td>37.437441</td>\n",
       "      <td>37.721353</td>\n",
       "      <td>38.392990</td>\n",
       "      <td>14.837576</td>\n",
       "      <td>8.816472</td>\n",
       "      <td>5.0</td>\n",
       "      <td>32273.0</td>\n",
       "      <td>22865.0</td>\n",
       "    </tr>\n",
       "    <tr>\n",
       "      <th>2</th>\n",
       "      <td>1105</td>\n",
       "      <td>28.596151</td>\n",
       "      <td>32.879892</td>\n",
       "      <td>42.176132</td>\n",
       "      <td>43.694299</td>\n",
       "      <td>37.409454</td>\n",
       "      <td>15.840128</td>\n",
       "      <td>7.849705</td>\n",
       "      <td>4.0</td>\n",
       "      <td>18402.0</td>\n",
       "      <td>12350.0</td>\n",
       "    </tr>\n",
       "    <tr>\n",
       "      <th>3</th>\n",
       "      <td>1107</td>\n",
       "      <td>25.495498</td>\n",
       "      <td>31.912761</td>\n",
       "      <td>41.052003</td>\n",
       "      <td>44.608772</td>\n",
       "      <td>38.631033</td>\n",
       "      <td>16.712049</td>\n",
       "      <td>8.234889</td>\n",
       "      <td>0.0</td>\n",
       "      <td>21737.0</td>\n",
       "      <td>11611.0</td>\n",
       "    </tr>\n",
       "    <tr>\n",
       "      <th>4</th>\n",
       "      <td>1108</td>\n",
       "      <td>23.844497</td>\n",
       "      <td>30.236068</td>\n",
       "      <td>35.381122</td>\n",
       "      <td>34.251449</td>\n",
       "      <td>35.500119</td>\n",
       "      <td>12.581968</td>\n",
       "      <td>6.943035</td>\n",
       "      <td>2.0</td>\n",
       "      <td>34064.0</td>\n",
       "      <td>26688.0</td>\n",
       "    </tr>\n",
       "  </tbody>\n",
       "</table>\n",
       "</div>"
      ],
      "text/plain": [
       "   Zip Code  Smoking Prevalence  Hypertension Prevalence  Obesity Prevalence  \\\n",
       "0      1101           28.300000                36.400000           44.000000   \n",
       "1      1104           24.269272                33.257045           37.437441   \n",
       "2      1105           28.596151                32.879892           42.176132   \n",
       "3      1107           25.495498                31.912761           41.052003   \n",
       "4      1108           23.844497                30.236068           35.381122   \n",
       "\n",
       "   Sedentarism Prevalence  Cholesterol Prevalence  Diabetes Prevalence  \\\n",
       "0               46.600000               41.300000            19.300000   \n",
       "1               37.721353               38.392990            14.837576   \n",
       "2               43.694299               37.409454            15.840128   \n",
       "3               44.608772               38.631033            16.712049   \n",
       "4               34.251449               35.500119            12.581968   \n",
       "\n",
       "   Heart Disease Prevalence  Restaurant Count  median_household_income  \\\n",
       "0                  9.300000               2.0                      NaN   \n",
       "1                  8.816472               5.0                  32273.0   \n",
       "2                  7.849705               4.0                  18402.0   \n",
       "3                  8.234889               0.0                  21737.0   \n",
       "4                  6.943035               2.0                  34064.0   \n",
       "\n",
       "   Population  \n",
       "0         NaN  \n",
       "1     22865.0  \n",
       "2     12350.0  \n",
       "3     11611.0  \n",
       "4     26688.0  "
      ]
     },
     "metadata": {},
     "output_type": "display_data"
    },
    {
     "name": "stdout",
     "output_type": "stream",
     "text": [
      "<class 'pandas.core.frame.DataFrame'>\n",
      "Int64Index: 4793 entries, 0 to 4792\n",
      "Data columns (total 11 columns):\n",
      "Zip Code                    4793 non-null int64\n",
      "Smoking Prevalence          4793 non-null float64\n",
      "Hypertension Prevalence     4793 non-null float64\n",
      "Obesity Prevalence          4793 non-null float64\n",
      "Sedentarism Prevalence      4793 non-null float64\n",
      "Cholesterol Prevalence      4793 non-null float64\n",
      "Diabetes Prevalence         4793 non-null float64\n",
      "Heart Disease Prevalence    4793 non-null float64\n",
      "Restaurant Count            4793 non-null float64\n",
      "median_household_income     4396 non-null float64\n",
      "Population                  4396 non-null float64\n",
      "dtypes: float64(10), int64(1)\n",
      "memory usage: 449.3 KB\n"
     ]
    },
    {
     "data": {
      "text/plain": [
       "None"
      ]
     },
     "metadata": {},
     "output_type": "display_data"
    }
   ],
   "source": [
    "# Merge income data with dataframe\n",
    "_ = pd.merge(datameansm,zipincome,how=\"left\",on=\"Zip Code\")\n",
    "\n",
    "display(_.head())\n",
    "display(_.info())\n",
    "data = _.copy()"
   ]
  },
  {
   "cell_type": "markdown",
   "metadata": {},
   "source": [
    "### Outliers\n",
    "\n",
    "The heart prevalence column ranges from 0.7 to 21 with a mean of 5.7. While some statistical outliers may exist in the upper ranges, I feel these are valuable observations for the analysis and should not be removed. Few outliers are present in the prevalences of the risk factors, which are also valuable for analysis."
   ]
  },
  {
   "cell_type": "code",
   "execution_count": 23,
   "metadata": {},
   "outputs": [
    {
     "data": {
      "text/html": [
       "<div>\n",
       "<style scoped>\n",
       "    .dataframe tbody tr th:only-of-type {\n",
       "        vertical-align: middle;\n",
       "    }\n",
       "\n",
       "    .dataframe tbody tr th {\n",
       "        vertical-align: top;\n",
       "    }\n",
       "\n",
       "    .dataframe thead th {\n",
       "        text-align: right;\n",
       "    }\n",
       "</style>\n",
       "<table border=\"1\" class=\"dataframe\">\n",
       "  <thead>\n",
       "    <tr style=\"text-align: right;\">\n",
       "      <th></th>\n",
       "      <th>Zip Code</th>\n",
       "      <th>Smoking Prevalence</th>\n",
       "      <th>Hypertension Prevalence</th>\n",
       "      <th>Obesity Prevalence</th>\n",
       "      <th>Sedentarism Prevalence</th>\n",
       "      <th>Cholesterol Prevalence</th>\n",
       "      <th>Diabetes Prevalence</th>\n",
       "      <th>Heart Disease Prevalence</th>\n",
       "      <th>Restaurant Count</th>\n",
       "      <th>median_household_income</th>\n",
       "      <th>Population</th>\n",
       "    </tr>\n",
       "  </thead>\n",
       "  <tbody>\n",
       "    <tr>\n",
       "      <th>count</th>\n",
       "      <td>4793.000000</td>\n",
       "      <td>4793.000000</td>\n",
       "      <td>4793.000000</td>\n",
       "      <td>4793.000000</td>\n",
       "      <td>4793.000000</td>\n",
       "      <td>4793.000000</td>\n",
       "      <td>4793.000000</td>\n",
       "      <td>4793.000000</td>\n",
       "      <td>4793.000000</td>\n",
       "      <td>4396.000000</td>\n",
       "      <td>4396.000000</td>\n",
       "    </tr>\n",
       "    <tr>\n",
       "      <th>mean</th>\n",
       "      <td>59454.246192</td>\n",
       "      <td>18.070710</td>\n",
       "      <td>30.123836</td>\n",
       "      <td>30.065707</td>\n",
       "      <td>24.866540</td>\n",
       "      <td>34.337529</td>\n",
       "      <td>10.456542</td>\n",
       "      <td>5.748557</td>\n",
       "      <td>3.782808</td>\n",
       "      <td>55588.992266</td>\n",
       "      <td>29072.211328</td>\n",
       "    </tr>\n",
       "    <tr>\n",
       "      <th>std</th>\n",
       "      <td>29133.980164</td>\n",
       "      <td>5.564226</td>\n",
       "      <td>7.727673</td>\n",
       "      <td>7.646405</td>\n",
       "      <td>8.595184</td>\n",
       "      <td>5.086517</td>\n",
       "      <td>3.930864</td>\n",
       "      <td>1.926900</td>\n",
       "      <td>3.715321</td>\n",
       "      <td>24451.268427</td>\n",
       "      <td>17422.209449</td>\n",
       "    </tr>\n",
       "    <tr>\n",
       "      <th>min</th>\n",
       "      <td>1101.000000</td>\n",
       "      <td>2.470610</td>\n",
       "      <td>5.700000</td>\n",
       "      <td>10.519778</td>\n",
       "      <td>8.300000</td>\n",
       "      <td>8.500000</td>\n",
       "      <td>0.800000</td>\n",
       "      <td>0.500000</td>\n",
       "      <td>0.000000</td>\n",
       "      <td>6067.000000</td>\n",
       "      <td>219.000000</td>\n",
       "    </tr>\n",
       "    <tr>\n",
       "      <th>25%</th>\n",
       "      <td>33417.000000</td>\n",
       "      <td>14.007323</td>\n",
       "      <td>25.325989</td>\n",
       "      <td>24.532893</td>\n",
       "      <td>18.115248</td>\n",
       "      <td>31.836474</td>\n",
       "      <td>7.763077</td>\n",
       "      <td>4.515044</td>\n",
       "      <td>1.000000</td>\n",
       "      <td>38269.500000</td>\n",
       "      <td>16280.750000</td>\n",
       "    </tr>\n",
       "    <tr>\n",
       "      <th>50%</th>\n",
       "      <td>66103.000000</td>\n",
       "      <td>17.443807</td>\n",
       "      <td>29.165720</td>\n",
       "      <td>29.300000</td>\n",
       "      <td>23.558648</td>\n",
       "      <td>34.772317</td>\n",
       "      <td>9.771208</td>\n",
       "      <td>5.628687</td>\n",
       "      <td>3.000000</td>\n",
       "      <td>51148.000000</td>\n",
       "      <td>26748.000000</td>\n",
       "    </tr>\n",
       "    <tr>\n",
       "      <th>75%</th>\n",
       "      <td>85301.000000</td>\n",
       "      <td>21.600000</td>\n",
       "      <td>34.028414</td>\n",
       "      <td>34.822722</td>\n",
       "      <td>30.632701</td>\n",
       "      <td>37.499166</td>\n",
       "      <td>12.500000</td>\n",
       "      <td>6.886213</td>\n",
       "      <td>6.000000</td>\n",
       "      <td>68416.500000</td>\n",
       "      <td>38721.750000</td>\n",
       "    </tr>\n",
       "    <tr>\n",
       "      <th>max</th>\n",
       "      <td>99577.000000</td>\n",
       "      <td>40.900000</td>\n",
       "      <td>69.300000</td>\n",
       "      <td>56.000000</td>\n",
       "      <td>52.308167</td>\n",
       "      <td>52.100000</td>\n",
       "      <td>28.158736</td>\n",
       "      <td>21.000000</td>\n",
       "      <td>21.000000</td>\n",
       "      <td>230952.000000</td>\n",
       "      <td>113916.000000</td>\n",
       "    </tr>\n",
       "  </tbody>\n",
       "</table>\n",
       "</div>"
      ],
      "text/plain": [
       "           Zip Code  Smoking Prevalence  Hypertension Prevalence  \\\n",
       "count   4793.000000         4793.000000              4793.000000   \n",
       "mean   59454.246192           18.070710                30.123836   \n",
       "std    29133.980164            5.564226                 7.727673   \n",
       "min     1101.000000            2.470610                 5.700000   \n",
       "25%    33417.000000           14.007323                25.325989   \n",
       "50%    66103.000000           17.443807                29.165720   \n",
       "75%    85301.000000           21.600000                34.028414   \n",
       "max    99577.000000           40.900000                69.300000   \n",
       "\n",
       "       Obesity Prevalence  Sedentarism Prevalence  Cholesterol Prevalence  \\\n",
       "count         4793.000000             4793.000000             4793.000000   \n",
       "mean            30.065707               24.866540               34.337529   \n",
       "std              7.646405                8.595184                5.086517   \n",
       "min             10.519778                8.300000                8.500000   \n",
       "25%             24.532893               18.115248               31.836474   \n",
       "50%             29.300000               23.558648               34.772317   \n",
       "75%             34.822722               30.632701               37.499166   \n",
       "max             56.000000               52.308167               52.100000   \n",
       "\n",
       "       Diabetes Prevalence  Heart Disease Prevalence  Restaurant Count  \\\n",
       "count          4793.000000               4793.000000       4793.000000   \n",
       "mean             10.456542                  5.748557          3.782808   \n",
       "std               3.930864                  1.926900          3.715321   \n",
       "min               0.800000                  0.500000          0.000000   \n",
       "25%               7.763077                  4.515044          1.000000   \n",
       "50%               9.771208                  5.628687          3.000000   \n",
       "75%              12.500000                  6.886213          6.000000   \n",
       "max              28.158736                 21.000000         21.000000   \n",
       "\n",
       "       median_household_income     Population  \n",
       "count              4396.000000    4396.000000  \n",
       "mean              55588.992266   29072.211328  \n",
       "std               24451.268427   17422.209449  \n",
       "min                6067.000000     219.000000  \n",
       "25%               38269.500000   16280.750000  \n",
       "50%               51148.000000   26748.000000  \n",
       "75%               68416.500000   38721.750000  \n",
       "max              230952.000000  113916.000000  "
      ]
     },
     "metadata": {},
     "output_type": "display_data"
    }
   ],
   "source": [
    "display(data.describe())"
   ]
  },
  {
   "cell_type": "markdown",
   "metadata": {},
   "source": [
    "### Grouping features\n",
    "\n",
    "Each zip code will be grouped into a population category and a restaurant number category. This will be useful for exploring the data and statistical analysis."
   ]
  },
  {
   "cell_type": "code",
   "execution_count": 24,
   "metadata": {},
   "outputs": [
    {
     "data": {
      "text/html": [
       "<div>\n",
       "<style scoped>\n",
       "    .dataframe tbody tr th:only-of-type {\n",
       "        vertical-align: middle;\n",
       "    }\n",
       "\n",
       "    .dataframe tbody tr th {\n",
       "        vertical-align: top;\n",
       "    }\n",
       "\n",
       "    .dataframe thead th {\n",
       "        text-align: right;\n",
       "    }\n",
       "</style>\n",
       "<table border=\"1\" class=\"dataframe\">\n",
       "  <thead>\n",
       "    <tr style=\"text-align: right;\">\n",
       "      <th></th>\n",
       "      <th>Zip Code</th>\n",
       "      <th>Smoking Prevalence</th>\n",
       "      <th>Hypertension Prevalence</th>\n",
       "      <th>Obesity Prevalence</th>\n",
       "      <th>Sedentarism Prevalence</th>\n",
       "      <th>Cholesterol Prevalence</th>\n",
       "      <th>Diabetes Prevalence</th>\n",
       "      <th>Heart Disease Prevalence</th>\n",
       "      <th>Restaurant Count</th>\n",
       "      <th>median_household_income</th>\n",
       "      <th>Population</th>\n",
       "      <th>Population Group</th>\n",
       "    </tr>\n",
       "  </thead>\n",
       "  <tbody>\n",
       "    <tr>\n",
       "      <th>1</th>\n",
       "      <td>1104</td>\n",
       "      <td>24.269272</td>\n",
       "      <td>33.257045</td>\n",
       "      <td>37.437441</td>\n",
       "      <td>37.721353</td>\n",
       "      <td>38.392990</td>\n",
       "      <td>14.837576</td>\n",
       "      <td>8.816472</td>\n",
       "      <td>5.0</td>\n",
       "      <td>32273.0</td>\n",
       "      <td>22865.0</td>\n",
       "      <td>20000-40000</td>\n",
       "    </tr>\n",
       "    <tr>\n",
       "      <th>2</th>\n",
       "      <td>1105</td>\n",
       "      <td>28.596151</td>\n",
       "      <td>32.879892</td>\n",
       "      <td>42.176132</td>\n",
       "      <td>43.694299</td>\n",
       "      <td>37.409454</td>\n",
       "      <td>15.840128</td>\n",
       "      <td>7.849705</td>\n",
       "      <td>4.0</td>\n",
       "      <td>18402.0</td>\n",
       "      <td>12350.0</td>\n",
       "      <td>&lt;20000</td>\n",
       "    </tr>\n",
       "    <tr>\n",
       "      <th>3</th>\n",
       "      <td>1107</td>\n",
       "      <td>25.495498</td>\n",
       "      <td>31.912761</td>\n",
       "      <td>41.052003</td>\n",
       "      <td>44.608772</td>\n",
       "      <td>38.631033</td>\n",
       "      <td>16.712049</td>\n",
       "      <td>8.234889</td>\n",
       "      <td>0.0</td>\n",
       "      <td>21737.0</td>\n",
       "      <td>11611.0</td>\n",
       "      <td>&lt;20000</td>\n",
       "    </tr>\n",
       "    <tr>\n",
       "      <th>4</th>\n",
       "      <td>1108</td>\n",
       "      <td>23.844497</td>\n",
       "      <td>30.236068</td>\n",
       "      <td>35.381122</td>\n",
       "      <td>34.251449</td>\n",
       "      <td>35.500119</td>\n",
       "      <td>12.581968</td>\n",
       "      <td>6.943035</td>\n",
       "      <td>2.0</td>\n",
       "      <td>34064.0</td>\n",
       "      <td>26688.0</td>\n",
       "      <td>20000-40000</td>\n",
       "    </tr>\n",
       "    <tr>\n",
       "      <th>5</th>\n",
       "      <td>1109</td>\n",
       "      <td>23.329629</td>\n",
       "      <td>32.285360</td>\n",
       "      <td>37.212078</td>\n",
       "      <td>33.779183</td>\n",
       "      <td>34.154532</td>\n",
       "      <td>13.474276</td>\n",
       "      <td>6.706302</td>\n",
       "      <td>2.0</td>\n",
       "      <td>33376.0</td>\n",
       "      <td>30250.0</td>\n",
       "      <td>20000-40000</td>\n",
       "    </tr>\n",
       "  </tbody>\n",
       "</table>\n",
       "</div>"
      ],
      "text/plain": [
       "   Zip Code  Smoking Prevalence  Hypertension Prevalence  Obesity Prevalence  \\\n",
       "1      1104           24.269272                33.257045           37.437441   \n",
       "2      1105           28.596151                32.879892           42.176132   \n",
       "3      1107           25.495498                31.912761           41.052003   \n",
       "4      1108           23.844497                30.236068           35.381122   \n",
       "5      1109           23.329629                32.285360           37.212078   \n",
       "\n",
       "   Sedentarism Prevalence  Cholesterol Prevalence  Diabetes Prevalence  \\\n",
       "1               37.721353               38.392990            14.837576   \n",
       "2               43.694299               37.409454            15.840128   \n",
       "3               44.608772               38.631033            16.712049   \n",
       "4               34.251449               35.500119            12.581968   \n",
       "5               33.779183               34.154532            13.474276   \n",
       "\n",
       "   Heart Disease Prevalence  Restaurant Count  median_household_income  \\\n",
       "1                  8.816472               5.0                  32273.0   \n",
       "2                  7.849705               4.0                  18402.0   \n",
       "3                  8.234889               0.0                  21737.0   \n",
       "4                  6.943035               2.0                  34064.0   \n",
       "5                  6.706302               2.0                  33376.0   \n",
       "\n",
       "   Population Population Group  \n",
       "1     22865.0      20000-40000  \n",
       "2     12350.0           <20000  \n",
       "3     11611.0           <20000  \n",
       "4     26688.0      20000-40000  \n",
       "5     30250.0      20000-40000  "
      ]
     },
     "execution_count": 24,
     "metadata": {},
     "output_type": "execute_result"
    }
   ],
   "source": [
    "# Select dataframe without missing values\n",
    "data_notna = data.dropna()\n",
    "\n",
    "# Create a new column specifying population group by size\n",
    "popgroups = []\n",
    "for pop in data_notna[\"Population\"]:\n",
    "    if pop >80000:\n",
    "        popgroups.append(\">80000\")\n",
    "    if pop <20000:\n",
    "        popgroups.append(\"<20000\")\n",
    "    if pop in range(20000,40000):\n",
    "        popgroups.append(\"20000-40000\")\n",
    "    if pop in range(40000,60000):\n",
    "        popgroups.append(\"40000-60000\")\n",
    "    if pop in range(60000,80000):\n",
    "        popgroups.append(\"60000-80000\")\n",
    "        \n",
    "data_notna[\"Population Group\"] = popgroups\n",
    "data_notna.head()"
   ]
  },
  {
   "cell_type": "code",
   "execution_count": 25,
   "metadata": {},
   "outputs": [
    {
     "data": {
      "text/html": [
       "<div>\n",
       "<style scoped>\n",
       "    .dataframe tbody tr th:only-of-type {\n",
       "        vertical-align: middle;\n",
       "    }\n",
       "\n",
       "    .dataframe tbody tr th {\n",
       "        vertical-align: top;\n",
       "    }\n",
       "\n",
       "    .dataframe thead th {\n",
       "        text-align: right;\n",
       "    }\n",
       "</style>\n",
       "<table border=\"1\" class=\"dataframe\">\n",
       "  <thead>\n",
       "    <tr style=\"text-align: right;\">\n",
       "      <th></th>\n",
       "      <th>Zip Code</th>\n",
       "      <th>Smoking Prevalence</th>\n",
       "      <th>Hypertension Prevalence</th>\n",
       "      <th>Obesity Prevalence</th>\n",
       "      <th>Sedentarism Prevalence</th>\n",
       "      <th>Cholesterol Prevalence</th>\n",
       "      <th>Diabetes Prevalence</th>\n",
       "      <th>Heart Disease Prevalence</th>\n",
       "      <th>Restaurant Count</th>\n",
       "      <th>median_household_income</th>\n",
       "      <th>Population</th>\n",
       "      <th>Population Group</th>\n",
       "      <th>Restaurant Group</th>\n",
       "    </tr>\n",
       "  </thead>\n",
       "  <tbody>\n",
       "    <tr>\n",
       "      <th>1</th>\n",
       "      <td>1104</td>\n",
       "      <td>24.269272</td>\n",
       "      <td>33.257045</td>\n",
       "      <td>37.437441</td>\n",
       "      <td>37.721353</td>\n",
       "      <td>38.392990</td>\n",
       "      <td>14.837576</td>\n",
       "      <td>8.816472</td>\n",
       "      <td>5.0</td>\n",
       "      <td>32273.0</td>\n",
       "      <td>22865.0</td>\n",
       "      <td>20000-40000</td>\n",
       "      <td>0-7</td>\n",
       "    </tr>\n",
       "    <tr>\n",
       "      <th>2</th>\n",
       "      <td>1105</td>\n",
       "      <td>28.596151</td>\n",
       "      <td>32.879892</td>\n",
       "      <td>42.176132</td>\n",
       "      <td>43.694299</td>\n",
       "      <td>37.409454</td>\n",
       "      <td>15.840128</td>\n",
       "      <td>7.849705</td>\n",
       "      <td>4.0</td>\n",
       "      <td>18402.0</td>\n",
       "      <td>12350.0</td>\n",
       "      <td>&lt;20000</td>\n",
       "      <td>0-7</td>\n",
       "    </tr>\n",
       "    <tr>\n",
       "      <th>3</th>\n",
       "      <td>1107</td>\n",
       "      <td>25.495498</td>\n",
       "      <td>31.912761</td>\n",
       "      <td>41.052003</td>\n",
       "      <td>44.608772</td>\n",
       "      <td>38.631033</td>\n",
       "      <td>16.712049</td>\n",
       "      <td>8.234889</td>\n",
       "      <td>0.0</td>\n",
       "      <td>21737.0</td>\n",
       "      <td>11611.0</td>\n",
       "      <td>&lt;20000</td>\n",
       "      <td>0-7</td>\n",
       "    </tr>\n",
       "    <tr>\n",
       "      <th>4</th>\n",
       "      <td>1108</td>\n",
       "      <td>23.844497</td>\n",
       "      <td>30.236068</td>\n",
       "      <td>35.381122</td>\n",
       "      <td>34.251449</td>\n",
       "      <td>35.500119</td>\n",
       "      <td>12.581968</td>\n",
       "      <td>6.943035</td>\n",
       "      <td>2.0</td>\n",
       "      <td>34064.0</td>\n",
       "      <td>26688.0</td>\n",
       "      <td>20000-40000</td>\n",
       "      <td>0-7</td>\n",
       "    </tr>\n",
       "    <tr>\n",
       "      <th>5</th>\n",
       "      <td>1109</td>\n",
       "      <td>23.329629</td>\n",
       "      <td>32.285360</td>\n",
       "      <td>37.212078</td>\n",
       "      <td>33.779183</td>\n",
       "      <td>34.154532</td>\n",
       "      <td>13.474276</td>\n",
       "      <td>6.706302</td>\n",
       "      <td>2.0</td>\n",
       "      <td>33376.0</td>\n",
       "      <td>30250.0</td>\n",
       "      <td>20000-40000</td>\n",
       "      <td>0-7</td>\n",
       "    </tr>\n",
       "  </tbody>\n",
       "</table>\n",
       "</div>"
      ],
      "text/plain": [
       "   Zip Code  Smoking Prevalence  Hypertension Prevalence  Obesity Prevalence  \\\n",
       "1      1104           24.269272                33.257045           37.437441   \n",
       "2      1105           28.596151                32.879892           42.176132   \n",
       "3      1107           25.495498                31.912761           41.052003   \n",
       "4      1108           23.844497                30.236068           35.381122   \n",
       "5      1109           23.329629                32.285360           37.212078   \n",
       "\n",
       "   Sedentarism Prevalence  Cholesterol Prevalence  Diabetes Prevalence  \\\n",
       "1               37.721353               38.392990            14.837576   \n",
       "2               43.694299               37.409454            15.840128   \n",
       "3               44.608772               38.631033            16.712049   \n",
       "4               34.251449               35.500119            12.581968   \n",
       "5               33.779183               34.154532            13.474276   \n",
       "\n",
       "   Heart Disease Prevalence  Restaurant Count  median_household_income  \\\n",
       "1                  8.816472               5.0                  32273.0   \n",
       "2                  7.849705               4.0                  18402.0   \n",
       "3                  8.234889               0.0                  21737.0   \n",
       "4                  6.943035               2.0                  34064.0   \n",
       "5                  6.706302               2.0                  33376.0   \n",
       "\n",
       "   Population Population Group Restaurant Group  \n",
       "1     22865.0      20000-40000              0-7  \n",
       "2     12350.0           <20000              0-7  \n",
       "3     11611.0           <20000              0-7  \n",
       "4     26688.0      20000-40000              0-7  \n",
       "5     30250.0      20000-40000              0-7  "
      ]
     },
     "execution_count": 25,
     "metadata": {},
     "output_type": "execute_result"
    }
   ],
   "source": [
    "# Create a new column specifying restaurant group by sum\n",
    "restgroups = []\n",
    "for count in data_notna[\"Restaurant Count\"]:\n",
    "    if count in range(0,8):\n",
    "        restgroups.append(\"0-7\")\n",
    "    if count in range(8, 22):\n",
    "        restgroups.append(\"8-21\")\n",
    "        \n",
    "data_notna[\"Restaurant Group\"]= restgroups\n",
    "data_notna.head()"
   ]
  },
  {
   "cell_type": "markdown",
   "metadata": {},
   "source": [
    "Missing values are returned so that imputation can be performed later."
   ]
  },
  {
   "cell_type": "code",
   "execution_count": 26,
   "metadata": {},
   "outputs": [],
   "source": [
    "# Merge in missing values\n",
    "\n",
    "data = pd.merge(data, data_notna, how=\"left\")"
   ]
  },
  {
   "cell_type": "markdown",
   "metadata": {},
   "source": [
    "# Data Story"
   ]
  },
  {
   "cell_type": "code",
   "execution_count": 27,
   "metadata": {},
   "outputs": [
    {
     "data": {
      "text/html": [
       "<div>\n",
       "<style scoped>\n",
       "    .dataframe tbody tr th:only-of-type {\n",
       "        vertical-align: middle;\n",
       "    }\n",
       "\n",
       "    .dataframe tbody tr th {\n",
       "        vertical-align: top;\n",
       "    }\n",
       "\n",
       "    .dataframe thead th {\n",
       "        text-align: right;\n",
       "    }\n",
       "</style>\n",
       "<table border=\"1\" class=\"dataframe\">\n",
       "  <thead>\n",
       "    <tr style=\"text-align: right;\">\n",
       "      <th></th>\n",
       "      <th>Zip Code</th>\n",
       "      <th>Smoking Prevalence</th>\n",
       "      <th>Hypertension Prevalence</th>\n",
       "      <th>Obesity Prevalence</th>\n",
       "      <th>Sedentarism Prevalence</th>\n",
       "      <th>Cholesterol Prevalence</th>\n",
       "      <th>Diabetes Prevalence</th>\n",
       "      <th>Heart Disease Prevalence</th>\n",
       "      <th>Restaurant Count</th>\n",
       "      <th>median_household_income</th>\n",
       "      <th>Population</th>\n",
       "      <th>Population Group</th>\n",
       "      <th>Restaurant Group</th>\n",
       "    </tr>\n",
       "  </thead>\n",
       "  <tbody>\n",
       "    <tr>\n",
       "      <th>0</th>\n",
       "      <td>1101</td>\n",
       "      <td>28.300000</td>\n",
       "      <td>36.400000</td>\n",
       "      <td>44.000000</td>\n",
       "      <td>46.600000</td>\n",
       "      <td>41.300000</td>\n",
       "      <td>19.300000</td>\n",
       "      <td>9.300000</td>\n",
       "      <td>2.0</td>\n",
       "      <td>NaN</td>\n",
       "      <td>NaN</td>\n",
       "      <td>NaN</td>\n",
       "      <td>NaN</td>\n",
       "    </tr>\n",
       "    <tr>\n",
       "      <th>1</th>\n",
       "      <td>1104</td>\n",
       "      <td>24.269272</td>\n",
       "      <td>33.257045</td>\n",
       "      <td>37.437441</td>\n",
       "      <td>37.721353</td>\n",
       "      <td>38.392990</td>\n",
       "      <td>14.837576</td>\n",
       "      <td>8.816472</td>\n",
       "      <td>5.0</td>\n",
       "      <td>32273.0</td>\n",
       "      <td>22865.0</td>\n",
       "      <td>20000-40000</td>\n",
       "      <td>0-7</td>\n",
       "    </tr>\n",
       "    <tr>\n",
       "      <th>2</th>\n",
       "      <td>1105</td>\n",
       "      <td>28.596151</td>\n",
       "      <td>32.879892</td>\n",
       "      <td>42.176132</td>\n",
       "      <td>43.694299</td>\n",
       "      <td>37.409454</td>\n",
       "      <td>15.840128</td>\n",
       "      <td>7.849705</td>\n",
       "      <td>4.0</td>\n",
       "      <td>18402.0</td>\n",
       "      <td>12350.0</td>\n",
       "      <td>&lt;20000</td>\n",
       "      <td>0-7</td>\n",
       "    </tr>\n",
       "    <tr>\n",
       "      <th>3</th>\n",
       "      <td>1107</td>\n",
       "      <td>25.495498</td>\n",
       "      <td>31.912761</td>\n",
       "      <td>41.052003</td>\n",
       "      <td>44.608772</td>\n",
       "      <td>38.631033</td>\n",
       "      <td>16.712049</td>\n",
       "      <td>8.234889</td>\n",
       "      <td>0.0</td>\n",
       "      <td>21737.0</td>\n",
       "      <td>11611.0</td>\n",
       "      <td>&lt;20000</td>\n",
       "      <td>0-7</td>\n",
       "    </tr>\n",
       "    <tr>\n",
       "      <th>4</th>\n",
       "      <td>1108</td>\n",
       "      <td>23.844497</td>\n",
       "      <td>30.236068</td>\n",
       "      <td>35.381122</td>\n",
       "      <td>34.251449</td>\n",
       "      <td>35.500119</td>\n",
       "      <td>12.581968</td>\n",
       "      <td>6.943035</td>\n",
       "      <td>2.0</td>\n",
       "      <td>34064.0</td>\n",
       "      <td>26688.0</td>\n",
       "      <td>20000-40000</td>\n",
       "      <td>0-7</td>\n",
       "    </tr>\n",
       "  </tbody>\n",
       "</table>\n",
       "</div>"
      ],
      "text/plain": [
       "   Zip Code  Smoking Prevalence  Hypertension Prevalence  Obesity Prevalence  \\\n",
       "0      1101           28.300000                36.400000           44.000000   \n",
       "1      1104           24.269272                33.257045           37.437441   \n",
       "2      1105           28.596151                32.879892           42.176132   \n",
       "3      1107           25.495498                31.912761           41.052003   \n",
       "4      1108           23.844497                30.236068           35.381122   \n",
       "\n",
       "   Sedentarism Prevalence  Cholesterol Prevalence  Diabetes Prevalence  \\\n",
       "0               46.600000               41.300000            19.300000   \n",
       "1               37.721353               38.392990            14.837576   \n",
       "2               43.694299               37.409454            15.840128   \n",
       "3               44.608772               38.631033            16.712049   \n",
       "4               34.251449               35.500119            12.581968   \n",
       "\n",
       "   Heart Disease Prevalence  Restaurant Count  median_household_income  \\\n",
       "0                  9.300000               2.0                      NaN   \n",
       "1                  8.816472               5.0                  32273.0   \n",
       "2                  7.849705               4.0                  18402.0   \n",
       "3                  8.234889               0.0                  21737.0   \n",
       "4                  6.943035               2.0                  34064.0   \n",
       "\n",
       "   Population Population Group Restaurant Group  \n",
       "0         NaN              NaN              NaN  \n",
       "1     22865.0      20000-40000              0-7  \n",
       "2     12350.0           <20000              0-7  \n",
       "3     11611.0           <20000              0-7  \n",
       "4     26688.0      20000-40000              0-7  "
      ]
     },
     "metadata": {},
     "output_type": "display_data"
    },
    {
     "name": "stdout",
     "output_type": "stream",
     "text": [
      "<class 'pandas.core.frame.DataFrame'>\n",
      "Int64Index: 4793 entries, 0 to 4792\n",
      "Data columns (total 13 columns):\n",
      "Zip Code                    4793 non-null int64\n",
      "Smoking Prevalence          4793 non-null float64\n",
      "Hypertension Prevalence     4793 non-null float64\n",
      "Obesity Prevalence          4793 non-null float64\n",
      "Sedentarism Prevalence      4793 non-null float64\n",
      "Cholesterol Prevalence      4793 non-null float64\n",
      "Diabetes Prevalence         4793 non-null float64\n",
      "Heart Disease Prevalence    4793 non-null float64\n",
      "Restaurant Count            4793 non-null float64\n",
      "median_household_income     4396 non-null float64\n",
      "Population                  4396 non-null float64\n",
      "Population Group            4396 non-null object\n",
      "Restaurant Group            4396 non-null object\n",
      "dtypes: float64(10), int64(1), object(2)\n",
      "memory usage: 524.2+ KB\n"
     ]
    },
    {
     "data": {
      "text/plain": [
       "None"
      ]
     },
     "metadata": {},
     "output_type": "display_data"
    }
   ],
   "source": [
    "heart_prev = data\n",
    "display(heart_prev.head())\n",
    "display(heart_prev.info())"
   ]
  },
  {
   "cell_type": "markdown",
   "metadata": {},
   "source": [
    "## Features with positive correlations\n",
    "\n",
    "#### Do the data show established relationships between heart disease and its risk factors?\n",
    "\n",
    "Below are joint plots of heart disease prevalence and positively correlated features: smoking, hypertension, obesity, sedentarism, high cholesterol, and diabetes.\n"
   ]
  },
  {
   "cell_type": "code",
   "execution_count": 28,
   "metadata": {
    "scrolled": false
   },
   "outputs": [
    {
     "data": {
      "image/png": "[encoded data removed]",
      "text/plain": [
       "<Figure size 432x432 with 3 Axes>"
      ]
     },
     "metadata": {
      "needs_background": "light"
     },
     "output_type": "display_data"
    },
    {
     "data": {
      "image/png": "[encoded data removed]",
      "text/plain": [
       "<Figure size 432x432 with 3 Axes>"
      ]
     },
     "metadata": {
      "needs_background": "light"
     },
     "output_type": "display_data"
    },
    {
     "data": {
      "image/png": "[encoded data removed]",
      "text/plain": [
       "<Figure size 432x432 with 3 Axes>"
      ]
     },
     "metadata": {
      "needs_background": "light"
     },
     "output_type": "display_data"
    },
    {
     "data": {
      "image/png": "[encoded data removed]",
      "text/plain": [
       "<Figure size 432x432 with 3 Axes>"
      ]
     },
     "metadata": {
      "needs_background": "light"
     },
     "output_type": "display_data"
    },
    {
     "data": {
      "image/png": "[encoded data removed]",
      "text/plain": [
       "<Figure size 432x432 with 3 Axes>"
      ]
     },
     "metadata": {
      "needs_background": "light"
     },
     "output_type": "display_data"
    },
    {
     "data": {
      "image/png": "[encoded data removed]",
      "text/plain": [
       "<Figure size 432x432 with 3 Axes>"
      ]
     },
     "metadata": {
      "needs_background": "light"
     },
     "output_type": "display_data"
    }
   ],
   "source": [
    "sns.jointplot(\"Smoking Prevalence\",\"Heart Disease Prevalence\",data=heart_prev,kind=\"reg\",stat_func=stats.pearsonr)\n",
    "plt.show()\n",
    "\n",
    "sns.jointplot(\"Hypertension Prevalence\",\"Heart Disease Prevalence\",data=heart_prev,kind=\"reg\",stat_func=stats.pearsonr)\n",
    "plt.show()\n",
    "\n",
    "sns.jointplot(\"Obesity Prevalence\",\"Heart Disease Prevalence\",data=heart_prev,kind=\"reg\",stat_func=stats.pearsonr)\n",
    "plt.show()\n",
    "\n",
    "sns.jointplot(\"Sedentarism Prevalence\",\"Heart Disease Prevalence\",data=heart_prev,kind=\"reg\",stat_func=stats.pearsonr)\n",
    "plt.show()\n",
    "\n",
    "sns.jointplot(\"Cholesterol Prevalence\",\"Heart Disease Prevalence\",data=heart_prev,kind=\"reg\",stat_func=stats.pearsonr)\n",
    "plt.show()\n",
    "\n",
    "sns.jointplot(\"Diabetes Prevalence\",\"Heart Disease Prevalence\",data=heart_prev,kind=\"reg\",stat_func=stats.pearsonr)\n",
    "plt.show()"
   ]
  },
  {
   "cell_type": "markdown",
   "metadata": {},
   "source": [
    "From the joint plots it can be seen that these risk factors are strongly correlated with heart disease prevalence. Hypertension, high cholesterol and diabetes have the strongest correlations.\n",
    "\n",
    "These are known major risk factors for heart disease so strong correlations are expected."
   ]
  },
  {
   "cell_type": "code",
   "execution_count": 29,
   "metadata": {},
   "outputs": [
    {
     "data": {
      "image/png": "[encoded data removed]",
      "text/plain": [
       "<Figure size 432x432 with 3 Axes>"
      ]
     },
     "metadata": {
      "needs_background": "light"
     },
     "output_type": "display_data"
    }
   ],
   "source": [
    "sns.jointplot(\"median_household_income\",\"Heart Disease Prevalence\",data=heart_prev,kind=\"reg\",stat_func=stats.pearsonr)\n",
    "plt.show()"
   ]
  },
  {
   "cell_type": "markdown",
   "metadata": {},
   "source": [
    "We see there is a moderate to strong negative correlation between median household income and heart disease prevalence.\n",
    "\n",
    "One hypothesis is residents of zip codes with an average larger income likely have better access to healthcare, exercise and food options."
   ]
  },
  {
   "cell_type": "markdown",
   "metadata": {},
   "source": [
    "#### How is income distributed?"
   ]
  },
  {
   "cell_type": "code",
   "execution_count": 30,
   "metadata": {},
   "outputs": [
    {
     "data": {
      "image/png": "[encoded data removed]",
      "text/plain": [
       "<Figure size 432x288 with 1 Axes>"
      ]
     },
     "metadata": {
      "needs_background": "light"
     },
     "output_type": "display_data"
    }
   ],
   "source": [
    "plt.hist(heart_prev[\"median_household_income\"], bins=5)\n",
    "plt.xlabel(\"Median Income\")\n",
    "plt.ylabel(\"Frequency\")\n",
    "plt.show()"
   ]
  },
  {
   "cell_type": "markdown",
   "metadata": {},
   "source": [
    "We see that most data points fall above and below 50000.\n",
    "\n",
    "We will separate the data into groups based on this cutoff."
   ]
  },
  {
   "cell_type": "code",
   "execution_count": 31,
   "metadata": {},
   "outputs": [],
   "source": [
    "# Create a new column specifying median household income groups\n",
    "\n",
    "heartprev_copy = heart_prev.dropna()\n",
    "\n",
    "incomegroups = []\n",
    "for income in heartprev_copy[\"median_household_income\"]:\n",
    "    if income <50000:\n",
    "        incomegroups.append(\"<50000\")\n",
    "    if income >= 50000:\n",
    "        incomegroups.append(\">=50000\")\n",
    "        \n",
    "heartprev_copy[\"Income Group\"]= incomegroups"
   ]
  },
  {
   "cell_type": "code",
   "execution_count": 32,
   "metadata": {},
   "outputs": [
    {
     "data": {
      "text/html": [
       "<div>\n",
       "<style scoped>\n",
       "    .dataframe tbody tr th:only-of-type {\n",
       "        vertical-align: middle;\n",
       "    }\n",
       "\n",
       "    .dataframe tbody tr th {\n",
       "        vertical-align: top;\n",
       "    }\n",
       "\n",
       "    .dataframe thead th {\n",
       "        text-align: right;\n",
       "    }\n",
       "</style>\n",
       "<table border=\"1\" class=\"dataframe\">\n",
       "  <thead>\n",
       "    <tr style=\"text-align: right;\">\n",
       "      <th></th>\n",
       "      <th>Income Group</th>\n",
       "      <th>Heart Disease Prevalence</th>\n",
       "    </tr>\n",
       "  </thead>\n",
       "  <tbody>\n",
       "    <tr>\n",
       "      <th>0</th>\n",
       "      <td>&lt;50000</td>\n",
       "      <td>6.540580</td>\n",
       "    </tr>\n",
       "    <tr>\n",
       "      <th>1</th>\n",
       "      <td>&gt;=50000</td>\n",
       "      <td>4.959305</td>\n",
       "    </tr>\n",
       "  </tbody>\n",
       "</table>\n",
       "</div>"
      ],
      "text/plain": [
       "  Income Group  Heart Disease Prevalence\n",
       "0       <50000                  6.540580\n",
       "1      >=50000                  4.959305"
      ]
     },
     "metadata": {},
     "output_type": "display_data"
    }
   ],
   "source": [
    "_ = heartprev_copy.groupby(\"Income Group\")[\"Heart Disease Prevalence\"].mean().reset_index()\n",
    "display(_)"
   ]
  },
  {
   "cell_type": "markdown",
   "metadata": {},
   "source": [
    "We see that the prevalence of heart disease is larger when income is <50000.\n",
    "\n",
    "We will statistically test the significance of the difference between groups."
   ]
  },
  {
   "cell_type": "markdown",
   "metadata": {},
   "source": [
    "## Heart disease and zip code population"
   ]
  },
  {
   "cell_type": "markdown",
   "metadata": {},
   "source": [
    "#### Is there a correlation between zip code population and heart disease?"
   ]
  },
  {
   "cell_type": "code",
   "execution_count": 33,
   "metadata": {},
   "outputs": [
    {
     "data": {
      "image/png": "[encoded data removed]",
      "text/plain": [
       "<Figure size 432x432 with 3 Axes>"
      ]
     },
     "metadata": {
      "needs_background": "light"
     },
     "output_type": "display_data"
    }
   ],
   "source": [
    "sns.jointplot(\"Population\",\"Heart Disease Prevalence\",data=heart_prev,kind=\"reg\",stat_func=stats.pearsonr)\n",
    "plt.show()"
   ]
  },
  {
   "cell_type": "markdown",
   "metadata": {},
   "source": [
    "We see there is a weak negative correlation between zip code population and heart disease prevalence.\n",
    "\n",
    "This may due to lower incomes in less populated zip codes."
   ]
  },
  {
   "cell_type": "markdown",
   "metadata": {},
   "source": [
    "#### Is the difference in heart disease by population due to income?"
   ]
  },
  {
   "cell_type": "code",
   "execution_count": 34,
   "metadata": {},
   "outputs": [
    {
     "data": {
      "image/png": "[encoded data removed]",
      "text/plain": [
       "<Figure size 432x432 with 3 Axes>"
      ]
     },
     "metadata": {
      "needs_background": "light"
     },
     "output_type": "display_data"
    }
   ],
   "source": [
    "sns.jointplot(\"Population\",\"median_household_income\",data=heart_prev,kind=\"reg\",stat_func=stats.pearsonr)\n",
    "plt.show()"
   ]
  },
  {
   "cell_type": "markdown",
   "metadata": {},
   "source": [
    "We see that there is not a significant correlation between population and median household income. It is unlikely that the negative correlation between population and heart disease is due to income."
   ]
  },
  {
   "cell_type": "code",
   "execution_count": 35,
   "metadata": {},
   "outputs": [
    {
     "data": {
      "image/png": "[encoded data removed]",
      "text/plain": [
       "<Figure size 720x360 with 2 Axes>"
      ]
     },
     "metadata": {
      "needs_background": "light"
     },
     "output_type": "display_data"
    },
    {
     "name": "stdout",
     "output_type": "stream",
     "text": [
      "Income Group: <50000\n",
      "-----------------------------\n",
      "pearson r and p-value:  (-0.16169560730753946, 9.391991673286615e-14) \n",
      "\n",
      "Income Group: >=50000\n",
      "-----------------------------\n",
      "pearson r and p-value:  (-0.04340847959287401, 0.03741615575840685) \n",
      "\n"
     ]
    }
   ],
   "source": [
    "sns.lmplot(\"Population\",\"Heart Disease Prevalence\",data=heartprev_copy,fit_reg=True,col=\"Income Group\",hue=\"Income Group\")\n",
    "plt.show()\n",
    "\n",
    "igroups = [\"<50000\",\">=50000\"]\n",
    "for group in igroups:\n",
    "    prev = heartprev_copy.loc[heartprev_copy[\"Income Group\"] == group]\n",
    "    _ = stats.pearsonr(prev[\"Population\"],prev[\"Heart Disease Prevalence\"])\n",
    "    print(\"Income Group: {}\".format(group))\n",
    "    print(\"-----------------------------\")\n",
    "    print(\"pearson r and p-value: \", _,\"\\n\")"
   ]
  },
  {
   "cell_type": "markdown",
   "metadata": {},
   "source": [
    "Additionally, we see that when income group is accounted for, there is still a significant negative correlation between population and heart disease prevalence."
   ]
  },
  {
   "cell_type": "markdown",
   "metadata": {},
   "source": [
    "#### How are populations distributed?"
   ]
  },
  {
   "cell_type": "code",
   "execution_count": 36,
   "metadata": {},
   "outputs": [
    {
     "data": {
      "image/png": "[encoded data removed]",
      "text/plain": [
       "<Figure size 432x288 with 1 Axes>"
      ]
     },
     "metadata": {
      "needs_background": "light"
     },
     "output_type": "display_data"
    },
    {
     "data": {
      "text/plain": [
       "29072.211328480436"
      ]
     },
     "execution_count": 36,
     "metadata": {},
     "output_type": "execute_result"
    }
   ],
   "source": [
    "plt.hist(heart_prev[\"Population\"], bins=6)\n",
    "plt.xlabel(\"Population\")\n",
    "plt.ylabel(\"Frequency\")\n",
    "plt.show()\n",
    "\n",
    "heart_prev.Population.mean()"
   ]
  },
  {
   "cell_type": "markdown",
   "metadata": {},
   "source": [
    "We see that most of the data points represent zip codes with populations less than 60000 with a mean of about 30000.\n",
    "\n",
    "We will refine population groups to <30000 and >=30000 for comparison of low population and high population zip codes."
   ]
  },
  {
   "cell_type": "code",
   "execution_count": 37,
   "metadata": {},
   "outputs": [],
   "source": [
    "# Create a new column specifying population group by size\n",
    "popgroups = []\n",
    "for pop in heartprev_copy[\"Population\"]:\n",
    "    if pop <30000:\n",
    "        popgroups.append(\"<30000\")\n",
    "    if pop >=30000:\n",
    "        popgroups.append(\">=30000\")\n",
    "        \n",
    "heartprev_copy[\"Population Group\"]= popgroups"
   ]
  },
  {
   "cell_type": "markdown",
   "metadata": {},
   "source": [
    "#### Does the mean prevalence of heart disease differ when examined by population group?"
   ]
  },
  {
   "cell_type": "code",
   "execution_count": 38,
   "metadata": {},
   "outputs": [
    {
     "data": {
      "text/html": [
       "<div>\n",
       "<style scoped>\n",
       "    .dataframe tbody tr th:only-of-type {\n",
       "        vertical-align: middle;\n",
       "    }\n",
       "\n",
       "    .dataframe tbody tr th {\n",
       "        vertical-align: top;\n",
       "    }\n",
       "\n",
       "    .dataframe thead th {\n",
       "        text-align: right;\n",
       "    }\n",
       "</style>\n",
       "<table border=\"1\" class=\"dataframe\">\n",
       "  <thead>\n",
       "    <tr style=\"text-align: right;\">\n",
       "      <th></th>\n",
       "      <th>Population Group</th>\n",
       "      <th>Heart Disease Prevalence</th>\n",
       "    </tr>\n",
       "  </thead>\n",
       "  <tbody>\n",
       "    <tr>\n",
       "      <th>0</th>\n",
       "      <td>&lt;30000</td>\n",
       "      <td>5.843411</td>\n",
       "    </tr>\n",
       "    <tr>\n",
       "      <th>1</th>\n",
       "      <td>&gt;=30000</td>\n",
       "      <td>5.535480</td>\n",
       "    </tr>\n",
       "  </tbody>\n",
       "</table>\n",
       "</div>"
      ],
      "text/plain": [
       "  Population Group  Heart Disease Prevalence\n",
       "0           <30000                  5.843411\n",
       "1          >=30000                  5.535480"
      ]
     },
     "metadata": {},
     "output_type": "display_data"
    }
   ],
   "source": [
    "_ = heartprev_copy.groupby(\"Population Group\")[\"Heart Disease Prevalence\"].mean().reset_index()\n",
    "display(_)"
   ]
  },
  {
   "cell_type": "markdown",
   "metadata": {},
   "source": [
    "We see that there is a difference in the prevalence of heart disease between the two groups.\n",
    "\n",
    "We can perform statistical testing to examine whether this difference is due to chance."
   ]
  },
  {
   "cell_type": "markdown",
   "metadata": {},
   "source": [
    "## Heart disease and restaurant count\n",
    "\n",
    "#### Is the number of fast food restaurants within a zip code correlated to heart disease?"
   ]
  },
  {
   "cell_type": "code",
   "execution_count": 39,
   "metadata": {},
   "outputs": [
    {
     "data": {
      "image/png": "[encoded data removed]",
      "text/plain": [
       "<Figure size 432x432 with 3 Axes>"
      ]
     },
     "metadata": {
      "needs_background": "light"
     },
     "output_type": "display_data"
    }
   ],
   "source": [
    "sns.jointplot(\"Restaurant Count\",\"Heart Disease Prevalence\",data=heart_prev,kind=\"reg\",stat_func=stats.pearsonr)\n",
    "plt.show()"
   ]
  },
  {
   "cell_type": "markdown",
   "metadata": {},
   "source": [
    "From the plot we see that when viewing all zip codes, there is likely no correlation between a zip code's restaurant count and its heart disease prevalence."
   ]
  },
  {
   "cell_type": "markdown",
   "metadata": {},
   "source": [
    "#### Is the number of fast food restaurants correlated to heart disease when examined by population size?\n",
    "\n",
    "In the following plots we break down the zip codes by population size and plot restuarant count against heart disease prevalence."
   ]
  },
  {
   "cell_type": "code",
   "execution_count": 40,
   "metadata": {},
   "outputs": [
    {
     "data": {
      "image/png": "[encoded data removed]",
      "text/plain": [
       "<Figure size 720x360 with 2 Axes>"
      ]
     },
     "metadata": {
      "needs_background": "light"
     },
     "output_type": "display_data"
    },
    {
     "name": "stdout",
     "output_type": "stream",
     "text": [
      "Population Group: <30000\n",
      "-----------------------------\n",
      "pearson r and p-value:  (0.05038991636914339, 0.011039806489306121) \n",
      "\n",
      "Population Group: >=30000\n",
      "-----------------------------\n",
      "pearson r and p-value:  (0.04523066957791395, 0.051570248314069915) \n",
      "\n"
     ]
    }
   ],
   "source": [
    "sns.lmplot(\"Restaurant Count\",\"Heart Disease Prevalence\",data=heartprev_copy,fit_reg=True, \n",
    "           col=\"Population Group\", hue=\"Population Group\", col_wrap=2)\n",
    "plt.show()\n",
    "\n",
    "\n",
    "pgroups = [\"<30000\",\">=30000\"]\n",
    "for group in pgroups:\n",
    "    prev = heartprev_copy.loc[heartprev_copy[\"Population Group\"] == group]\n",
    "    _ = stats.pearsonr(prev[\"Restaurant Count\"],prev[\"Heart Disease Prevalence\"])\n",
    "    print(\"Population Group: {}\".format(group))\n",
    "    print(\"-----------------------------\")\n",
    "    print(\"pearson r and p-value: \", _,\"\\n\")"
   ]
  },
  {
   "cell_type": "markdown",
   "metadata": {},
   "source": [
    "We see in populations < 30000 there is a very weak positive correlation.\n",
    "\n",
    "There is likely no correlation between restaurant count and heart disease in populations >= 30000."
   ]
  },
  {
   "cell_type": "markdown",
   "metadata": {},
   "source": [
    "# Inferential Statistics"
   ]
  },
  {
   "cell_type": "markdown",
   "metadata": {},
   "source": [
    "## Income groups and heart disease"
   ]
  },
  {
   "cell_type": "code",
   "execution_count": 41,
   "metadata": {},
   "outputs": [
    {
     "data": {
      "text/html": [
       "<div>\n",
       "<style scoped>\n",
       "    .dataframe tbody tr th:only-of-type {\n",
       "        vertical-align: middle;\n",
       "    }\n",
       "\n",
       "    .dataframe tbody tr th {\n",
       "        vertical-align: top;\n",
       "    }\n",
       "\n",
       "    .dataframe thead th {\n",
       "        text-align: right;\n",
       "    }\n",
       "</style>\n",
       "<table border=\"1\" class=\"dataframe\">\n",
       "  <thead>\n",
       "    <tr style=\"text-align: right;\">\n",
       "      <th></th>\n",
       "      <th>Income Group</th>\n",
       "      <th>Heart Disease Prevalence</th>\n",
       "    </tr>\n",
       "  </thead>\n",
       "  <tbody>\n",
       "    <tr>\n",
       "      <th>0</th>\n",
       "      <td>&lt;50000</td>\n",
       "      <td>6.540580</td>\n",
       "    </tr>\n",
       "    <tr>\n",
       "      <th>1</th>\n",
       "      <td>&gt;=50000</td>\n",
       "      <td>4.959305</td>\n",
       "    </tr>\n",
       "  </tbody>\n",
       "</table>\n",
       "</div>"
      ],
      "text/plain": [
       "  Income Group  Heart Disease Prevalence\n",
       "0       <50000                  6.540580\n",
       "1      >=50000                  4.959305"
      ]
     },
     "metadata": {},
     "output_type": "display_data"
    }
   ],
   "source": [
    "_ = heartprev_copy.groupby(\"Income Group\")[\"Heart Disease Prevalence\"].mean().reset_index()\n",
    "display(_)"
   ]
  },
  {
   "cell_type": "markdown",
   "metadata": {},
   "source": [
    "We saw that the mean prevalence of heart disease is higher in zip codes with a median household income below 50000."
   ]
  },
  {
   "cell_type": "markdown",
   "metadata": {},
   "source": [
    "#### Is the observed difference in the samples due to chance?"
   ]
  },
  {
   "cell_type": "markdown",
   "metadata": {},
   "source": [
    "*  __Null Hypothesis__: There is no difference in the mean heart disease prevalence between groups.\n",
    "*  __Alternative Hypothesis__: The mean heart disease prevalence is higher when median household income is <50000.\n",
    "\n",
    "alpha = 0.05"
   ]
  },
  {
   "cell_type": "markdown",
   "metadata": {},
   "source": [
    "To test the hypotheses we draw bootstrap samples of both groups and compare the bootstrap difference in means to the observed difference in means."
   ]
  },
  {
   "cell_type": "code",
   "execution_count": 42,
   "metadata": {},
   "outputs": [
    {
     "name": "stdout",
     "output_type": "stream",
     "text": [
      "p-value = 0.0\n"
     ]
    }
   ],
   "source": [
    "# Functions to draw bootstrap replicates\n",
    "def bootstrap_replicate_1d(data, func):\n",
    "    return func(np.random.choice(data, size=len(data)))\n",
    "\n",
    "def draw_bs_reps(data, func, size=1):\n",
    "    bs_replicates = np.empty(size)\n",
    "    for i in range(size):\n",
    "        bs_replicates[i] = bootstrap_replicate_1d(data,func)\n",
    "    return bs_replicates\n",
    "\n",
    "# Compute the mean of heart disease prevalence\n",
    "mean_prev = np.mean(heartprev_copy[\"Heart Disease Prevalence\"])\n",
    "\n",
    "# Separate heart disease prevalence by low and high income\n",
    "low_income_prev = heartprev_copy[heartprev_copy[\"Income Group\"] == \"<50000\"][\"Heart Disease Prevalence\"]\n",
    "high_income_prev = heartprev_copy[heartprev_copy[\"Income Group\"] == \">=50000\"][\"Heart Disease Prevalence\"]\n",
    "\n",
    "# Calculate the observed difference in means\n",
    "empirical_diff_means = np.mean(low_income_prev) - np.mean(high_income_prev)\n",
    "\n",
    "# Generate shifted arrays\n",
    "low_income_shifted = low_income_prev - np.mean(low_income_prev) + mean_prev\n",
    "high_income_shifted = high_income_prev - np.mean(high_income_prev) + mean_prev\n",
    "\n",
    "# Compute 10,000 bootstrap replicates from shifted arrays\n",
    "bs_replicates_l = draw_bs_reps(low_income_shifted, np.mean, size=10000)\n",
    "bs_replicates_h = draw_bs_reps(high_income_shifted, np.mean, size=10000)\n",
    "\n",
    "# Get replicates of difference of means\n",
    "bs_replicates = bs_replicates_l - bs_replicates_h\n",
    "\n",
    "# Compute and print p-value: \n",
    "p = np.sum(bs_replicates >= empirical_diff_means) / len(bs_replicates)\n",
    "print('p-value =', p)\n"
   ]
  },
  {
   "cell_type": "markdown",
   "metadata": {},
   "source": [
    "A p-value close to 0 indicates we reject the null hypothesis. There is a difference in the means of both groups. The alternative hypothesis suggests that the mean heart disease prevalence is higher when median household income is below 50000 in a zip code."
   ]
  },
  {
   "cell_type": "markdown",
   "metadata": {},
   "source": [
    "## Population groups and heart disease"
   ]
  },
  {
   "cell_type": "code",
   "execution_count": 43,
   "metadata": {},
   "outputs": [
    {
     "data": {
      "text/html": [
       "<div>\n",
       "<style scoped>\n",
       "    .dataframe tbody tr th:only-of-type {\n",
       "        vertical-align: middle;\n",
       "    }\n",
       "\n",
       "    .dataframe tbody tr th {\n",
       "        vertical-align: top;\n",
       "    }\n",
       "\n",
       "    .dataframe thead th {\n",
       "        text-align: right;\n",
       "    }\n",
       "</style>\n",
       "<table border=\"1\" class=\"dataframe\">\n",
       "  <thead>\n",
       "    <tr style=\"text-align: right;\">\n",
       "      <th></th>\n",
       "      <th>Population Group</th>\n",
       "      <th>Heart Disease Prevalence</th>\n",
       "    </tr>\n",
       "  </thead>\n",
       "  <tbody>\n",
       "    <tr>\n",
       "      <th>0</th>\n",
       "      <td>&lt;30000</td>\n",
       "      <td>5.843411</td>\n",
       "    </tr>\n",
       "    <tr>\n",
       "      <th>1</th>\n",
       "      <td>&gt;=30000</td>\n",
       "      <td>5.535480</td>\n",
       "    </tr>\n",
       "  </tbody>\n",
       "</table>\n",
       "</div>"
      ],
      "text/plain": [
       "  Population Group  Heart Disease Prevalence\n",
       "0           <30000                  5.843411\n",
       "1          >=30000                  5.535480"
      ]
     },
     "metadata": {},
     "output_type": "display_data"
    }
   ],
   "source": [
    "_ = heartprev_copy.groupby(\"Population Group\")[\"Heart Disease Prevalence\"].mean().reset_index()\n",
    "display(_)"
   ]
  },
  {
   "cell_type": "markdown",
   "metadata": {},
   "source": [
    "We saw that the mean prevalence of heart disease is higher in zip codes with a population below 30000."
   ]
  },
  {
   "cell_type": "markdown",
   "metadata": {},
   "source": [
    "#### Is the observed difference in the samples due to chance?"
   ]
  },
  {
   "cell_type": "markdown",
   "metadata": {},
   "source": [
    "*  __Null Hypothesis__: There is no difference in the mean heart disease prevalence between groups.\n",
    "*  __Alternative Hypothesis__: The mean heart disease prevalence is higher when population < 30000.\n",
    "\n",
    "alpha = 0.05"
   ]
  },
  {
   "cell_type": "markdown",
   "metadata": {},
   "source": [
    "To test the hypotheses we draw bootstrap samples of both groups and compare the bootstrap difference in means to the observed difference in means."
   ]
  },
  {
   "cell_type": "code",
   "execution_count": 44,
   "metadata": {},
   "outputs": [
    {
     "name": "stdout",
     "output_type": "stream",
     "text": [
      "p-value = 0.0\n"
     ]
    }
   ],
   "source": [
    "# Separate heart disease prevalence by population\n",
    "low_pop_prev = heartprev_copy[heartprev_copy[\"Population Group\"] == \"<30000\"][\"Heart Disease Prevalence\"]\n",
    "high_pop_prev = heartprev_copy[heartprev_copy[\"Population Group\"] == \">=30000\"][\"Heart Disease Prevalence\"]\n",
    "\n",
    "# Calculate the observed difference in means\n",
    "empirical_diff_means = np.mean(low_pop_prev) - np.mean(high_pop_prev)\n",
    "\n",
    "# Generate shifted arrays\n",
    "low_pop_shifted = low_pop_prev - np.mean(low_pop_prev) + mean_prev\n",
    "high_pop_shifted = high_pop_prev - np.mean(high_pop_prev) + mean_prev\n",
    "\n",
    "# Compute 10,000 bootstrap replicates from shifted arrays\n",
    "bs_replicates_l = draw_bs_reps(low_pop_shifted, np.mean, size=10000)\n",
    "bs_replicates_h = draw_bs_reps(high_pop_shifted, np.mean, size=10000)\n",
    "\n",
    "# Get replicates of difference of means\n",
    "bs_replicates = bs_replicates_l - bs_replicates_h\n",
    "\n",
    "# Compute and print p-value: \n",
    "p = np.sum(bs_replicates >= empirical_diff_means) / len(bs_replicates)\n",
    "print('p-value =', p)\n"
   ]
  },
  {
   "cell_type": "markdown",
   "metadata": {},
   "source": [
    "A p-value close to 0 indicates we reject the null hypothesis. There is a difference in the means of both groups. The alternative hypothesis suggests that the mean heart disease prevalence is higher when zip code population is below 30000."
   ]
  },
  {
   "cell_type": "markdown",
   "metadata": {},
   "source": [
    "#### Summary\n",
    "\n",
    "The following features have moderate to strong correlations with heart disease prevalence and will be useful for our model:\n",
    "\n",
    "1. High cholesterol prevalence\n",
    "2. Hypertension prevalence\n",
    "3. Diabetes prevalence\n",
    "4. Sedentarism prevalence\n",
    "5. Obesity prevalence\n",
    "6. Smoking prevalence\n",
    "7. Median household income\n",
    "8. Population\n",
    "\n",
    "Restaurant count per zip code may not be helpful for our model. It has a very weak correlation with heart disease prevalence in populations < 30000."
   ]
  },
  {
   "cell_type": "markdown",
   "metadata": {},
   "source": [
    "# In-depth Analysis"
   ]
  },
  {
   "cell_type": "markdown",
   "metadata": {},
   "source": [
    "The data is split into the target variable, heart disease prevalence (y), and its features (X).\n",
    "\n",
    "We will use various untuned supervised learning estimators to see which works best by default. We will then tune the top-performing estimators. The metric used for performance will be RMSE and 5-fold cross-validation with be performed.\n",
    "\n",
    "Training will be performed using 80% of the data, and 20% will be reserved for final evaluation of the model."
   ]
  },
  {
   "cell_type": "code",
   "execution_count": 45,
   "metadata": {},
   "outputs": [],
   "source": [
    "# Import split, cross validation, imputer and pipeline\n",
    "from sklearn.model_selection import train_test_split\n",
    "from sklearn.model_selection import cross_val_score\n",
    "from sklearn.metrics import mean_squared_error\n",
    "from sklearn.impute import SimpleImputer\n",
    "from sklearn.pipeline import Pipeline\n",
    "\n",
    "# Select features and target variable\n",
    "X = heart_prev.drop(columns=[\"Zip Code\", \"Heart Disease Prevalence\",\"Restaurant Count\",\n",
    "                     \"Population Group\",\"Restaurant Group\"])\n",
    "y = heart_prev[[\"Heart Disease Prevalence\"]]\n",
    "\n",
    "# Split the data into training and test sets\n",
    "X_train, X_test, y_train, y_test = train_test_split(X, y, test_size=0.2, random_state=42)"
   ]
  },
  {
   "cell_type": "code",
   "execution_count": 46,
   "metadata": {},
   "outputs": [],
   "source": [
    "# Set an imputer to fill missing values with the mean of the column\n",
    "imp = SimpleImputer(strategy=\"mean\")"
   ]
  },
  {
   "cell_type": "markdown",
   "metadata": {},
   "source": [
    "### Linear Regression"
   ]
  },
  {
   "cell_type": "code",
   "execution_count": 47,
   "metadata": {},
   "outputs": [
    {
     "name": "stdout",
     "output_type": "stream",
     "text": [
      "Linear Regression cross validation scores:\n",
      "0.7640016006457158\n",
      "0.616391616918767\n",
      "0.7173613585882987\n",
      "0.6456242575199455\n",
      "0.599923604638814\n",
      "\n",
      "Average Score on 5-Folds:  0.6686604876623082\n"
     ]
    }
   ],
   "source": [
    "from sklearn.linear_model import LinearRegression\n",
    "\n",
    "est = LinearRegression()\n",
    "steps = [('Imputation',imp), (\"Estimator\",est)]\n",
    "pipeline = Pipeline(steps)\n",
    "pipeline.fit(X_train, y_train)\n",
    "\n",
    "cv_scores= cross_val_score(pipeline, X_train, y_train, cv=5, scoring=\"neg_mean_squared_error\")\n",
    "cv_scores = np.sqrt(cv_scores * -1)\n",
    "\n",
    "scores = dict()\n",
    "scores[\"Linear Regression\"] = np.mean(cv_scores)\n",
    "\n",
    "print(\"Linear Regression cross validation scores:\")\n",
    "for score in cv_scores:\n",
    "    print(score)\n",
    "    \n",
    "print(\"\\nAverage Score on 5-Folds: \", scores[\"Linear Regression\"])"
   ]
  },
  {
   "cell_type": "markdown",
   "metadata": {},
   "source": [
    "### Lasso Regression"
   ]
  },
  {
   "cell_type": "code",
   "execution_count": 48,
   "metadata": {},
   "outputs": [
    {
     "name": "stdout",
     "output_type": "stream",
     "text": [
      "Lasso Regression cross validation scores:\n",
      "0.8907985229596318\n",
      "0.6856086049982978\n",
      "0.8412855240670011\n",
      "0.7146179925453434\n",
      "0.6835626169733958\n",
      "\n",
      "Average Score on 5-Folds:  0.7631746523087339\n"
     ]
    }
   ],
   "source": [
    "from sklearn.linear_model import Lasso\n",
    "\n",
    "est = Lasso(random_state=42)\n",
    "steps = [('Imputation',imp), (\"Estimator\",est)]\n",
    "pipeline = Pipeline(steps)\n",
    "pipeline.fit(X_train, y_train)\n",
    "\n",
    "cv_scores= cross_val_score(pipeline, X_train, y_train, cv=5, scoring=\"neg_mean_squared_error\")\n",
    "cv_scores = np.sqrt(cv_scores * -1)\n",
    "\n",
    "scores[\"Lasso Regression\"] = np.mean(cv_scores)\n",
    "\n",
    "print(\"Lasso Regression cross validation scores:\")\n",
    "for score in cv_scores:\n",
    "    print(score)\n",
    "    \n",
    "print(\"\\nAverage Score on 5-Folds: \", scores[\"Lasso Regression\"])"
   ]
  },
  {
   "cell_type": "markdown",
   "metadata": {},
   "source": [
    "### Ridge Regressor"
   ]
  },
  {
   "cell_type": "code",
   "execution_count": 49,
   "metadata": {},
   "outputs": [
    {
     "name": "stdout",
     "output_type": "stream",
     "text": [
      "Ridge Regression cross validation scores:\n",
      "0.7640051016423387\n",
      "0.6163893851233473\n",
      "0.7173626213449562\n",
      "0.6456231419656402\n",
      "0.5999204163478954\n",
      "\n",
      "Average Score on 5-Folds:  0.6686601332848354\n"
     ]
    }
   ],
   "source": [
    "from sklearn.linear_model import Ridge\n",
    "\n",
    "est = Ridge(random_state=42)\n",
    "steps = [('Imputation',imp), (\"Estimator\",est)]\n",
    "pipeline = Pipeline(steps)\n",
    "pipeline.fit(X_train, y_train)\n",
    "\n",
    "cv_scores= cross_val_score(pipeline, X_train, y_train, cv=5, scoring=\"neg_mean_squared_error\")\n",
    "cv_scores = np.sqrt(cv_scores * -1)\n",
    "\n",
    "scores[\"Ridge Regression\"] = np.mean(cv_scores)\n",
    "\n",
    "print(\"Ridge Regression cross validation scores:\")\n",
    "for score in cv_scores:\n",
    "    print(score)\n",
    "    \n",
    "print(\"\\nAverage Score on 5-Folds: \", scores[\"Ridge Regression\"])"
   ]
  },
  {
   "cell_type": "markdown",
   "metadata": {},
   "source": [
    "### Decision Tree"
   ]
  },
  {
   "cell_type": "code",
   "execution_count": 50,
   "metadata": {},
   "outputs": [
    {
     "name": "stdout",
     "output_type": "stream",
     "text": [
      "Decision Tree cross validation scores:\n",
      "0.7499448129814535\n",
      "0.7102485303215036\n",
      "0.8044003891453831\n",
      "0.6791831296908507\n",
      "0.6863891261764681\n",
      "\n",
      "Average Score on 5-Folds:  0.7260331976631318\n"
     ]
    }
   ],
   "source": [
    "from sklearn import tree\n",
    "\n",
    "est = tree.DecisionTreeRegressor(max_depth=6, random_state=42)\n",
    "steps = [('Imputation',imp), (\"Estimator\",est)]\n",
    "pipeline = Pipeline(steps)\n",
    "pipeline.fit(X_train, y_train)\n",
    "\n",
    "cv_scores= cross_val_score(pipeline, X_train, y_train, cv=5, scoring=\"neg_mean_squared_error\")\n",
    "cv_scores = np.sqrt(cv_scores * -1)\n",
    "\n",
    "scores[\"Decision Tree\"] = np.mean(cv_scores)\n",
    "\n",
    "print(\"Decision Tree cross validation scores:\")\n",
    "for score in cv_scores:\n",
    "    print(score)\n",
    "    \n",
    "print(\"\\nAverage Score on 5-Folds: \", scores[\"Decision Tree\"])"
   ]
  },
  {
   "cell_type": "markdown",
   "metadata": {},
   "source": [
    "### Random Forest"
   ]
  },
  {
   "cell_type": "code",
   "execution_count": 51,
   "metadata": {},
   "outputs": [
    {
     "name": "stdout",
     "output_type": "stream",
     "text": [
      "Random Forest cross validation scores:\n",
      "0.6681219142487355\n",
      "0.5667972630205025\n",
      "0.6558352025125624\n",
      "0.5864388808791253\n",
      "0.5958390142506603\n",
      "\n",
      "Average Score on 5-Folds:  0.6146064549823173\n"
     ]
    }
   ],
   "source": [
    "from sklearn.ensemble import RandomForestRegressor\n",
    "\n",
    "est = RandomForestRegressor(random_state=42)\n",
    "steps = [('Imputation',imp), (\"Estimator\",est)]\n",
    "pipeline = Pipeline(steps)\n",
    "pipeline.fit(X_train, y_train)\n",
    "\n",
    "cv_scores= cross_val_score(pipeline, X_train, y_train, cv=5, scoring=\"neg_mean_squared_error\")\n",
    "cv_scores = np.sqrt(cv_scores * -1)\n",
    "\n",
    "scores[\"Random Forest\"] = np.mean(cv_scores)\n",
    "\n",
    "print(\"Random Forest cross validation scores:\")\n",
    "for score in cv_scores:\n",
    "    print(score)\n",
    "    \n",
    "print(\"\\nAverage Score on 5-Folds: \", scores[\"Random Forest\"])"
   ]
  },
  {
   "cell_type": "markdown",
   "metadata": {},
   "source": [
    "### Adaptive Boost Regressor"
   ]
  },
  {
   "cell_type": "code",
   "execution_count": 52,
   "metadata": {},
   "outputs": [
    {
     "name": "stdout",
     "output_type": "stream",
     "text": [
      "AdaBoost cross validation scores:\n",
      "0.6704010809254741\n",
      "0.5912351239896717\n",
      "0.7043546371891471\n",
      "0.6010123956946263\n",
      "0.5969350114572188\n",
      "\n",
      "Average Score on 5-Folds:  0.6327876498512277\n"
     ]
    }
   ],
   "source": [
    "from sklearn.ensemble import AdaBoostRegressor\n",
    "\n",
    "trees = tree.DecisionTreeRegressor(max_depth=6, random_state=42)\n",
    "\n",
    "est = AdaBoostRegressor(base_estimator=trees, random_state=42)\n",
    "steps = [('Imputation',imp), (\"Estimator\",est)]\n",
    "pipeline = Pipeline(steps)\n",
    "pipeline.fit(X_train, y_train)\n",
    "\n",
    "cv_scores= cross_val_score(pipeline, X_train, y_train, cv=5, scoring=\"neg_mean_squared_error\")\n",
    "cv_scores = np.sqrt(cv_scores * -1)\n",
    "\n",
    "scores[\"AdaBoost\"] = np.mean(cv_scores)\n",
    "\n",
    "print(\"AdaBoost cross validation scores:\")\n",
    "for score in cv_scores:\n",
    "    print(score)\n",
    "    \n",
    "print(\"\\nAverage Score on 5-Folds: \", scores[\"AdaBoost\"])"
   ]
  },
  {
   "cell_type": "markdown",
   "metadata": {},
   "source": [
    "### Gradient Boost Regressor"
   ]
  },
  {
   "cell_type": "code",
   "execution_count": 53,
   "metadata": {},
   "outputs": [
    {
     "name": "stdout",
     "output_type": "stream",
     "text": [
      "Gradient Boost Regressor cross validation scores:\n",
      "0.6470218110627873\n",
      "0.5626663565701054\n",
      "0.6147973152554178\n",
      "0.565463070239759\n",
      "0.58506549122935\n",
      "\n",
      "Average Score on 5-Folds:  0.5950028088714839\n"
     ]
    }
   ],
   "source": [
    "from sklearn.ensemble import GradientBoostingRegressor\n",
    "\n",
    "est = GradientBoostingRegressor(random_state=42)\n",
    "steps = [('Imputation',imp), (\"Estimator\",est)]\n",
    "pipeline = Pipeline(steps)\n",
    "pipeline.fit(X_train, y_train)\n",
    "\n",
    "cv_scores= cross_val_score(pipeline, X_train, y_train, cv=5, scoring=\"neg_mean_squared_error\")\n",
    "cv_scores = np.sqrt(cv_scores * -1)\n",
    "\n",
    "scores[\"Gradient Boost Regressor\"] = np.mean(cv_scores)\n",
    "\n",
    "print(\"Gradient Boost Regressor cross validation scores:\")\n",
    "for score in cv_scores:\n",
    "    print(score)\n",
    "    \n",
    "print(\"\\nAverage Score on 5-Folds: \", scores[\"Gradient Boost Regressor\"])"
   ]
  },
  {
   "cell_type": "markdown",
   "metadata": {},
   "source": [
    "### Elastic Net"
   ]
  },
  {
   "cell_type": "code",
   "execution_count": 54,
   "metadata": {},
   "outputs": [
    {
     "name": "stdout",
     "output_type": "stream",
     "text": [
      "Elastic Net cross validation scores:\n",
      "0.864086471141114\n",
      "0.6620291616479348\n",
      "0.8038975340387999\n",
      "0.6933738349128078\n",
      "0.6612875130534176\n",
      "\n",
      "Average Score on 5-Folds:  0.7369349029588148\n"
     ]
    }
   ],
   "source": [
    "from sklearn.linear_model import ElasticNet\n",
    "\n",
    "est = ElasticNet()\n",
    "steps = [('Imputation',imp), (\"Estimator\",est)]\n",
    "pipeline = Pipeline(steps)\n",
    "pipeline.fit(X_train, y_train)\n",
    "\n",
    "cv_scores= cross_val_score(pipeline, X_train, y_train, cv=5, scoring=\"neg_mean_squared_error\")\n",
    "cv_scores = np.sqrt(cv_scores * -1)\n",
    "\n",
    "scores[\"Elastic Net\"] = np.mean(cv_scores)\n",
    "\n",
    "print(\"Elastic Net cross validation scores:\")\n",
    "for score in cv_scores:\n",
    "    print(score)\n",
    "    \n",
    "print(\"\\nAverage Score on 5-Folds: \", scores[\"Elastic Net\"])"
   ]
  },
  {
   "cell_type": "markdown",
   "metadata": {},
   "source": [
    "### Summary of un-tuned scores"
   ]
  },
  {
   "cell_type": "markdown",
   "metadata": {},
   "source": [
    "A gradient boost regressor had the best default performance at 0.595 RMSE. The random forest performed similarly well at 0.615 RMSE. Both estimators should be evaluated for improved performance through tuning."
   ]
  },
  {
   "cell_type": "code",
   "execution_count": 55,
   "metadata": {},
   "outputs": [
    {
     "name": "stdout",
     "output_type": "stream",
     "text": [
      "Gradient Boost Regressor :  0.5950028088714839\n",
      "Random Forest :  0.6146064549823173\n",
      "AdaBoost :  0.6327876498512277\n",
      "Ridge Regression :  0.6686601332848354\n",
      "Linear Regression :  0.6686604876623082\n",
      "Decision Tree :  0.7260331976631318\n",
      "Elastic Net :  0.7369349029588148\n",
      "Lasso Regression :  0.7631746523087339\n"
     ]
    }
   ],
   "source": [
    "scores = sorted(scores.items(), key= lambda score: score[1], reverse=False)\n",
    "for k,v in scores:\n",
    "    print(k,\": \",v)"
   ]
  },
  {
   "cell_type": "markdown",
   "metadata": {},
   "source": [
    "## Hyperparamenter Tuning"
   ]
  },
  {
   "cell_type": "markdown",
   "metadata": {},
   "source": [
    "The top two performing estimators, gradient boost and random forests, will be tuned and re-evaluated using RMSE scoring."
   ]
  },
  {
   "cell_type": "markdown",
   "metadata": {},
   "source": [
    "### Tuned Gradient Boost Regression"
   ]
  },
  {
   "cell_type": "code",
   "execution_count": 56,
   "metadata": {},
   "outputs": [
    {
     "name": "stdout",
     "output_type": "stream",
     "text": [
      "Best parameters:\n",
      "---------------\n",
      "GBR__max_depth :  3\n",
      "GBR__n_estimators :  500\n",
      "\n",
      "Best score:  0.5839790648596442\n"
     ]
    }
   ],
   "source": [
    "from sklearn.model_selection import GridSearchCV\n",
    "\n",
    "steps = [(\"Imputation\",imp),(\"GBR\", GradientBoostingRegressor(random_state=42))]\n",
    "pipeline = Pipeline(steps)\n",
    "\n",
    "params = {\"GBR__n_estimators\":[100, 200, 500],\n",
    "          \"GBR__max_depth\":[3, 5]}\n",
    "\n",
    "cv = GridSearchCV(pipeline, param_grid=params, cv=5, scoring=\"neg_mean_squared_error\")\n",
    "cv.fit(X_train, y_train)\n",
    "\n",
    "cv_param = cv.best_params_\n",
    "cv_score = np.sqrt(cv.best_score_ * -1)\n",
    "\n",
    "print(\"Best parameters:\\n---------------\")\n",
    "for k,v in cv_param.items():\n",
    "    print(k,\": \",v)\n",
    "print(\"\\nBest score: \", cv_score)"
   ]
  },
  {
   "cell_type": "markdown",
   "metadata": {},
   "source": [
    "### Tuned Random Forest"
   ]
  },
  {
   "cell_type": "code",
   "execution_count": 57,
   "metadata": {},
   "outputs": [
    {
     "name": "stdout",
     "output_type": "stream",
     "text": [
      "Best parameters:\n",
      "---------------\n",
      "forest__max_depth :  7\n",
      "forest__n_estimators :  100\n",
      "\n",
      "Best score:  0.6132378650737339\n"
     ]
    }
   ],
   "source": [
    "steps = [(\"Imputation\",imp),(\"forest\", RandomForestRegressor(random_state=42))]\n",
    "pipeline = Pipeline(steps)\n",
    "\n",
    "params = {\"forest__n_estimators\": [1, 5, 10, 50, 100, 200],\n",
    "          \"forest__max_depth\": [3, 5, 7]}\n",
    " \n",
    "cv = GridSearchCV(pipeline, param_grid=params, cv=5, scoring=\"neg_mean_squared_error\")\n",
    "cv.fit(X_train, y_train)\n",
    "\n",
    "cv_param = cv.best_params_\n",
    "cv_score = np.sqrt(cv.best_score_ * -1)\n",
    "\n",
    "print(\"Best parameters:\\n---------------\")\n",
    "for k,v in cv_param.items():\n",
    "    print(k,\": \",v)\n",
    "print(\"\\nBest score: \", cv_score)"
   ]
  },
  {
   "cell_type": "markdown",
   "metadata": {},
   "source": [
    "Gradient boost regression provides the best score before and after tuning, with a final RMSE of 0.584."
   ]
  },
  {
   "cell_type": "markdown",
   "metadata": {},
   "source": [
    "## Feature importance"
   ]
  },
  {
   "cell_type": "markdown",
   "metadata": {},
   "source": [
    "Now we examine which features provide the most predictive value for the model using Mutual Information scoring."
   ]
  },
  {
   "cell_type": "code",
   "execution_count": 58,
   "metadata": {},
   "outputs": [
    {
     "name": "stdout",
     "output_type": "stream",
     "text": [
      "Hypertension Prevalence :  90.77391590361641\n",
      "Cholesterol Prevalence :  90.7381582465927\n",
      "Diabetes Prevalence :  82.40873048609627\n",
      "Sedentarism Prevalence :  36.31424280113569\n",
      "median_household_income :  32.195373421298434\n",
      "Obesity Prevalence :  28.59192804863877\n",
      "Smoking Prevalence :  26.30271018326651\n",
      "Population :  12.924736634020917\n"
     ]
    }
   ],
   "source": [
    "from sklearn.feature_selection import SelectKBest\n",
    "from sklearn.feature_selection import mutual_info_regression\n",
    "\n",
    "kbest=SelectKBest(score_func=mutual_info_regression, k=5)\n",
    "\n",
    "steps = [(\"Imputation\",imp),(\"Select K Best\",kbest)]\n",
    "pipeline = Pipeline(steps)\n",
    "\n",
    "pipeline.fit(X, y)\n",
    "\n",
    "feature_names = X.columns\n",
    "feature_scores = list(zip(feature_names, kbest.scores_))\n",
    "\n",
    "feature_scores.sort(key=lambda x:x[1], reverse=True)\n",
    "\n",
    "for f,s in feature_scores:\n",
    "    print(f,\": \",s*100)"
   ]
  },
  {
   "cell_type": "code",
   "execution_count": 59,
   "metadata": {},
   "outputs": [
    {
     "data": {
      "image/png": "[encoded data removed]",
      "text/plain": [
       "<Figure size 1440x360 with 1 Axes>"
      ]
     },
     "metadata": {
      "needs_background": "light"
     },
     "output_type": "display_data"
    }
   ],
   "source": [
    "feature = []\n",
    "score = []\n",
    "for f,s in feature_scores:\n",
    "    feature.append(f)\n",
    "    score.append(s)\n",
    "    \n",
    "plt.subplots(figsize=(20,5))\n",
    "plot = sns.barplot(feature, score, palette=\"Reds_r\")\n",
    "plot.set(title=\"Feature Importance\",xlabel=\"Feature\",ylabel=\"Mutual Information Score\",)\n",
    "plt.show()"
   ]
  },
  {
   "cell_type": "markdown",
   "metadata": {},
   "source": [
    "Heart disease's well-known risk factors are the strongest predictors as expected. Median household income is approximately as strong of a predictor as well-known risk factors, smoking and obesity. Population contributes minimally to prediction."
   ]
  },
  {
   "cell_type": "markdown",
   "metadata": {},
   "source": [
    "## Final Model"
   ]
  },
  {
   "cell_type": "code",
   "execution_count": 60,
   "metadata": {},
   "outputs": [
    {
     "name": "stdout",
     "output_type": "stream",
     "text": [
      "Training set R2: 96.31533870972207\n",
      "Training set RMSE: 0.3727566351563874\n",
      "\n",
      "\n",
      "Test set R2: 89.91391360067519\n",
      "Test set RMSE: 0.5919690982490107\n"
     ]
    }
   ],
   "source": [
    "gbr = GradientBoostingRegressor(random_state=42, n_estimators=500, max_depth=3)\n",
    "\n",
    "steps = [(\"Imputation\",imp),(\"Estimator\",gbr)]\n",
    "pipeline = Pipeline(steps)\n",
    "\n",
    "pipeline.fit(X_train, y_train)\n",
    "\n",
    "y_pred_train = pipeline.predict(X_train)\n",
    "y_pred_test = pipeline.predict(X_test)\n",
    "\n",
    "train_r2 = pipeline.score(X_train, y_train)\n",
    "train_rmse = np.sqrt(mean_squared_error(y_train,y_pred_train))\n",
    "\n",
    "test_r2 = pipeline.score(X_test, y_test)\n",
    "test_rmse = np.sqrt(mean_squared_error(y_test,y_pred_test))\n",
    "\n",
    "\n",
    "print(\"Training set R2: {}\".format(train_r2*100))\n",
    "print(\"Training set RMSE: {}\".format(train_rmse))\n",
    "print(\"\\n\")\n",
    "print(\"Test set R2: {}\".format(test_r2*100))\n",
    "print(\"Test set RMSE: {}\".format(test_rmse))"
   ]
  },
  {
   "cell_type": "markdown",
   "metadata": {},
   "source": [
    "The model shows good R2 and RMSE scores on both the training and the test sets. This model is expected to perform well on other unseen data."
   ]
  },
  {
   "cell_type": "markdown",
   "metadata": {},
   "source": [
    "## Recommendation"
   ]
  },
  {
   "cell_type": "markdown",
   "metadata": {},
   "source": [
    "The model examines the impact of two socioeconomic factors (household income and population) on disease prevalence. This model can be taken further by incorporating other socioeconomic features such distance and means of transportation to work, education levels and home values.\n",
    "\n",
    "Additionally, the model may also provide more insight using an updated dataset for fast food restaurant locations within the US."
   ]
  },
  {
   "cell_type": "code",
   "execution_count": null,
   "metadata": {},
   "outputs": [],
   "source": []
  }
 ],
 "metadata": {
  "kernelspec": {
   "display_name": "Python 3",
   "language": "python",
   "name": "python3"
  },
  "language_info": {
   "codemirror_mode": {
    "name": "ipython",
    "version": 3
   },
   "file_extension": ".py",
   "mimetype": "text/x-python",
   "name": "python",
   "nbconvert_exporter": "python",
   "pygments_lexer": "ipython3",
   "version": "3.7.1"
  }
 },
 "nbformat": 4,
 "nbformat_minor": 2
}
