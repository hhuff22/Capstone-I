{
 "cells": [
  {
   "cell_type": "code",
   "execution_count": 8,
   "metadata": {},
   "outputs": [
    {
     "data": {
      "text/html": [
       "<style>.output {display: flex; \\\n",
       "              align-items: center; \\\n",
       "              text-align: center;} \\\n",
       "              </style>"
      ],
      "text/plain": [
       "<IPython.core.display.HTML object>"
      ]
     },
     "metadata": {},
     "output_type": "display_data"
    }
   ],
   "source": [
    "import pandas as pd\n",
    "import numpy as np\n",
    "import matplotlib.pyplot as plt\n",
    "import seaborn as sns\n",
    "from scipy import stats\n",
    "sns.set()\n",
    "\n",
    "import warnings\n",
    "warnings.filterwarnings('ignore')\n",
    "from IPython.display import display, HTML\n",
    "display(HTML(r\"<style>.output {display: flex; \\\n",
    "              align-items: center; \\\n",
    "              text-align: center;} \\\n",
    "              </style>\"))"
   ]
  },
  {
   "cell_type": "markdown",
   "metadata": {},
   "source": [
    "## Inferential Statistics"
   ]
  },
  {
   "cell_type": "code",
   "execution_count": 9,
   "metadata": {},
   "outputs": [
    {
     "data": {
      "text/html": [
       "<div>\n",
       "<style scoped>\n",
       "    .dataframe tbody tr th:only-of-type {\n",
       "        vertical-align: middle;\n",
       "    }\n",
       "\n",
       "    .dataframe tbody tr th {\n",
       "        vertical-align: top;\n",
       "    }\n",
       "\n",
       "    .dataframe thead th {\n",
       "        text-align: right;\n",
       "    }\n",
       "</style>\n",
       "<table border=\"1\" class=\"dataframe\">\n",
       "  <thead>\n",
       "    <tr style=\"text-align: right;\">\n",
       "      <th></th>\n",
       "      <th>Zip Code</th>\n",
       "      <th>Smoking Prevalence</th>\n",
       "      <th>Hypertension Prevalence</th>\n",
       "      <th>Obesity Prevalence</th>\n",
       "      <th>Sedentarism Prevalence</th>\n",
       "      <th>Cholesterol Prevalence</th>\n",
       "      <th>Diabetes Prevalence</th>\n",
       "      <th>Heart Disease Prevalence</th>\n",
       "      <th>Restaurant Count</th>\n",
       "      <th>Population</th>\n",
       "      <th>Population Group</th>\n",
       "      <th>Restaurant Group</th>\n",
       "      <th>median_household_income</th>\n",
       "      <th>Income Group</th>\n",
       "    </tr>\n",
       "  </thead>\n",
       "  <tbody>\n",
       "    <tr>\n",
       "      <th>0</th>\n",
       "      <td>1104</td>\n",
       "      <td>24.269272</td>\n",
       "      <td>33.257045</td>\n",
       "      <td>37.437441</td>\n",
       "      <td>37.721353</td>\n",
       "      <td>38.392990</td>\n",
       "      <td>14.837576</td>\n",
       "      <td>8.816472</td>\n",
       "      <td>5.0</td>\n",
       "      <td>6726</td>\n",
       "      <td>&lt;10000</td>\n",
       "      <td>0-7</td>\n",
       "      <td>32273.0</td>\n",
       "      <td>&lt;50000</td>\n",
       "    </tr>\n",
       "    <tr>\n",
       "      <th>1</th>\n",
       "      <td>1105</td>\n",
       "      <td>28.596151</td>\n",
       "      <td>32.879892</td>\n",
       "      <td>42.176132</td>\n",
       "      <td>43.694299</td>\n",
       "      <td>37.409454</td>\n",
       "      <td>15.840128</td>\n",
       "      <td>7.849705</td>\n",
       "      <td>4.0</td>\n",
       "      <td>6075</td>\n",
       "      <td>&lt;10000</td>\n",
       "      <td>0-7</td>\n",
       "      <td>18402.0</td>\n",
       "      <td>&lt;50000</td>\n",
       "    </tr>\n",
       "    <tr>\n",
       "      <th>2</th>\n",
       "      <td>1108</td>\n",
       "      <td>23.844497</td>\n",
       "      <td>30.236068</td>\n",
       "      <td>35.381122</td>\n",
       "      <td>34.251449</td>\n",
       "      <td>35.500119</td>\n",
       "      <td>12.581968</td>\n",
       "      <td>6.943035</td>\n",
       "      <td>2.0</td>\n",
       "      <td>7038</td>\n",
       "      <td>&lt;10000</td>\n",
       "      <td>0-7</td>\n",
       "      <td>34064.0</td>\n",
       "      <td>&lt;50000</td>\n",
       "    </tr>\n",
       "    <tr>\n",
       "      <th>3</th>\n",
       "      <td>1109</td>\n",
       "      <td>23.329629</td>\n",
       "      <td>32.285360</td>\n",
       "      <td>37.212078</td>\n",
       "      <td>33.779183</td>\n",
       "      <td>34.154532</td>\n",
       "      <td>13.474276</td>\n",
       "      <td>6.706302</td>\n",
       "      <td>2.0</td>\n",
       "      <td>7577</td>\n",
       "      <td>&lt;10000</td>\n",
       "      <td>0-7</td>\n",
       "      <td>33376.0</td>\n",
       "      <td>&lt;50000</td>\n",
       "    </tr>\n",
       "    <tr>\n",
       "      <th>4</th>\n",
       "      <td>1119</td>\n",
       "      <td>21.656562</td>\n",
       "      <td>30.136570</td>\n",
       "      <td>33.192432</td>\n",
       "      <td>29.277953</td>\n",
       "      <td>34.842082</td>\n",
       "      <td>11.433115</td>\n",
       "      <td>6.894488</td>\n",
       "      <td>2.0</td>\n",
       "      <td>5361</td>\n",
       "      <td>&lt;10000</td>\n",
       "      <td>0-7</td>\n",
       "      <td>46055.0</td>\n",
       "      <td>&lt;50000</td>\n",
       "    </tr>\n",
       "  </tbody>\n",
       "</table>\n",
       "</div>"
      ],
      "text/plain": [
       "   Zip Code  Smoking Prevalence  Hypertension Prevalence  Obesity Prevalence  \\\n",
       "0      1104           24.269272                33.257045           37.437441   \n",
       "1      1105           28.596151                32.879892           42.176132   \n",
       "2      1108           23.844497                30.236068           35.381122   \n",
       "3      1109           23.329629                32.285360           37.212078   \n",
       "4      1119           21.656562                30.136570           33.192432   \n",
       "\n",
       "   Sedentarism Prevalence  Cholesterol Prevalence  Diabetes Prevalence  \\\n",
       "0               37.721353               38.392990            14.837576   \n",
       "1               43.694299               37.409454            15.840128   \n",
       "2               34.251449               35.500119            12.581968   \n",
       "3               33.779183               34.154532            13.474276   \n",
       "4               29.277953               34.842082            11.433115   \n",
       "\n",
       "   Heart Disease Prevalence  Restaurant Count  Population Population Group  \\\n",
       "0                  8.816472               5.0        6726           <10000   \n",
       "1                  7.849705               4.0        6075           <10000   \n",
       "2                  6.943035               2.0        7038           <10000   \n",
       "3                  6.706302               2.0        7577           <10000   \n",
       "4                  6.894488               2.0        5361           <10000   \n",
       "\n",
       "  Restaurant Group  median_household_income Income Group  \n",
       "0              0-7                  32273.0       <50000  \n",
       "1              0-7                  18402.0       <50000  \n",
       "2              0-7                  34064.0       <50000  \n",
       "3              0-7                  33376.0       <50000  \n",
       "4              0-7                  46055.0       <50000  "
      ]
     },
     "metadata": {},
     "output_type": "display_data"
    },
    {
     "name": "stdout",
     "output_type": "stream",
     "text": [
      "<class 'pandas.core.frame.DataFrame'>\n",
      "RangeIndex: 3659 entries, 0 to 3658\n",
      "Data columns (total 14 columns):\n",
      "Zip Code                    3659 non-null int64\n",
      "Smoking Prevalence          3659 non-null float64\n",
      "Hypertension Prevalence     3659 non-null float64\n",
      "Obesity Prevalence          3659 non-null float64\n",
      "Sedentarism Prevalence      3659 non-null float64\n",
      "Cholesterol Prevalence      3659 non-null float64\n",
      "Diabetes Prevalence         3659 non-null float64\n",
      "Heart Disease Prevalence    3659 non-null float64\n",
      "Restaurant Count            3659 non-null float64\n",
      "Population                  3659 non-null int64\n",
      "Population Group            3659 non-null object\n",
      "Restaurant Group            3659 non-null object\n",
      "median_household_income     3659 non-null float64\n",
      "Income Group                3659 non-null object\n",
      "dtypes: float64(9), int64(2), object(3)\n",
      "memory usage: 400.3+ KB\n"
     ]
    },
    {
     "data": {
      "text/plain": [
       "None"
      ]
     },
     "metadata": {},
     "output_type": "display_data"
    }
   ],
   "source": [
    "heart_prev = pd.read_csv(\"heart_disease.csv\")\n",
    "heart_prev.drop(\"Unnamed: 0\", axis=1, inplace=True)\n",
    "display(heart_prev.head())\n",
    "display(heart_prev.info())"
   ]
  },
  {
   "cell_type": "markdown",
   "metadata": {},
   "source": [
    "### Income groups and heart disease"
   ]
  },
  {
   "cell_type": "code",
   "execution_count": 10,
   "metadata": {},
   "outputs": [
    {
     "data": {
      "text/html": [
       "<div>\n",
       "<style scoped>\n",
       "    .dataframe tbody tr th:only-of-type {\n",
       "        vertical-align: middle;\n",
       "    }\n",
       "\n",
       "    .dataframe tbody tr th {\n",
       "        vertical-align: top;\n",
       "    }\n",
       "\n",
       "    .dataframe thead th {\n",
       "        text-align: right;\n",
       "    }\n",
       "</style>\n",
       "<table border=\"1\" class=\"dataframe\">\n",
       "  <thead>\n",
       "    <tr style=\"text-align: right;\">\n",
       "      <th></th>\n",
       "      <th>Income Group</th>\n",
       "      <th>Heart Disease Prevalence</th>\n",
       "    </tr>\n",
       "  </thead>\n",
       "  <tbody>\n",
       "    <tr>\n",
       "      <th>0</th>\n",
       "      <td>&lt;50000</td>\n",
       "      <td>6.478394</td>\n",
       "    </tr>\n",
       "    <tr>\n",
       "      <th>1</th>\n",
       "      <td>&gt;=50000</td>\n",
       "      <td>4.992856</td>\n",
       "    </tr>\n",
       "  </tbody>\n",
       "</table>\n",
       "</div>"
      ],
      "text/plain": [
       "  Income Group  Heart Disease Prevalence\n",
       "0       <50000                  6.478394\n",
       "1      >=50000                  4.992856"
      ]
     },
     "metadata": {},
     "output_type": "display_data"
    }
   ],
   "source": [
    "_ = heart_prev.groupby(\"Income Group\")[\"Heart Disease Prevalence\"].mean().reset_index()\n",
    "display(_)"
   ]
  },
  {
   "cell_type": "markdown",
   "metadata": {},
   "source": [
    "We saw that the mean prevalence of heart disease is higher in zip codes with a median household income below 50000."
   ]
  },
  {
   "cell_type": "markdown",
   "metadata": {},
   "source": [
    "#### Is the observed difference in the samples due to chance?"
   ]
  },
  {
   "cell_type": "markdown",
   "metadata": {},
   "source": [
    "*  __Null Hypothesis__: There is no difference in the mean heart disease prevalence between groups.\n",
    "*  __Alternative Hypothesis__: The mean heart disease prevalence is higher when median household income is <50000.\n",
    "\n",
    "alpha = 0.05"
   ]
  },
  {
   "cell_type": "markdown",
   "metadata": {},
   "source": [
    "To test the hypotheses we draw bootstrap samples of both groups and compare the boostrap difference in means to the observed difference in means."
   ]
  },
  {
   "cell_type": "code",
   "execution_count": 11,
   "metadata": {},
   "outputs": [
    {
     "name": "stdout",
     "output_type": "stream",
     "text": [
      "p-value = 0.0\n"
     ]
    }
   ],
   "source": [
    "# Functions to draw bootstrap replicates\n",
    "def bootstrap_replicate_1d(data, func):\n",
    "    return func(np.random.choice(data, size=len(data)))\n",
    "\n",
    "def draw_bs_reps(data, func, size=1):\n",
    "    bs_replicates = np.empty(size)\n",
    "    for i in range(size):\n",
    "        bs_replicates[i] = bootstrap_replicate_1d(data,func)\n",
    "    return bs_replicates\n",
    "\n",
    "# Compute the mean of heart disease prevalence\n",
    "mean_prev = np.mean(heart_prev[\"Heart Disease Prevalence\"])\n",
    "\n",
    "# Separate heart disease prevalence by low and high income\n",
    "low_income_prev = heart_prev[heart_prev[\"Income Group\"] == \"<50000\"][\"Heart Disease Prevalence\"]\n",
    "high_income_prev = heart_prev[heart_prev[\"Income Group\"] == \">=50000\"][\"Heart Disease Prevalence\"]\n",
    "\n",
    "# Calculate the observed difference in means\n",
    "empirical_diff_means = np.mean(low_income_prev) - np.mean(high_income_prev)\n",
    "\n",
    "# Generate shifted arrays\n",
    "low_income_shifted = low_income_prev - np.mean(low_income_prev) + mean_prev\n",
    "high_income_shifted = high_income_prev - np.mean(high_income_prev) + mean_prev\n",
    "\n",
    "# Compute 10,000 bootstrap replicates from shifted arrays\n",
    "bs_replicates_l = draw_bs_reps(low_income_shifted, np.mean, size=10000)\n",
    "bs_replicates_h = draw_bs_reps(high_income_shifted, np.mean, size=10000)\n",
    "\n",
    "# Get replicates of difference of means\n",
    "bs_replicates = bs_replicates_l - bs_replicates_h\n",
    "\n",
    "# Compute and print p-value: \n",
    "p = np.sum(bs_replicates >= empirical_diff_means) / len(bs_replicates)\n",
    "print('p-value =', p)\n"
   ]
  },
  {
   "cell_type": "markdown",
   "metadata": {},
   "source": [
    "A p-value close to 0 indicates we reject the null hypothesis. There is a difference in the means of both groups. The alternative hypothesis suggests that the mean heart disease prevalence is higher when median household income is below 50000 in a zip code."
   ]
  },
  {
   "cell_type": "code",
   "execution_count": null,
   "metadata": {},
   "outputs": [],
   "source": []
  },
  {
   "cell_type": "markdown",
   "metadata": {},
   "source": [
    "### Population groups and heart disease"
   ]
  },
  {
   "cell_type": "code",
   "execution_count": 12,
   "metadata": {},
   "outputs": [
    {
     "data": {
      "text/html": [
       "<div>\n",
       "<style scoped>\n",
       "    .dataframe tbody tr th:only-of-type {\n",
       "        vertical-align: middle;\n",
       "    }\n",
       "\n",
       "    .dataframe tbody tr th {\n",
       "        vertical-align: top;\n",
       "    }\n",
       "\n",
       "    .dataframe thead th {\n",
       "        text-align: right;\n",
       "    }\n",
       "</style>\n",
       "<table border=\"1\" class=\"dataframe\">\n",
       "  <thead>\n",
       "    <tr style=\"text-align: right;\">\n",
       "      <th></th>\n",
       "      <th>Population Group</th>\n",
       "      <th>Heart Disease Prevalence</th>\n",
       "    </tr>\n",
       "  </thead>\n",
       "  <tbody>\n",
       "    <tr>\n",
       "      <th>0</th>\n",
       "      <td>&lt;10000</td>\n",
       "      <td>5.791016</td>\n",
       "    </tr>\n",
       "    <tr>\n",
       "      <th>1</th>\n",
       "      <td>&gt;=10000</td>\n",
       "      <td>4.848598</td>\n",
       "    </tr>\n",
       "  </tbody>\n",
       "</table>\n",
       "</div>"
      ],
      "text/plain": [
       "  Population Group  Heart Disease Prevalence\n",
       "0           <10000                  5.791016\n",
       "1          >=10000                  4.848598"
      ]
     },
     "metadata": {},
     "output_type": "display_data"
    }
   ],
   "source": [
    "_ = heart_prev.groupby(\"Population Group\")[\"Heart Disease Prevalence\"].mean().reset_index()\n",
    "display(_)"
   ]
  },
  {
   "cell_type": "markdown",
   "metadata": {},
   "source": [
    "We saw that the mean prevalence of heart disease is higher in zip codes with a population below 10000."
   ]
  },
  {
   "cell_type": "markdown",
   "metadata": {},
   "source": [
    "#### Is the observed difference in the samples due to chance?"
   ]
  },
  {
   "cell_type": "markdown",
   "metadata": {},
   "source": [
    "*  __Null Hypothesis__: There is no difference in the mean heart disease prevalence between groups.\n",
    "*  __Alternative Hypothesis__: The mean heart disease prevalence is higher when population <10000.\n",
    "\n",
    "alpha = 0.05"
   ]
  },
  {
   "cell_type": "markdown",
   "metadata": {},
   "source": [
    "To test the hypotheses we draw bootstrap samples of both groups and compare the boostrap difference in means to the observed difference in means."
   ]
  },
  {
   "cell_type": "code",
   "execution_count": 13,
   "metadata": {},
   "outputs": [
    {
     "name": "stdout",
     "output_type": "stream",
     "text": [
      "p-value = 0.0\n"
     ]
    }
   ],
   "source": [
    "# Functions to draw bootstrap replicates\n",
    "def bootstrap_replicate_1d(data, func):\n",
    "    return func(np.random.choice(data, size=len(data)))\n",
    "\n",
    "def draw_bs_reps(data, func, size=1):\n",
    "    bs_replicates = np.empty(size)\n",
    "    for i in range(size):\n",
    "        bs_replicates[i] = bootstrap_replicate_1d(data,func)\n",
    "    return bs_replicates\n",
    "\n",
    "# Compute the mean of heart disease prevalence\n",
    "mean_prev = np.mean(heart_prev[\"Heart Disease Prevalence\"])\n",
    "\n",
    "# Separate heart disease prevalence by population\n",
    "low_pop_prev = heart_prev[heart_prev[\"Population Group\"] == \"<10000\"][\"Heart Disease Prevalence\"]\n",
    "high_pop_prev = heart_prev[heart_prev[\"Population Group\"] == \">=10000\"][\"Heart Disease Prevalence\"]\n",
    "\n",
    "# Calculate the observed difference in means\n",
    "empirical_diff_means = np.mean(low_pop_prev) - np.mean(high_pop_prev)\n",
    "\n",
    "# Generate shifted arrays\n",
    "low_pop_shifted = low_pop_prev - np.mean(low_pop_prev) + mean_prev\n",
    "high_pop_shifted = high_pop_prev - np.mean(high_pop_prev) + mean_prev\n",
    "\n",
    "# Compute 10,000 bootstrap replicates from shifted arrays\n",
    "bs_replicates_l = draw_bs_reps(low_pop_shifted, np.mean, size=10000)\n",
    "bs_replicates_h = draw_bs_reps(high_pop_shifted, np.mean, size=10000)\n",
    "\n",
    "# Get replicates of difference of means\n",
    "bs_replicates = bs_replicates_l - bs_replicates_h\n",
    "\n",
    "# Compute and print p-value: \n",
    "p = np.sum(bs_replicates >= empirical_diff_means) / len(bs_replicates)\n",
    "print('p-value =', p)\n"
   ]
  },
  {
   "cell_type": "markdown",
   "metadata": {},
   "source": [
    "A p-value close to 0 indicates we reject the null hypothesis. There is a difference in the means of both groups. The alternative hypothesis suggests that the mean heart disease prevalence is higher when zip code population is below 10000."
   ]
  },
  {
   "cell_type": "markdown",
   "metadata": {},
   "source": [
    "#### Summary\n",
    "\n",
    "The following features have moderate to strong correlations with heart disease prevalence and will be useful for our model:\n",
    "\n",
    "1. High cholesterol prevalence\n",
    "2. Hypertension prevalence\n",
    "3. Diabetes prevalence\n",
    "4. Sedendtarism prevalence\n",
    "5. Obesity prevalence\n",
    "6. Smoking prevalence\n",
    "7. Median household income\n",
    "8. Population\n",
    "\n",
    "Restaurant count per zip code may not be helpful for our model. It has a weak correlation with heart disease prevalence in populations >= 10000."
   ]
  },
  {
   "cell_type": "code",
   "execution_count": null,
   "metadata": {},
   "outputs": [],
   "source": []
  }
 ],
 "metadata": {
  "kernelspec": {
   "display_name": "Python 3",
   "language": "python",
   "name": "python3"
  },
  "language_info": {
   "codemirror_mode": {
    "name": "ipython",
    "version": 3
   },
   "file_extension": ".py",
   "mimetype": "text/x-python",
   "name": "python",
   "nbconvert_exporter": "python",
   "pygments_lexer": "ipython3",
   "version": "3.7.1"
  }
 },
 "nbformat": 4,
 "nbformat_minor": 2
}
