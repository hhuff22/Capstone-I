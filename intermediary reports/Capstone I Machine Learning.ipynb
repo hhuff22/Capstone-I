{
 "cells": [
  {
   "cell_type": "code",
   "execution_count": 1,
   "metadata": {},
   "outputs": [],
   "source": [
    "import pandas as pd\n",
    "import numpy as np\n",
    "import matplotlib.pyplot as plt\n",
    "import seaborn as sns\n",
    "from scipy import stats\n",
    "sns.set()\n",
    "\n",
    "import warnings\n",
    "warnings.filterwarnings('ignore')\n",
    "from IPython.display import display, HTML"
   ]
  },
  {
   "cell_type": "code",
   "execution_count": 2,
   "metadata": {},
   "outputs": [
    {
     "data": {
      "text/html": [
       "<div>\n",
       "<style scoped>\n",
       "    .dataframe tbody tr th:only-of-type {\n",
       "        vertical-align: middle;\n",
       "    }\n",
       "\n",
       "    .dataframe tbody tr th {\n",
       "        vertical-align: top;\n",
       "    }\n",
       "\n",
       "    .dataframe thead th {\n",
       "        text-align: right;\n",
       "    }\n",
       "</style>\n",
       "<table border=\"1\" class=\"dataframe\">\n",
       "  <thead>\n",
       "    <tr style=\"text-align: right;\">\n",
       "      <th></th>\n",
       "      <th>Zip Code</th>\n",
       "      <th>Smoking Prevalence</th>\n",
       "      <th>Hypertension Prevalence</th>\n",
       "      <th>Obesity Prevalence</th>\n",
       "      <th>Sedentarism Prevalence</th>\n",
       "      <th>Cholesterol Prevalence</th>\n",
       "      <th>Diabetes Prevalence</th>\n",
       "      <th>Heart Disease Prevalence</th>\n",
       "      <th>Restaurant Count</th>\n",
       "      <th>median_household_income</th>\n",
       "      <th>Population</th>\n",
       "      <th>Population Group</th>\n",
       "      <th>Restaurant Group</th>\n",
       "      <th>Income Group</th>\n",
       "    </tr>\n",
       "  </thead>\n",
       "  <tbody>\n",
       "    <tr>\n",
       "      <th>0</th>\n",
       "      <td>1104</td>\n",
       "      <td>24.269272</td>\n",
       "      <td>33.257045</td>\n",
       "      <td>37.437441</td>\n",
       "      <td>37.721353</td>\n",
       "      <td>38.392990</td>\n",
       "      <td>14.837576</td>\n",
       "      <td>8.816472</td>\n",
       "      <td>5.0</td>\n",
       "      <td>32273.0</td>\n",
       "      <td>22865.0</td>\n",
       "      <td>&lt;30000</td>\n",
       "      <td>0-7</td>\n",
       "      <td>&lt;50000</td>\n",
       "    </tr>\n",
       "    <tr>\n",
       "      <th>1</th>\n",
       "      <td>1105</td>\n",
       "      <td>28.596151</td>\n",
       "      <td>32.879892</td>\n",
       "      <td>42.176132</td>\n",
       "      <td>43.694299</td>\n",
       "      <td>37.409454</td>\n",
       "      <td>15.840128</td>\n",
       "      <td>7.849705</td>\n",
       "      <td>4.0</td>\n",
       "      <td>18402.0</td>\n",
       "      <td>12350.0</td>\n",
       "      <td>&lt;30000</td>\n",
       "      <td>0-7</td>\n",
       "      <td>&lt;50000</td>\n",
       "    </tr>\n",
       "    <tr>\n",
       "      <th>2</th>\n",
       "      <td>1107</td>\n",
       "      <td>25.495498</td>\n",
       "      <td>31.912761</td>\n",
       "      <td>41.052003</td>\n",
       "      <td>44.608772</td>\n",
       "      <td>38.631033</td>\n",
       "      <td>16.712049</td>\n",
       "      <td>8.234889</td>\n",
       "      <td>0.0</td>\n",
       "      <td>21737.0</td>\n",
       "      <td>11611.0</td>\n",
       "      <td>&lt;30000</td>\n",
       "      <td>0-7</td>\n",
       "      <td>&lt;50000</td>\n",
       "    </tr>\n",
       "    <tr>\n",
       "      <th>3</th>\n",
       "      <td>1108</td>\n",
       "      <td>23.844497</td>\n",
       "      <td>30.236068</td>\n",
       "      <td>35.381122</td>\n",
       "      <td>34.251449</td>\n",
       "      <td>35.500119</td>\n",
       "      <td>12.581968</td>\n",
       "      <td>6.943035</td>\n",
       "      <td>2.0</td>\n",
       "      <td>34064.0</td>\n",
       "      <td>26688.0</td>\n",
       "      <td>&lt;30000</td>\n",
       "      <td>0-7</td>\n",
       "      <td>&lt;50000</td>\n",
       "    </tr>\n",
       "    <tr>\n",
       "      <th>4</th>\n",
       "      <td>1109</td>\n",
       "      <td>23.329629</td>\n",
       "      <td>32.285360</td>\n",
       "      <td>37.212078</td>\n",
       "      <td>33.779183</td>\n",
       "      <td>34.154532</td>\n",
       "      <td>13.474276</td>\n",
       "      <td>6.706302</td>\n",
       "      <td>2.0</td>\n",
       "      <td>33376.0</td>\n",
       "      <td>30250.0</td>\n",
       "      <td>&gt;=30000</td>\n",
       "      <td>0-7</td>\n",
       "      <td>&lt;50000</td>\n",
       "    </tr>\n",
       "  </tbody>\n",
       "</table>\n",
       "</div>"
      ],
      "text/plain": [
       "   Zip Code  Smoking Prevalence  Hypertension Prevalence  Obesity Prevalence  \\\n",
       "0      1104           24.269272                33.257045           37.437441   \n",
       "1      1105           28.596151                32.879892           42.176132   \n",
       "2      1107           25.495498                31.912761           41.052003   \n",
       "3      1108           23.844497                30.236068           35.381122   \n",
       "4      1109           23.329629                32.285360           37.212078   \n",
       "\n",
       "   Sedentarism Prevalence  Cholesterol Prevalence  Diabetes Prevalence  \\\n",
       "0               37.721353               38.392990            14.837576   \n",
       "1               43.694299               37.409454            15.840128   \n",
       "2               44.608772               38.631033            16.712049   \n",
       "3               34.251449               35.500119            12.581968   \n",
       "4               33.779183               34.154532            13.474276   \n",
       "\n",
       "   Heart Disease Prevalence  Restaurant Count  median_household_income  \\\n",
       "0                  8.816472               5.0                  32273.0   \n",
       "1                  7.849705               4.0                  18402.0   \n",
       "2                  8.234889               0.0                  21737.0   \n",
       "3                  6.943035               2.0                  34064.0   \n",
       "4                  6.706302               2.0                  33376.0   \n",
       "\n",
       "   Population Population Group Restaurant Group Income Group  \n",
       "0     22865.0           <30000              0-7       <50000  \n",
       "1     12350.0           <30000              0-7       <50000  \n",
       "2     11611.0           <30000              0-7       <50000  \n",
       "3     26688.0           <30000              0-7       <50000  \n",
       "4     30250.0          >=30000              0-7       <50000  "
      ]
     },
     "metadata": {},
     "output_type": "display_data"
    },
    {
     "name": "stdout",
     "output_type": "stream",
     "text": [
      "<class 'pandas.core.frame.DataFrame'>\n",
      "RangeIndex: 4396 entries, 0 to 4395\n",
      "Data columns (total 14 columns):\n",
      "Zip Code                    4396 non-null int64\n",
      "Smoking Prevalence          4396 non-null float64\n",
      "Hypertension Prevalence     4396 non-null float64\n",
      "Obesity Prevalence          4396 non-null float64\n",
      "Sedentarism Prevalence      4396 non-null float64\n",
      "Cholesterol Prevalence      4396 non-null float64\n",
      "Diabetes Prevalence         4396 non-null float64\n",
      "Heart Disease Prevalence    4396 non-null float64\n",
      "Restaurant Count            4396 non-null float64\n",
      "median_household_income     4396 non-null float64\n",
      "Population                  4396 non-null float64\n",
      "Population Group            4396 non-null object\n",
      "Restaurant Group            4396 non-null object\n",
      "Income Group                4396 non-null object\n",
      "dtypes: float64(10), int64(1), object(3)\n",
      "memory usage: 480.9+ KB\n"
     ]
    },
    {
     "data": {
      "text/plain": [
       "None"
      ]
     },
     "metadata": {},
     "output_type": "display_data"
    }
   ],
   "source": [
    "heart_prev = pd.read_csv(\"heart_disease.csv\")\n",
    "heart_prev.drop(\"Unnamed: 0\", axis=1, inplace=True)\n",
    "display(heart_prev.head())\n",
    "display(heart_prev.info())"
   ]
  },
  {
   "cell_type": "markdown",
   "metadata": {},
   "source": [
    "# In-depth Analysis"
   ]
  },
  {
   "cell_type": "markdown",
   "metadata": {},
   "source": [
    "The data is split into the target variable, heart disease prevalence (y), and its features (X).\n",
    "\n",
    "We will use various untuned supervised learning estimators to see which works best by default. We will then tune the top-performing estimators. The metric used for performance will be R2 and 5-fold cross-validation with be performed.\n",
    "\n",
    "Training will be performed using 80% of the data, and 20% will be reserved for final evaluation of the model."
   ]
  },
  {
   "cell_type": "code",
   "execution_count": 3,
   "metadata": {},
   "outputs": [],
   "source": [
    "# Import split and cross validation\n",
    "from sklearn.model_selection import train_test_split\n",
    "from sklearn.model_selection import cross_val_score\n",
    "\n",
    "\n",
    "# Select features and target variable\n",
    "X = heart_prev.drop(columns=[\"Zip Code\", \"Heart Disease Prevalence\",\"Restaurant Count\",\n",
    "                     \"Population Group\",\"Restaurant Group\",\"Income Group\"])\n",
    "y = heart_prev[[\"Heart Disease Prevalence\"]]\n",
    "\n",
    "# Split the data into training and test sets\n",
    "X_train, X_test, y_train, y_test = train_test_split(X, y, test_size=0.2, random_state=42)"
   ]
  },
  {
   "cell_type": "markdown",
   "metadata": {},
   "source": [
    "### Linear Regression"
   ]
  },
  {
   "cell_type": "code",
   "execution_count": 4,
   "metadata": {},
   "outputs": [
    {
     "name": "stdout",
     "output_type": "stream",
     "text": [
      "Linear Regression cross validation scores:\n",
      "89.11319500170383\n",
      "88.93777305810826\n",
      "88.17987303181222\n",
      "88.7050983655701\n",
      "86.77398387055491\n",
      "\n",
      "Average Score on 5-Folds:  0.8834198466554986\n"
     ]
    }
   ],
   "source": [
    "from sklearn.linear_model import LinearRegression\n",
    "\n",
    "reg = LinearRegression()\n",
    "reg.fit(X_train, y_train)\n",
    "\n",
    "cv_scores= cross_val_score(reg, X_train, y_train, cv=5, scoring=\"r2\")\n",
    "\n",
    "scores = dict()\n",
    "scores[\"Linear Regression\"] = np.mean(cv_scores)\n",
    "\n",
    "print(\"Linear Regression cross validation scores:\")\n",
    "for score in cv_scores:\n",
    "    print(score*100)\n",
    "    \n",
    "print(\"\\nAverage Score on 5-Folds: \", scores[\"Linear Regression\"])"
   ]
  },
  {
   "cell_type": "markdown",
   "metadata": {},
   "source": [
    "### Lasso Regression"
   ]
  },
  {
   "cell_type": "code",
   "execution_count": 5,
   "metadata": {},
   "outputs": [
    {
     "name": "stdout",
     "output_type": "stream",
     "text": [
      "Lasso Regression cross validation scores:\n",
      "86.63379889698635\n",
      "85.38824294032945\n",
      "83.59930979803775\n",
      "86.0072099759644\n",
      "82.4771869038925\n",
      "\n",
      "Average Score on 5-Folds:  0.848211497030421\n"
     ]
    }
   ],
   "source": [
    "from sklearn.linear_model import Lasso\n",
    "\n",
    "lasso = Lasso(random_state=42)\n",
    "lasso.fit(X_train, y_train)\n",
    "\n",
    "cv_scores= cross_val_score(lasso, X_train, y_train, cv=5, scoring=\"r2\")\n",
    "\n",
    "scores[\"Lasso Regression\"] = np.mean(cv_scores)\n",
    "\n",
    "print(\"Lasso Regression cross validation scores:\")\n",
    "for score in cv_scores:\n",
    "    print(score*100)\n",
    "    \n",
    "print(\"\\nAverage Score on 5-Folds: \", scores[\"Lasso Regression\"])"
   ]
  },
  {
   "cell_type": "markdown",
   "metadata": {},
   "source": [
    "### Ridge Regressor"
   ]
  },
  {
   "cell_type": "code",
   "execution_count": 6,
   "metadata": {},
   "outputs": [
    {
     "name": "stdout",
     "output_type": "stream",
     "text": [
      "Ridge Regression cross validation scores:\n",
      "89.11335839283964\n",
      "88.93781721212429\n",
      "88.17974589116955\n",
      "88.70516590421812\n",
      "86.77393347729556\n",
      "\n",
      "Average Score on 5-Folds:  0.8834200417552942\n"
     ]
    }
   ],
   "source": [
    "from sklearn.linear_model import Ridge\n",
    "\n",
    "ridge = Ridge(random_state=42)\n",
    "ridge.fit(X_train, y_train)\n",
    "\n",
    "cv_scores= cross_val_score(ridge, X_train, y_train, cv=5, scoring=\"r2\")\n",
    "\n",
    "scores[\"Ridge Regression\"] = np.mean(cv_scores)\n",
    "\n",
    "print(\"Ridge Regression cross validation scores:\")\n",
    "for score in cv_scores:\n",
    "    print(score*100)\n",
    "    \n",
    "print(\"\\nAverage Score on 5-Folds: \", scores[\"Ridge Regression\"])"
   ]
  },
  {
   "cell_type": "markdown",
   "metadata": {},
   "source": [
    "### Decision Tree"
   ]
  },
  {
   "cell_type": "code",
   "execution_count": 7,
   "metadata": {},
   "outputs": [
    {
     "name": "stdout",
     "output_type": "stream",
     "text": [
      "Decision Tree cross validation scores:\n",
      "82.77385880027393\n",
      "85.88150457680824\n",
      "88.25341803615973\n",
      "86.70728172492889\n",
      "85.30758765197955\n",
      "\n",
      "Average Score on 5-Folds:  0.8578473015803005\n"
     ]
    }
   ],
   "source": [
    "from sklearn import tree\n",
    "\n",
    "trees = tree.DecisionTreeRegressor(max_depth=6, random_state=42)\n",
    "trees.fit(X_train, y_train)\n",
    "\n",
    "cv_scores= cross_val_score(trees, X_train, y_train, cv=5, scoring=\"r2\")\n",
    "\n",
    "scores[\"Decision Tree\"] = np.mean(cv_scores)\n",
    "\n",
    "print(\"Decision Tree cross validation scores:\")\n",
    "for score in cv_scores:\n",
    "    print(score*100)\n",
    "    \n",
    "print(\"\\nAverage Score on 5-Folds: \", scores[\"Decision Tree\"])"
   ]
  },
  {
   "cell_type": "markdown",
   "metadata": {},
   "source": [
    "### Random Forest"
   ]
  },
  {
   "cell_type": "code",
   "execution_count": 8,
   "metadata": {},
   "outputs": [
    {
     "name": "stdout",
     "output_type": "stream",
     "text": [
      "Random Forest cross validation scores:\n",
      "88.79761953136153\n",
      "89.11518436442782\n",
      "90.61626247035262\n",
      "88.35860476069064\n",
      "89.40048393170865\n",
      "\n",
      "Average Score on 5-Folds:  0.8925763101170826\n"
     ]
    }
   ],
   "source": [
    "from sklearn.ensemble import RandomForestRegressor\n",
    "\n",
    "forest = RandomForestRegressor(random_state=42)\n",
    "forest.fit(X_train, y_train)\n",
    "\n",
    "cv_scores= cross_val_score(forest, X_train, y_train, cv=5, scoring=\"r2\")\n",
    "\n",
    "scores[\"Random Forest\"] = np.mean(cv_scores)\n",
    "\n",
    "print(\"Random Forest cross validation scores:\")\n",
    "for score in cv_scores:\n",
    "    print(score*100)\n",
    "    \n",
    "print(\"\\nAverage Score on 5-Folds: \", scores[\"Random Forest\"])"
   ]
  },
  {
   "cell_type": "markdown",
   "metadata": {},
   "source": [
    "### Adaptive Boost Regressor"
   ]
  },
  {
   "cell_type": "code",
   "execution_count": 9,
   "metadata": {},
   "outputs": [
    {
     "name": "stdout",
     "output_type": "stream",
     "text": [
      "AdaBoost cross validation scores:\n",
      "90.14251307107872\n",
      "86.9285049613413\n",
      "90.46103933656669\n",
      "88.61632117004794\n",
      "88.62803043413882\n",
      "\n",
      "Average Score on 5-Folds:  0.8895528179463469\n"
     ]
    }
   ],
   "source": [
    "from sklearn.ensemble import AdaBoostRegressor\n",
    "\n",
    "ada = AdaBoostRegressor(base_estimator=trees, random_state=42)\n",
    "ada.fit(X_train, y_train)\n",
    "\n",
    "cv_scores= cross_val_score(ada, X_train, y_train, cv=5, scoring=\"r2\")\n",
    "\n",
    "scores[\"AdaBoost\"] = np.mean(cv_scores)\n",
    "\n",
    "print(\"AdaBoost cross validation scores:\")\n",
    "for score in cv_scores:\n",
    "    print(score*100)\n",
    "    \n",
    "print(\"\\nAverage Score on 5-Folds: \", scores[\"AdaBoost\"])"
   ]
  },
  {
   "cell_type": "markdown",
   "metadata": {},
   "source": [
    "### Gradient Boost Regressor"
   ]
  },
  {
   "cell_type": "code",
   "execution_count": 10,
   "metadata": {},
   "outputs": [
    {
     "name": "stdout",
     "output_type": "stream",
     "text": [
      "Gradient Boost Regressor cross validation scores:\n",
      "89.67855502181415\n",
      "88.90224953062682\n",
      "90.96069830021956\n",
      "91.03790566532167\n",
      "90.18840472520803\n",
      "\n",
      "Average Score on 5-Folds:  0.9015356264863804\n"
     ]
    }
   ],
   "source": [
    "from sklearn.ensemble import GradientBoostingRegressor\n",
    "\n",
    "gbr = GradientBoostingRegressor(random_state=42)\n",
    "gbr.fit(X_train, y_train)\n",
    "\n",
    "cv_scores= cross_val_score(gbr, X_train, y_train, cv=5, scoring=\"r2\")\n",
    "\n",
    "scores[\"Gradient Boost Regressor\"] = np.mean(cv_scores)\n",
    "\n",
    "print(\"Gradient Boost Regressor cross validation scores:\")\n",
    "for score in cv_scores:\n",
    "    print(score*100)\n",
    "    \n",
    "print(\"\\nAverage Score on 5-Folds: \", scores[\"Gradient Boost Regressor\"])"
   ]
  },
  {
   "cell_type": "markdown",
   "metadata": {},
   "source": [
    "### Elastic Net"
   ]
  },
  {
   "cell_type": "code",
   "execution_count": 11,
   "metadata": {},
   "outputs": [
    {
     "name": "stdout",
     "output_type": "stream",
     "text": [
      "Elastic Net cross validation scores:\n",
      "87.54614704136061\n",
      "86.2152765983659\n",
      "84.79567835421015\n",
      "86.68154957554283\n",
      "83.7000212393338\n",
      "\n",
      "Average Score on 5-Folds:  0.8578773456176265\n"
     ]
    }
   ],
   "source": [
    "from sklearn.linear_model import ElasticNet\n",
    "\n",
    "elastic_net = ElasticNet()\n",
    "elastic_net.fit(X_train, y_train)\n",
    "\n",
    "cv_scores= cross_val_score(elastic_net, X_train, y_train, cv=5, scoring=\"r2\")\n",
    "\n",
    "scores[\"Elastic Net\"] = np.mean(cv_scores)\n",
    "\n",
    "print(\"Elastic Net cross validation scores:\")\n",
    "for score in cv_scores:\n",
    "    print(score*100)\n",
    "    \n",
    "print(\"\\nAverage Score on 5-Folds: \", scores[\"Elastic Net\"])"
   ]
  },
  {
   "cell_type": "markdown",
   "metadata": {},
   "source": [
    "### Summary of un-tuned scores"
   ]
  },
  {
   "cell_type": "markdown",
   "metadata": {},
   "source": [
    "A gradient boost regressor had the best default performance at 90.15% accuracy. The random forest performed similarly well at 89.26%. Both estimators should be evaluated for improved performance through tuning."
   ]
  },
  {
   "cell_type": "code",
   "execution_count": 12,
   "metadata": {},
   "outputs": [
    {
     "name": "stdout",
     "output_type": "stream",
     "text": [
      "Gradient Boost Regressor :  90.15356264863804\n",
      "Random Forest :  89.25763101170826\n",
      "AdaBoost :  88.95528179463469\n",
      "Ridge Regression :  88.34200417552942\n",
      "Linear Regression :  88.34198466554986\n",
      "Elastic Net :  85.78773456176265\n",
      "Decision Tree :  85.78473015803006\n",
      "Lasso Regression :  84.8211497030421\n"
     ]
    }
   ],
   "source": [
    "scores = sorted(scores.items(), key= lambda score: score[1], reverse=True)\n",
    "for k,v in scores:\n",
    "    print(k,\": \",v*100)"
   ]
  },
  {
   "cell_type": "markdown",
   "metadata": {},
   "source": [
    "## Hyperparamenter Tuning"
   ]
  },
  {
   "cell_type": "markdown",
   "metadata": {},
   "source": [
    "The top two performing estimators, gradient boost and random forests, will be tuned and re-evaluated using R2 scoring."
   ]
  },
  {
   "cell_type": "markdown",
   "metadata": {},
   "source": [
    "### Tuned Gradient Boost Regression"
   ]
  },
  {
   "cell_type": "code",
   "execution_count": 13,
   "metadata": {},
   "outputs": [
    {
     "name": "stdout",
     "output_type": "stream",
     "text": [
      "Best parameters:\n",
      "---------------\n",
      "GBR__max_depth :  3\n",
      "GBR__n_estimators :  200\n",
      "\n",
      "Best score:  90.34453407384693\n"
     ]
    }
   ],
   "source": [
    "from sklearn.pipeline import Pipeline\n",
    "from sklearn.model_selection import GridSearchCV\n",
    "\n",
    "steps = [(\"GBR\", GradientBoostingRegressor(random_state=42))]\n",
    "\n",
    "pipeline = Pipeline(steps)\n",
    "\n",
    "params = {\"GBR__n_estimators\":[100, 200, 500],\n",
    "          \"GBR__max_depth\":[3, 5]}\n",
    "\n",
    "cv = GridSearchCV(pipeline, param_grid=params, cv=5, scoring=\"r2\")\n",
    "cv.fit(X_train, y_train)\n",
    "\n",
    "cv_param = cv.best_params_\n",
    "cv_score = cv.best_score_*100\n",
    "\n",
    "print(\"Best parameters:\\n---------------\")\n",
    "for k,v in cv_param.items():\n",
    "    print(k,\": \",v)\n",
    "print(\"\\nBest score: \", cv_score)"
   ]
  },
  {
   "cell_type": "markdown",
   "metadata": {},
   "source": [
    "### Tuned Random Forest"
   ]
  },
  {
   "cell_type": "code",
   "execution_count": 14,
   "metadata": {},
   "outputs": [
    {
     "name": "stdout",
     "output_type": "stream",
     "text": [
      "Best parameters:\n",
      "---------------\n",
      "forest__max_depth :  7\n",
      "forest__n_estimators :  100\n",
      "\n",
      "Best score:  89.72381076698778\n"
     ]
    }
   ],
   "source": [
    "steps = [(\"forest\", RandomForestRegressor(random_state=42))]\n",
    "\n",
    "pipeline = Pipeline(steps)\n",
    "\n",
    "params = {\"forest__n_estimators\": [1, 5, 10, 50, 100, 200], \\\n",
    "          \"forest__max_depth\": [3, 5, 7]}\n",
    " \n",
    "cv = GridSearchCV(pipeline, param_grid=params, cv=5, scoring=\"r2\")\n",
    "cv.fit(X_train, y_train)\n",
    "\n",
    "cv_param = cv.best_params_\n",
    "cv_score = cv.best_score_*100\n",
    "\n",
    "print(\"Best parameters:\\n---------------\")\n",
    "for k,v in cv_param.items():\n",
    "    print(k,\": \",v)\n",
    "print(\"\\nBest score: \", cv_score)"
   ]
  },
  {
   "cell_type": "markdown",
   "metadata": {},
   "source": [
    "Gradient boost regression provides the best accuracy before and after tuning (90.3%)."
   ]
  },
  {
   "cell_type": "markdown",
   "metadata": {},
   "source": [
    "## Feature importance"
   ]
  },
  {
   "cell_type": "markdown",
   "metadata": {},
   "source": [
    "Now we examine which features provide the most predictive value for the model using Mutual Information scoring."
   ]
  },
  {
   "cell_type": "code",
   "execution_count": 15,
   "metadata": {},
   "outputs": [
    {
     "name": "stdout",
     "output_type": "stream",
     "text": [
      "Hypertension Prevalence :  88.21781350697621\n",
      "Cholesterol Prevalence :  85.7200706453753\n",
      "Diabetes Prevalence :  79.68790999031015\n",
      "Sedentarism Prevalence :  36.54539585897396\n",
      "Obesity Prevalence :  27.841109440077272\n",
      "Smoking Prevalence :  26.342795822576814\n",
      "median_household_income :  23.628420320610477\n",
      "Population :  3.35946138228822\n"
     ]
    }
   ],
   "source": [
    "from sklearn.feature_selection import SelectKBest\n",
    "from sklearn.feature_selection import mutual_info_regression\n",
    "\n",
    "kbest = SelectKBest(score_func=mutual_info_regression, k=5)\n",
    "kbest.fit(X, y)\n",
    "\n",
    "feature_names = X.columns\n",
    "feature_scores = list(zip(feature_names, kbest.scores_))\n",
    "\n",
    "feature_scores.sort(key=lambda x:x[1], reverse=True)\n",
    "\n",
    "for f,s in feature_scores[:10]:\n",
    "    print(f,\": \",s*100)"
   ]
  },
  {
   "cell_type": "code",
   "execution_count": 16,
   "metadata": {},
   "outputs": [
    {
     "data": {
      "image/png": "[encoded data removed]",
      "text/plain": [
       "<Figure size 1440x360 with 1 Axes>"
      ]
     },
     "metadata": {
      "needs_background": "light"
     },
     "output_type": "display_data"
    }
   ],
   "source": [
    "feature = []\n",
    "score = []\n",
    "for f,s in feature_scores:\n",
    "    feature.append(f)\n",
    "    score.append(s)\n",
    "    \n",
    "plt.subplots(figsize=(20,5))\n",
    "plot = sns.barplot(feature, score, palette=\"Reds_r\")\n",
    "plot.set(title=\"Feature Importance\",xlabel=\"Feature\",ylabel=\"Mutual Information Score\",)\n",
    "plt.show()"
   ]
  },
  {
   "cell_type": "markdown",
   "metadata": {},
   "source": [
    "Heart disease's well-known risk factors are the strongest predictors as expected. Median household income is approximately as strong of a predictor as well-known risk factors, smoking and obesity. Population contributes minimally to prediction."
   ]
  },
  {
   "cell_type": "markdown",
   "metadata": {},
   "source": [
    "## Final Results"
   ]
  },
  {
   "cell_type": "markdown",
   "metadata": {},
   "source": [
    "The tuned gradient boost model will now be used on the test set as an evaluation of performance on unseen data."
   ]
  },
  {
   "cell_type": "code",
   "execution_count": 17,
   "metadata": {},
   "outputs": [
    {
     "name": "stdout",
     "output_type": "stream",
     "text": [
      "Training set score:  94.55850895131313\n",
      "Test set score:  90.07983816605054\n"
     ]
    }
   ],
   "source": [
    "gbr = GradientBoostingRegressor(random_state=42, n_estimators=200, max_depth=3)\n",
    "gbr.fit(X_train, y_train)\n",
    "\n",
    "train_score = gbr.score(X_train, y_train)\n",
    "test_score = gbr.score(X_test, y_test)\n",
    "\n",
    "print(\"Training set score: \", train_score*100)\n",
    "print(\"Test set score: \", test_score*100)"
   ]
  },
  {
   "cell_type": "markdown",
   "metadata": {},
   "source": [
    "The model shows good accuracy on both the training and the test sets. This model is expected to perform well on other unseen data."
   ]
  },
  {
   "cell_type": "markdown",
   "metadata": {},
   "source": [
    "## Recommendation"
   ]
  },
  {
   "cell_type": "markdown",
   "metadata": {},
   "source": [
    "The model examines the impact of two socioeconomic factors (household income and population) on disease prevalence. This model can be taken further by incorporating other socioeconomic features such distance and means of transportation to work, education levels and home values.\n",
    "\n",
    "Additionally, the model may also provide more insight using an updated dataset for fast food restaurant locations within the US."
   ]
  },
  {
   "cell_type": "code",
   "execution_count": null,
   "metadata": {},
   "outputs": [],
   "source": []
  }
 ],
 "metadata": {
  "kernelspec": {
   "display_name": "Python 3",
   "language": "python",
   "name": "python3"
  },
  "language_info": {
   "codemirror_mode": {
    "name": "ipython",
    "version": 3
   },
   "file_extension": ".py",
   "mimetype": "text/x-python",
   "name": "python",
   "nbconvert_exporter": "python",
   "pygments_lexer": "ipython3",
   "version": "3.7.1"
  }
 },
 "nbformat": 4,
 "nbformat_minor": 2
}
