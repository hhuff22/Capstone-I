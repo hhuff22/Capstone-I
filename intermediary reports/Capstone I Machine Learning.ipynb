{
 "cells": [
  {
   "cell_type": "code",
   "execution_count": 109,
   "metadata": {},
   "outputs": [],
   "source": [
    "import pandas as pd\n",
    "import numpy as np\n",
    "import matplotlib.pyplot as plt\n",
    "import seaborn as sns\n",
    "from scipy import stats\n",
    "sns.set()\n",
    "\n",
    "import warnings\n",
    "warnings.filterwarnings('ignore')\n",
    "from IPython.display import display, HTML"
   ]
  },
  {
   "cell_type": "code",
   "execution_count": 110,
   "metadata": {},
   "outputs": [
    {
     "data": {
      "text/html": [
       "<div>\n",
       "<style scoped>\n",
       "    .dataframe tbody tr th:only-of-type {\n",
       "        vertical-align: middle;\n",
       "    }\n",
       "\n",
       "    .dataframe tbody tr th {\n",
       "        vertical-align: top;\n",
       "    }\n",
       "\n",
       "    .dataframe thead th {\n",
       "        text-align: right;\n",
       "    }\n",
       "</style>\n",
       "<table border=\"1\" class=\"dataframe\">\n",
       "  <thead>\n",
       "    <tr style=\"text-align: right;\">\n",
       "      <th></th>\n",
       "      <th>Zip Code</th>\n",
       "      <th>Smoking Prevalence</th>\n",
       "      <th>Hypertension Prevalence</th>\n",
       "      <th>Obesity Prevalence</th>\n",
       "      <th>Sedentarism Prevalence</th>\n",
       "      <th>Cholesterol Prevalence</th>\n",
       "      <th>Diabetes Prevalence</th>\n",
       "      <th>Heart Disease Prevalence</th>\n",
       "      <th>Restaurant Count</th>\n",
       "      <th>median_household_income</th>\n",
       "      <th>Population</th>\n",
       "      <th>Population Group</th>\n",
       "      <th>Restaurant Group</th>\n",
       "    </tr>\n",
       "  </thead>\n",
       "  <tbody>\n",
       "    <tr>\n",
       "      <th>0</th>\n",
       "      <td>1101</td>\n",
       "      <td>28.300000</td>\n",
       "      <td>36.400000</td>\n",
       "      <td>44.000000</td>\n",
       "      <td>46.600000</td>\n",
       "      <td>41.300000</td>\n",
       "      <td>19.300000</td>\n",
       "      <td>9.300000</td>\n",
       "      <td>2.0</td>\n",
       "      <td>NaN</td>\n",
       "      <td>NaN</td>\n",
       "      <td>NaN</td>\n",
       "      <td>NaN</td>\n",
       "    </tr>\n",
       "    <tr>\n",
       "      <th>1</th>\n",
       "      <td>1104</td>\n",
       "      <td>24.269272</td>\n",
       "      <td>33.257045</td>\n",
       "      <td>37.437441</td>\n",
       "      <td>37.721353</td>\n",
       "      <td>38.392990</td>\n",
       "      <td>14.837576</td>\n",
       "      <td>8.816472</td>\n",
       "      <td>5.0</td>\n",
       "      <td>32273.0</td>\n",
       "      <td>22865.0</td>\n",
       "      <td>20000-40000</td>\n",
       "      <td>0-7</td>\n",
       "    </tr>\n",
       "    <tr>\n",
       "      <th>2</th>\n",
       "      <td>1105</td>\n",
       "      <td>28.596151</td>\n",
       "      <td>32.879892</td>\n",
       "      <td>42.176132</td>\n",
       "      <td>43.694299</td>\n",
       "      <td>37.409454</td>\n",
       "      <td>15.840128</td>\n",
       "      <td>7.849705</td>\n",
       "      <td>4.0</td>\n",
       "      <td>18402.0</td>\n",
       "      <td>12350.0</td>\n",
       "      <td>&lt;20000</td>\n",
       "      <td>0-7</td>\n",
       "    </tr>\n",
       "    <tr>\n",
       "      <th>3</th>\n",
       "      <td>1107</td>\n",
       "      <td>25.495498</td>\n",
       "      <td>31.912761</td>\n",
       "      <td>41.052003</td>\n",
       "      <td>44.608772</td>\n",
       "      <td>38.631033</td>\n",
       "      <td>16.712049</td>\n",
       "      <td>8.234889</td>\n",
       "      <td>0.0</td>\n",
       "      <td>21737.0</td>\n",
       "      <td>11611.0</td>\n",
       "      <td>&lt;20000</td>\n",
       "      <td>0-7</td>\n",
       "    </tr>\n",
       "    <tr>\n",
       "      <th>4</th>\n",
       "      <td>1108</td>\n",
       "      <td>23.844497</td>\n",
       "      <td>30.236068</td>\n",
       "      <td>35.381122</td>\n",
       "      <td>34.251449</td>\n",
       "      <td>35.500119</td>\n",
       "      <td>12.581968</td>\n",
       "      <td>6.943035</td>\n",
       "      <td>2.0</td>\n",
       "      <td>34064.0</td>\n",
       "      <td>26688.0</td>\n",
       "      <td>20000-40000</td>\n",
       "      <td>0-7</td>\n",
       "    </tr>\n",
       "  </tbody>\n",
       "</table>\n",
       "</div>"
      ],
      "text/plain": [
       "   Zip Code  Smoking Prevalence  Hypertension Prevalence  Obesity Prevalence  \\\n",
       "0      1101           28.300000                36.400000           44.000000   \n",
       "1      1104           24.269272                33.257045           37.437441   \n",
       "2      1105           28.596151                32.879892           42.176132   \n",
       "3      1107           25.495498                31.912761           41.052003   \n",
       "4      1108           23.844497                30.236068           35.381122   \n",
       "\n",
       "   Sedentarism Prevalence  Cholesterol Prevalence  Diabetes Prevalence  \\\n",
       "0               46.600000               41.300000            19.300000   \n",
       "1               37.721353               38.392990            14.837576   \n",
       "2               43.694299               37.409454            15.840128   \n",
       "3               44.608772               38.631033            16.712049   \n",
       "4               34.251449               35.500119            12.581968   \n",
       "\n",
       "   Heart Disease Prevalence  Restaurant Count  median_household_income  \\\n",
       "0                  9.300000               2.0                      NaN   \n",
       "1                  8.816472               5.0                  32273.0   \n",
       "2                  7.849705               4.0                  18402.0   \n",
       "3                  8.234889               0.0                  21737.0   \n",
       "4                  6.943035               2.0                  34064.0   \n",
       "\n",
       "   Population Population Group Restaurant Group  \n",
       "0         NaN              NaN              NaN  \n",
       "1     22865.0      20000-40000              0-7  \n",
       "2     12350.0           <20000              0-7  \n",
       "3     11611.0           <20000              0-7  \n",
       "4     26688.0      20000-40000              0-7  "
      ]
     },
     "metadata": {},
     "output_type": "display_data"
    },
    {
     "name": "stdout",
     "output_type": "stream",
     "text": [
      "<class 'pandas.core.frame.DataFrame'>\n",
      "RangeIndex: 4793 entries, 0 to 4792\n",
      "Data columns (total 13 columns):\n",
      "Zip Code                    4793 non-null int64\n",
      "Smoking Prevalence          4793 non-null float64\n",
      "Hypertension Prevalence     4793 non-null float64\n",
      "Obesity Prevalence          4793 non-null float64\n",
      "Sedentarism Prevalence      4793 non-null float64\n",
      "Cholesterol Prevalence      4793 non-null float64\n",
      "Diabetes Prevalence         4793 non-null float64\n",
      "Heart Disease Prevalence    4793 non-null float64\n",
      "Restaurant Count            4793 non-null float64\n",
      "median_household_income     4396 non-null float64\n",
      "Population                  4396 non-null float64\n",
      "Population Group            4396 non-null object\n",
      "Restaurant Group            4396 non-null object\n",
      "dtypes: float64(10), int64(1), object(2)\n",
      "memory usage: 486.9+ KB\n"
     ]
    },
    {
     "data": {
      "text/plain": [
       "None"
      ]
     },
     "metadata": {},
     "output_type": "display_data"
    }
   ],
   "source": [
    "heart_prev = pd.read_csv(\"heart_disease.csv\")\n",
    "heart_prev.drop(\"Unnamed: 0\", axis=1, inplace=True)\n",
    "display(heart_prev.head())\n",
    "display(heart_prev.info())"
   ]
  },
  {
   "cell_type": "markdown",
   "metadata": {},
   "source": [
    "# In-depth Analysis"
   ]
  },
  {
   "cell_type": "markdown",
   "metadata": {},
   "source": [
    "The data is split into the target variable, heart disease prevalence (y), and its features (X).\n",
    "\n",
    "We will use various untuned supervised learning estimators to see which works best by default. We will then tune the top-performing estimators. The metric used for performance will be RMSE and 5-fold cross-validation with be performed.\n",
    "\n",
    "Training will be performed using 80% of the data, and 20% will be reserved for final evaluation of the model."
   ]
  },
  {
   "cell_type": "code",
   "execution_count": 111,
   "metadata": {},
   "outputs": [],
   "source": [
    "# Import split, cross validation, imputer and pipeline\n",
    "from sklearn.model_selection import train_test_split\n",
    "from sklearn.model_selection import cross_val_score\n",
    "from sklearn.metrics import mean_squared_error\n",
    "from sklearn.preprocessing import Imputer\n",
    "from sklearn.pipeline import Pipeline\n",
    "\n",
    "# Select features and target variable\n",
    "X = heart_prev.drop(columns=[\"Zip Code\", \"Heart Disease Prevalence\",\"Restaurant Count\",\n",
    "                     \"Population Group\",\"Restaurant Group\"])\n",
    "y = heart_prev[[\"Heart Disease Prevalence\"]]\n",
    "\n",
    "# Split the data into training and test sets\n",
    "X_train, X_test, y_train, y_test = train_test_split(X, y, test_size=0.2, random_state=42)"
   ]
  },
  {
   "cell_type": "code",
   "execution_count": 112,
   "metadata": {},
   "outputs": [],
   "source": [
    "# Set an imputer to fill missing values with the mean of the column\n",
    "imp = Imputer(missing_values=\"NaN\", strategy=\"mean\", axis=0)"
   ]
  },
  {
   "cell_type": "markdown",
   "metadata": {},
   "source": [
    "### Linear Regression"
   ]
  },
  {
   "cell_type": "code",
   "execution_count": 113,
   "metadata": {
    "scrolled": false
   },
   "outputs": [
    {
     "name": "stdout",
     "output_type": "stream",
     "text": [
      "Linear Regression cross validation scores:\n",
      "0.7640016006457047\n",
      "0.6163916169187618\n",
      "0.7173613585882983\n",
      "0.6456242575199426\n",
      "0.5999236046388227\n",
      "\n",
      "Average Score on 5-Folds:  0.6686604876623059\n"
     ]
    }
   ],
   "source": [
    "from sklearn.linear_model import LinearRegression\n",
    "\n",
    "est = LinearRegression()\n",
    "steps = [('Imputation',imp), (\"Estimator\",est)]\n",
    "pipeline = Pipeline(steps)\n",
    "pipeline.fit(X_train, y_train)\n",
    "\n",
    "cv_scores= cross_val_score(pipeline, X_train, y_train, cv=5, scoring=\"neg_mean_squared_error\")\n",
    "cv_scores = np.sqrt(cv_scores * -1)\n",
    "\n",
    "scores = dict()\n",
    "scores[\"Linear Regression\"] = np.mean(cv_scores)\n",
    "\n",
    "print(\"Linear Regression cross validation scores:\")\n",
    "for score in cv_scores:\n",
    "    print(score)\n",
    "    \n",
    "print(\"\\nAverage Score on 5-Folds: \", scores[\"Linear Regression\"])"
   ]
  },
  {
   "cell_type": "markdown",
   "metadata": {},
   "source": [
    "### Lasso Regression"
   ]
  },
  {
   "cell_type": "code",
   "execution_count": 114,
   "metadata": {},
   "outputs": [
    {
     "name": "stdout",
     "output_type": "stream",
     "text": [
      "Lasso Regression cross validation scores:\n",
      "0.8907985229596319\n",
      "0.6856086049982979\n",
      "0.8412855240670011\n",
      "0.7146179925453434\n",
      "0.6835626169733959\n",
      "\n",
      "Average Score on 5-Folds:  0.763174652308734\n"
     ]
    }
   ],
   "source": [
    "from sklearn.linear_model import Lasso\n",
    "\n",
    "est = Lasso(random_state=42)\n",
    "steps = [('Imputation',imp), (\"Estimator\",est)]\n",
    "pipeline = Pipeline(steps)\n",
    "pipeline.fit(X_train, y_train)\n",
    "\n",
    "cv_scores= cross_val_score(pipeline, X_train, y_train, cv=5, scoring=\"neg_mean_squared_error\")\n",
    "cv_scores = np.sqrt(cv_scores * -1)\n",
    "\n",
    "scores[\"Lasso Regression\"] = np.mean(cv_scores)\n",
    "\n",
    "print(\"Lasso Regression cross validation scores:\")\n",
    "for score in cv_scores:\n",
    "    print(score)\n",
    "    \n",
    "print(\"\\nAverage Score on 5-Folds: \", scores[\"Lasso Regression\"])"
   ]
  },
  {
   "cell_type": "markdown",
   "metadata": {},
   "source": [
    "### Ridge Regressor"
   ]
  },
  {
   "cell_type": "code",
   "execution_count": 115,
   "metadata": {},
   "outputs": [
    {
     "name": "stdout",
     "output_type": "stream",
     "text": [
      "Ridge Regression cross validation scores:\n",
      "0.7640051016423385\n",
      "0.6163893851233474\n",
      "0.7173626213449563\n",
      "0.6456231419656403\n",
      "0.5999204163478955\n",
      "\n",
      "Average Score on 5-Folds:  0.6686601332848356\n"
     ]
    }
   ],
   "source": [
    "from sklearn.linear_model import Ridge\n",
    "\n",
    "est = Ridge(random_state=42)\n",
    "steps = [('Imputation',imp), (\"Estimator\",est)]\n",
    "pipeline = Pipeline(steps)\n",
    "pipeline.fit(X_train, y_train)\n",
    "\n",
    "cv_scores= cross_val_score(pipeline, X_train, y_train, cv=5, scoring=\"neg_mean_squared_error\")\n",
    "cv_scores = np.sqrt(cv_scores * -1)\n",
    "\n",
    "scores[\"Ridge Regression\"] = np.mean(cv_scores)\n",
    "\n",
    "print(\"Ridge Regression cross validation scores:\")\n",
    "for score in cv_scores:\n",
    "    print(score)\n",
    "    \n",
    "print(\"\\nAverage Score on 5-Folds: \", scores[\"Ridge Regression\"])"
   ]
  },
  {
   "cell_type": "markdown",
   "metadata": {},
   "source": [
    "### Decision Tree"
   ]
  },
  {
   "cell_type": "code",
   "execution_count": 116,
   "metadata": {},
   "outputs": [
    {
     "name": "stdout",
     "output_type": "stream",
     "text": [
      "Decision Tree cross validation scores:\n",
      "0.7499448129814535\n",
      "0.7102485303215036\n",
      "0.8044003891453831\n",
      "0.6791831296908507\n",
      "0.6863891261764681\n",
      "\n",
      "Average Score on 5-Folds:  0.7260331976631318\n"
     ]
    }
   ],
   "source": [
    "from sklearn import tree\n",
    "\n",
    "est = tree.DecisionTreeRegressor(max_depth=6, random_state=42)\n",
    "steps = [('Imputation',imp), (\"Estimator\",est)]\n",
    "pipeline = Pipeline(steps)\n",
    "pipeline.fit(X_train, y_train)\n",
    "\n",
    "cv_scores= cross_val_score(pipeline, X_train, y_train, cv=5, scoring=\"neg_mean_squared_error\")\n",
    "cv_scores = np.sqrt(cv_scores * -1)\n",
    "\n",
    "scores[\"Decision Tree\"] = np.mean(cv_scores)\n",
    "\n",
    "print(\"Decision Tree cross validation scores:\")\n",
    "for score in cv_scores:\n",
    "    print(score)\n",
    "    \n",
    "print(\"\\nAverage Score on 5-Folds: \", scores[\"Decision Tree\"])"
   ]
  },
  {
   "cell_type": "markdown",
   "metadata": {},
   "source": [
    "### Random Forest"
   ]
  },
  {
   "cell_type": "code",
   "execution_count": 117,
   "metadata": {},
   "outputs": [
    {
     "name": "stdout",
     "output_type": "stream",
     "text": [
      "Random Forest cross validation scores:\n",
      "0.6718676301591144\n",
      "0.5682017723110987\n",
      "0.6573881749276649\n",
      "0.5948843181933481\n",
      "0.600415530874406\n",
      "\n",
      "Average Score on 5-Folds:  0.6185514852931264\n"
     ]
    }
   ],
   "source": [
    "from sklearn.ensemble import RandomForestRegressor\n",
    "\n",
    "est = RandomForestRegressor(random_state=42)\n",
    "steps = [('Imputation',imp), (\"Estimator\",est)]\n",
    "pipeline = Pipeline(steps)\n",
    "pipeline.fit(X_train, y_train)\n",
    "\n",
    "cv_scores= cross_val_score(pipeline, X_train, y_train, cv=5, scoring=\"neg_mean_squared_error\")\n",
    "cv_scores = np.sqrt(cv_scores * -1)\n",
    "\n",
    "scores[\"Random Forest\"] = np.mean(cv_scores)\n",
    "\n",
    "print(\"Random Forest cross validation scores:\")\n",
    "for score in cv_scores:\n",
    "    print(score)\n",
    "    \n",
    "print(\"\\nAverage Score on 5-Folds: \", scores[\"Random Forest\"])"
   ]
  },
  {
   "cell_type": "markdown",
   "metadata": {},
   "source": [
    "### Adaptive Boost Regressor"
   ]
  },
  {
   "cell_type": "code",
   "execution_count": 118,
   "metadata": {},
   "outputs": [
    {
     "name": "stdout",
     "output_type": "stream",
     "text": [
      "AdaBoost cross validation scores:\n",
      "0.6742929900376747\n",
      "0.5871803151013911\n",
      "0.7201831220092996\n",
      "0.5987618312110783\n",
      "0.601410061504931\n",
      "\n",
      "Average Score on 5-Folds:  0.636365663972875\n"
     ]
    }
   ],
   "source": [
    "from sklearn.ensemble import AdaBoostRegressor\n",
    "\n",
    "est = AdaBoostRegressor(base_estimator=trees, random_state=42)\n",
    "steps = [('Imputation',imp), (\"Estimator\",est)]\n",
    "pipeline = Pipeline(steps)\n",
    "pipeline.fit(X_train, y_train)\n",
    "\n",
    "cv_scores= cross_val_score(pipeline, X_train, y_train, cv=5, scoring=\"neg_mean_squared_error\")\n",
    "cv_scores = np.sqrt(cv_scores * -1)\n",
    "\n",
    "scores[\"AdaBoost\"] = np.mean(cv_scores)\n",
    "\n",
    "print(\"AdaBoost cross validation scores:\")\n",
    "for score in cv_scores:\n",
    "    print(score)\n",
    "    \n",
    "print(\"\\nAverage Score on 5-Folds: \", scores[\"AdaBoost\"])"
   ]
  },
  {
   "cell_type": "markdown",
   "metadata": {},
   "source": [
    "### Gradient Boost Regressor"
   ]
  },
  {
   "cell_type": "code",
   "execution_count": 119,
   "metadata": {},
   "outputs": [
    {
     "name": "stdout",
     "output_type": "stream",
     "text": [
      "Gradient Boost Regressor cross validation scores:\n",
      "0.6466555426856201\n",
      "0.5635748594739578\n",
      "0.6134600065917547\n",
      "0.5652586211118632\n",
      "0.5822141303440007\n",
      "\n",
      "Average Score on 5-Folds:  0.5942326320414393\n"
     ]
    }
   ],
   "source": [
    "from sklearn.ensemble import GradientBoostingRegressor\n",
    "\n",
    "est = GradientBoostingRegressor(random_state=42)\n",
    "steps = [('Imputation',imp), (\"Estimator\",est)]\n",
    "pipeline = Pipeline(steps)\n",
    "pipeline.fit(X_train, y_train)\n",
    "\n",
    "cv_scores= cross_val_score(pipeline, X_train, y_train, cv=5, scoring=\"neg_mean_squared_error\")\n",
    "cv_scores = np.sqrt(cv_scores * -1)\n",
    "\n",
    "scores[\"Gradient Boost Regressor\"] = np.mean(cv_scores)\n",
    "\n",
    "print(\"Gradient Boost Regressor cross validation scores:\")\n",
    "for score in cv_scores:\n",
    "    print(score)\n",
    "    \n",
    "print(\"\\nAverage Score on 5-Folds: \", scores[\"Gradient Boost Regressor\"])"
   ]
  },
  {
   "cell_type": "markdown",
   "metadata": {},
   "source": [
    "### Elastic Net"
   ]
  },
  {
   "cell_type": "code",
   "execution_count": 120,
   "metadata": {},
   "outputs": [
    {
     "name": "stdout",
     "output_type": "stream",
     "text": [
      "Elastic Net cross validation scores:\n",
      "0.864086471141114\n",
      "0.662029161647935\n",
      "0.8038975340387998\n",
      "0.6933738349128076\n",
      "0.6612875130534176\n",
      "\n",
      "Average Score on 5-Folds:  0.7369349029588148\n"
     ]
    }
   ],
   "source": [
    "from sklearn.linear_model import ElasticNet\n",
    "\n",
    "est = ElasticNet()\n",
    "steps = [('Imputation',imp), (\"Estimator\",est)]\n",
    "pipeline = Pipeline(steps)\n",
    "pipeline.fit(X_train, y_train)\n",
    "\n",
    "cv_scores= cross_val_score(pipeline, X_train, y_train, cv=5, scoring=\"neg_mean_squared_error\")\n",
    "cv_scores = np.sqrt(cv_scores * -1)\n",
    "\n",
    "scores[\"Elastic Net\"] = np.mean(cv_scores)\n",
    "\n",
    "print(\"Elastic Net cross validation scores:\")\n",
    "for score in cv_scores:\n",
    "    print(score)\n",
    "    \n",
    "print(\"\\nAverage Score on 5-Folds: \", scores[\"Elastic Net\"])"
   ]
  },
  {
   "cell_type": "markdown",
   "metadata": {},
   "source": [
    "### Summary of un-tuned scores"
   ]
  },
  {
   "cell_type": "markdown",
   "metadata": {},
   "source": [
    "A gradient boost regressor had the best default performance at 0.594 RMSE. The random forest performed similarly well at 0.619 RMSE. Both estimators should be evaluated for improved performance through tuning."
   ]
  },
  {
   "cell_type": "code",
   "execution_count": 121,
   "metadata": {},
   "outputs": [
    {
     "name": "stdout",
     "output_type": "stream",
     "text": [
      "Gradient Boost Regressor :  0.5942326320414393\n",
      "Random Forest :  0.6185514852931264\n",
      "AdaBoost :  0.636365663972875\n",
      "Ridge Regression :  0.6686601332848356\n",
      "Linear Regression :  0.6686604876623059\n",
      "Decision Tree :  0.7260331976631318\n",
      "Elastic Net :  0.7369349029588148\n",
      "Lasso Regression :  0.763174652308734\n"
     ]
    }
   ],
   "source": [
    "scores = sorted(scores.items(), key= lambda score: score[1], reverse=False)\n",
    "for k,v in scores:\n",
    "    print(k,\": \",v)"
   ]
  },
  {
   "cell_type": "markdown",
   "metadata": {},
   "source": [
    "## Hyperparamenter Tuning"
   ]
  },
  {
   "cell_type": "markdown",
   "metadata": {},
   "source": [
    "The top two performing estimators, gradient boost and random forests, will be tuned and re-evaluated using RMSE scoring."
   ]
  },
  {
   "cell_type": "markdown",
   "metadata": {},
   "source": [
    "### Tuned Gradient Boost Regression"
   ]
  },
  {
   "cell_type": "code",
   "execution_count": 122,
   "metadata": {},
   "outputs": [
    {
     "name": "stdout",
     "output_type": "stream",
     "text": [
      "Best parameters:\n",
      "---------------\n",
      "GBR__max_depth :  3\n",
      "GBR__n_estimators :  500\n",
      "\n",
      "Best score:  0.5832507906770045\n"
     ]
    }
   ],
   "source": [
    "from sklearn.model_selection import GridSearchCV\n",
    "\n",
    "steps = [(\"Imputation\",imp),(\"GBR\", GradientBoostingRegressor(random_state=42))]\n",
    "pipeline = Pipeline(steps)\n",
    "\n",
    "params = {\"GBR__n_estimators\":[100, 200, 500],\n",
    "          \"GBR__max_depth\":[3, 5]}\n",
    "\n",
    "cv = GridSearchCV(pipeline, param_grid=params, cv=5, scoring=\"neg_mean_squared_error\")\n",
    "cv.fit(X_train, y_train)\n",
    "\n",
    "cv_param = cv.best_params_\n",
    "cv_score = np.sqrt(cv.best_score_ * -1)\n",
    "\n",
    "print(\"Best parameters:\\n---------------\")\n",
    "for k,v in cv_param.items():\n",
    "    print(k,\": \",v)\n",
    "print(\"\\nBest score: \", cv_score)"
   ]
  },
  {
   "cell_type": "markdown",
   "metadata": {},
   "source": [
    "### Tuned Random Forest"
   ]
  },
  {
   "cell_type": "code",
   "execution_count": 123,
   "metadata": {},
   "outputs": [
    {
     "name": "stdout",
     "output_type": "stream",
     "text": [
      "Best parameters:\n",
      "---------------\n",
      "forest__max_depth :  7\n",
      "forest__n_estimators :  100\n",
      "\n",
      "Best score:  0.6134229789481772\n"
     ]
    }
   ],
   "source": [
    "steps = [(\"Imputation\",imp),(\"forest\", RandomForestRegressor(random_state=42))]\n",
    "pipeline = Pipeline(steps)\n",
    "\n",
    "params = {\"forest__n_estimators\": [1, 5, 10, 50, 100, 200],\n",
    "          \"forest__max_depth\": [3, 5, 7]}\n",
    " \n",
    "cv = GridSearchCV(pipeline, param_grid=params, cv=5, scoring=\"neg_mean_squared_error\")\n",
    "cv.fit(X_train, y_train)\n",
    "\n",
    "cv_param = cv.best_params_\n",
    "cv_score = np.sqrt(cv.best_score_ * -1)\n",
    "\n",
    "print(\"Best parameters:\\n---------------\")\n",
    "for k,v in cv_param.items():\n",
    "    print(k,\": \",v)\n",
    "print(\"\\nBest score: \", cv_score)"
   ]
  },
  {
   "cell_type": "markdown",
   "metadata": {},
   "source": [
    "Gradient boost regression provides the best score before and after tuning, with a final RMSE of 0.583."
   ]
  },
  {
   "cell_type": "markdown",
   "metadata": {},
   "source": [
    "## Feature importance"
   ]
  },
  {
   "cell_type": "markdown",
   "metadata": {},
   "source": [
    "Now we examine which features provide the most predictive value for the model using Mutual Information scoring."
   ]
  },
  {
   "cell_type": "code",
   "execution_count": 124,
   "metadata": {},
   "outputs": [
    {
     "name": "stdout",
     "output_type": "stream",
     "text": [
      "Hypertension Prevalence :  90.73551393625196\n",
      "Cholesterol Prevalence :  90.6619534586751\n",
      "Diabetes Prevalence :  82.46411171267738\n",
      "Sedentarism Prevalence :  36.33650316651522\n",
      "median_household_income :  32.65051228000697\n",
      "Obesity Prevalence :  28.60468874300306\n",
      "Smoking Prevalence :  26.245806458804655\n",
      "Population :  13.042364120066896\n"
     ]
    }
   ],
   "source": [
    "from sklearn.feature_selection import SelectKBest\n",
    "from sklearn.feature_selection import mutual_info_regression\n",
    "\n",
    "kbest=SelectKBest(score_func=mutual_info_regression, k=5)\n",
    "\n",
    "steps = [(\"Imputation\",imp),(\"Select K Best\",kbest)]\n",
    "pipeline = Pipeline(steps)\n",
    "\n",
    "pipeline.fit(X, y)\n",
    "\n",
    "feature_names = X.columns\n",
    "feature_scores = list(zip(feature_names, kbest.scores_))\n",
    "\n",
    "feature_scores.sort(key=lambda x:x[1], reverse=True)\n",
    "\n",
    "for f,s in feature_scores[:10]:\n",
    "    print(f,\": \",s*100)"
   ]
  },
  {
   "cell_type": "code",
   "execution_count": 125,
   "metadata": {},
   "outputs": [
    {
     "data": {
      "image/png": "[encoded data removed]",
      "text/plain": [
       "<Figure size 1440x360 with 1 Axes>"
      ]
     },
     "metadata": {},
     "output_type": "display_data"
    }
   ],
   "source": [
    "feature = []\n",
    "score = []\n",
    "for f,s in feature_scores:\n",
    "    feature.append(f)\n",
    "    score.append(s)\n",
    "    \n",
    "plt.subplots(figsize=(20,5))\n",
    "plot = sns.barplot(feature, score, palette=\"Reds_r\")\n",
    "plot.set(title=\"Feature Importance\",xlabel=\"Feature\",ylabel=\"Mutual Information Score\",)\n",
    "plt.show()"
   ]
  },
  {
   "cell_type": "markdown",
   "metadata": {},
   "source": [
    "Heart disease's well-known risk factors are the strongest predictors as expected. Median household income is approximately as strong of a predictor as well-known risk factors, smoking and obesity. Population contributes minimally to prediction."
   ]
  },
  {
   "cell_type": "markdown",
   "metadata": {},
   "source": [
    "## Final Results"
   ]
  },
  {
   "cell_type": "markdown",
   "metadata": {},
   "source": [
    "The tuned gradient boost model will now be used on the test set as an evaluation of performance on unseen data."
   ]
  },
  {
   "cell_type": "code",
   "execution_count": 126,
   "metadata": {},
   "outputs": [
    {
     "name": "stdout",
     "output_type": "stream",
     "text": [
      "Training set R2: 94.60031133765409\n",
      "Training set RMSE: 0.45124349752441806\n",
      "\n",
      "\n",
      "Test set R2: 89.8154997049631\n",
      "Test set RMSE: 0.5948501246661551\n"
     ]
    }
   ],
   "source": [
    "gbr = GradientBoostingRegressor(random_state=42, n_estimators=200, max_depth=3)\n",
    "\n",
    "steps = [(\"Imputation\",imp),(\"Estimator\",gbr)]\n",
    "pipeline = Pipeline(steps)\n",
    "\n",
    "pipeline.fit(X_train, y_train)\n",
    "\n",
    "y_pred_train = pipeline.predict(X_train)\n",
    "y_pred_test = pipeline.predict(X_test)\n",
    "\n",
    "train_r2 = pipeline.score(X_train, y_train)\n",
    "train_rmse = np.sqrt(mean_squared_error(y_train,y_pred_train))\n",
    "\n",
    "test_r2 = pipeline.score(X_test, y_test)\n",
    "test_rmse = np.sqrt(mean_squared_error(y_test,y_pred_test))\n",
    "\n",
    "\n",
    "print(\"Training set R2: {}\".format(train_r2*100))\n",
    "print(\"Training set RMSE: {}\".format(train_rmse))\n",
    "print(\"\\n\")\n",
    "print(\"Test set R2: {}\".format(test_r2*100))\n",
    "print(\"Test set RMSE: {}\".format(test_rmse))"
   ]
  },
  {
   "cell_type": "markdown",
   "metadata": {},
   "source": [
    "The model shows good R2 and RMSE scores on both the training and the test sets. This model is expected to perform well on other unseen data."
   ]
  },
  {
   "cell_type": "markdown",
   "metadata": {},
   "source": [
    "## Recommendation"
   ]
  },
  {
   "cell_type": "markdown",
   "metadata": {},
   "source": [
    "The model examines the impact of two socioeconomic factors (household income and population) on disease prevalence. This model can be taken further by incorporating other socioeconomic features such distance and means of transportation to work, education levels and home values.\n",
    "\n",
    "Additionally, the model may also provide more insight using an updated dataset for fast food restaurant locations within the US."
   ]
  },
  {
   "cell_type": "code",
   "execution_count": null,
   "metadata": {},
   "outputs": [],
   "source": []
  }
 ],
 "metadata": {
  "kernelspec": {
   "display_name": "Python 3",
   "language": "python",
   "name": "python3"
  },
  "language_info": {
   "codemirror_mode": {
    "name": "ipython",
    "version": 3
   },
   "file_extension": ".py",
   "mimetype": "text/x-python",
   "name": "python",
   "nbconvert_exporter": "python",
   "pygments_lexer": "ipython3",
   "version": "3.7.1"
  }
 },
 "nbformat": 4,
 "nbformat_minor": 2
}
